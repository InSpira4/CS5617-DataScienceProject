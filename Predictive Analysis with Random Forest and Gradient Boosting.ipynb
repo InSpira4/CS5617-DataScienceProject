{
 "cells": [
  {
   "cell_type": "code",
   "execution_count": 61,
   "metadata": {},
   "outputs": [],
   "source": [
    "import numpy as np\n",
    "import pandas as pd\n",
    "import seaborn as sns\n",
    "import matplotlib.pyplot as plt\n",
    "%matplotlib inline\n",
    "from sklearn.model_selection import train_test_split"
   ]
  },
  {
   "cell_type": "code",
   "execution_count": 62,
   "metadata": {},
   "outputs": [],
   "source": [
    "from sklearn.ensemble import RandomForestClassifier\n",
    "from sklearn.feature_selection import SelectFromModel\n",
    "from sklearn.metrics import accuracy_score\n",
    "from sklearn import  preprocessing # used for label encoding and imputing NaNs"
   ]
  },
  {
   "cell_type": "code",
   "execution_count": 63,
   "metadata": {},
   "outputs": [
    {
     "data": {
      "text/html": [
       "<div>\n",
       "<style scoped>\n",
       "    .dataframe tbody tr th:only-of-type {\n",
       "        vertical-align: middle;\n",
       "    }\n",
       "\n",
       "    .dataframe tbody tr th {\n",
       "        vertical-align: top;\n",
       "    }\n",
       "\n",
       "    .dataframe thead th {\n",
       "        text-align: right;\n",
       "    }\n",
       "</style>\n",
       "<table border=\"1\" class=\"dataframe\">\n",
       "  <thead>\n",
       "    <tr style=\"text-align: right;\">\n",
       "      <th></th>\n",
       "      <th>Ticket Number</th>\n",
       "      <th>DateOfService</th>\n",
       "      <th>CarrierCode</th>\n",
       "      <th>Charges</th>\n",
       "      <th>Payments</th>\n",
       "      <th>InsurancePayment</th>\n",
       "      <th>PatientPayment</th>\n",
       "      <th>Writeoffs</th>\n",
       "      <th>InsuranceBal</th>\n",
       "      <th>PatientBal</th>\n",
       "      <th>...</th>\n",
       "      <th>CPT</th>\n",
       "      <th>DateOfEntry</th>\n",
       "      <th>PaymentPostDate</th>\n",
       "      <th>NPI</th>\n",
       "      <th>OrderingClinic</th>\n",
       "      <th>DeniedCode</th>\n",
       "      <th>FirstBilledDate</th>\n",
       "      <th>ProviderProfile</th>\n",
       "      <th>CaseCount</th>\n",
       "      <th>accepted</th>\n",
       "    </tr>\n",
       "  </thead>\n",
       "  <tbody>\n",
       "    <tr>\n",
       "      <th>0</th>\n",
       "      <td>104452</td>\n",
       "      <td>1/2/2019</td>\n",
       "      <td>CFHP-E2</td>\n",
       "      <td>3900</td>\n",
       "      <td>0.0</td>\n",
       "      <td>0.0</td>\n",
       "      <td>0.0</td>\n",
       "      <td>0.0</td>\n",
       "      <td>0.0</td>\n",
       "      <td>3900.0</td>\n",
       "      <td>...</td>\n",
       "      <td>81507</td>\n",
       "      <td>1/7/2019</td>\n",
       "      <td>1/22/2019</td>\n",
       "      <td>1316428238</td>\n",
       "      <td>ALAMO WOMEN'S OBGYN</td>\n",
       "      <td>197</td>\n",
       "      <td>1/8/2019</td>\n",
       "      <td>NTINC</td>\n",
       "      <td>1</td>\n",
       "      <td>False</td>\n",
       "    </tr>\n",
       "    <tr>\n",
       "      <th>1</th>\n",
       "      <td>104453</td>\n",
       "      <td>1/2/2019</td>\n",
       "      <td>CFHP-E2</td>\n",
       "      <td>3900</td>\n",
       "      <td>0.0</td>\n",
       "      <td>0.0</td>\n",
       "      <td>0.0</td>\n",
       "      <td>0.0</td>\n",
       "      <td>0.0</td>\n",
       "      <td>3900.0</td>\n",
       "      <td>...</td>\n",
       "      <td>81507</td>\n",
       "      <td>1/7/2019</td>\n",
       "      <td>1/24/2019</td>\n",
       "      <td>1316428238</td>\n",
       "      <td>ALAMO WOMEN'S OBGYN</td>\n",
       "      <td>197</td>\n",
       "      <td>1/8/2019</td>\n",
       "      <td>NTINC</td>\n",
       "      <td>1</td>\n",
       "      <td>False</td>\n",
       "    </tr>\n",
       "    <tr>\n",
       "      <th>2</th>\n",
       "      <td>104454</td>\n",
       "      <td>1/2/2019</td>\n",
       "      <td>NCS</td>\n",
       "      <td>795</td>\n",
       "      <td>249.0</td>\n",
       "      <td>0.0</td>\n",
       "      <td>249.0</td>\n",
       "      <td>546.0</td>\n",
       "      <td>0.0</td>\n",
       "      <td>0.0</td>\n",
       "      <td>...</td>\n",
       "      <td>99999</td>\n",
       "      <td>1/7/2019</td>\n",
       "      <td>2/10/2019</td>\n",
       "      <td>1699760116</td>\n",
       "      <td>COMPREHENSIVE WOMEN'S HEALTHCARE</td>\n",
       "      <td>-</td>\n",
       "      <td>NaN</td>\n",
       "      <td>NTINC</td>\n",
       "      <td>1</td>\n",
       "      <td>True</td>\n",
       "    </tr>\n",
       "    <tr>\n",
       "      <th>3</th>\n",
       "      <td>104496</td>\n",
       "      <td>1/2/2019</td>\n",
       "      <td>AETLIF-E</td>\n",
       "      <td>3900</td>\n",
       "      <td>0.0</td>\n",
       "      <td>0.0</td>\n",
       "      <td>0.0</td>\n",
       "      <td>0.0</td>\n",
       "      <td>3900.0</td>\n",
       "      <td>0.0</td>\n",
       "      <td>...</td>\n",
       "      <td>81420</td>\n",
       "      <td>1/7/2019</td>\n",
       "      <td>1/28/2019</td>\n",
       "      <td>1609216597</td>\n",
       "      <td>PEACHTREE WOMEN'S CLINIC - NORTHSIDE</td>\n",
       "      <td>-</td>\n",
       "      <td>1/8/2019</td>\n",
       "      <td>NTINC</td>\n",
       "      <td>1</td>\n",
       "      <td>True</td>\n",
       "    </tr>\n",
       "    <tr>\n",
       "      <th>4</th>\n",
       "      <td>104497</td>\n",
       "      <td>1/2/2019</td>\n",
       "      <td>AETLIF-E</td>\n",
       "      <td>3900</td>\n",
       "      <td>0.0</td>\n",
       "      <td>0.0</td>\n",
       "      <td>0.0</td>\n",
       "      <td>0.0</td>\n",
       "      <td>3900.0</td>\n",
       "      <td>0.0</td>\n",
       "      <td>...</td>\n",
       "      <td>81420</td>\n",
       "      <td>1/7/2019</td>\n",
       "      <td>1/30/2019</td>\n",
       "      <td>1609216597</td>\n",
       "      <td>PEACHTREE WOMEN'S CLINIC - NORTHSIDE</td>\n",
       "      <td>-</td>\n",
       "      <td>1/8/2019</td>\n",
       "      <td>NTINC</td>\n",
       "      <td>1</td>\n",
       "      <td>True</td>\n",
       "    </tr>\n",
       "  </tbody>\n",
       "</table>\n",
       "<p>5 rows × 22 columns</p>\n",
       "</div>"
      ],
      "text/plain": [
       "   Ticket Number DateOfService CarrierCode  Charges  Payments  \\\n",
       "0         104452      1/2/2019     CFHP-E2     3900       0.0   \n",
       "1         104453      1/2/2019     CFHP-E2     3900       0.0   \n",
       "2         104454      1/2/2019         NCS      795     249.0   \n",
       "3         104496      1/2/2019    AETLIF-E     3900       0.0   \n",
       "4         104497      1/2/2019    AETLIF-E     3900       0.0   \n",
       "\n",
       "   InsurancePayment  PatientPayment  Writeoffs  InsuranceBal  PatientBal  ...  \\\n",
       "0               0.0             0.0        0.0           0.0      3900.0  ...   \n",
       "1               0.0             0.0        0.0           0.0      3900.0  ...   \n",
       "2               0.0           249.0      546.0           0.0         0.0  ...   \n",
       "3               0.0             0.0        0.0        3900.0         0.0  ...   \n",
       "4               0.0             0.0        0.0        3900.0         0.0  ...   \n",
       "\n",
       "     CPT DateOfEntry PaymentPostDate         NPI  \\\n",
       "0  81507    1/7/2019       1/22/2019  1316428238   \n",
       "1  81507    1/7/2019       1/24/2019  1316428238   \n",
       "2  99999    1/7/2019       2/10/2019  1699760116   \n",
       "3  81420    1/7/2019       1/28/2019  1609216597   \n",
       "4  81420    1/7/2019       1/30/2019  1609216597   \n",
       "\n",
       "                         OrderingClinic  DeniedCode FirstBilledDate  \\\n",
       "0                   ALAMO WOMEN'S OBGYN         197        1/8/2019   \n",
       "1                   ALAMO WOMEN'S OBGYN         197        1/8/2019   \n",
       "2      COMPREHENSIVE WOMEN'S HEALTHCARE           -             NaN   \n",
       "3  PEACHTREE WOMEN'S CLINIC - NORTHSIDE           -        1/8/2019   \n",
       "4  PEACHTREE WOMEN'S CLINIC - NORTHSIDE           -        1/8/2019   \n",
       "\n",
       "  ProviderProfile CaseCount accepted  \n",
       "0           NTINC         1    False  \n",
       "1           NTINC         1    False  \n",
       "2           NTINC         1     True  \n",
       "3           NTINC         1     True  \n",
       "4           NTINC         1     True  \n",
       "\n",
       "[5 rows x 22 columns]"
      ]
     },
     "execution_count": 63,
     "metadata": {},
     "output_type": "execute_result"
    }
   ],
   "source": [
    "claimsdata = pd.read_csv(\"processedData.csv\")\n",
    "claimsdata.head()"
   ]
  },
  {
   "cell_type": "code",
   "execution_count": 64,
   "metadata": {},
   "outputs": [
    {
     "data": {
      "text/plain": [
       "(22696, 22)"
      ]
     },
     "execution_count": 64,
     "metadata": {},
     "output_type": "execute_result"
    }
   ],
   "source": [
    "claimsdata.shape"
   ]
  },
  {
   "cell_type": "code",
   "execution_count": 65,
   "metadata": {},
   "outputs": [
    {
     "name": "stdout",
     "output_type": "stream",
     "text": [
      "<class 'pandas.core.frame.DataFrame'>\n",
      "RangeIndex: 22696 entries, 0 to 22695\n",
      "Data columns (total 22 columns):\n",
      " #   Column            Non-Null Count  Dtype  \n",
      "---  ------            --------------  -----  \n",
      " 0   Ticket Number     22696 non-null  int64  \n",
      " 1   DateOfService     22696 non-null  object \n",
      " 2   CarrierCode       22696 non-null  object \n",
      " 3   Charges           22696 non-null  int64  \n",
      " 4   Payments          22696 non-null  float64\n",
      " 5   InsurancePayment  22696 non-null  float64\n",
      " 6   PatientPayment    22696 non-null  float64\n",
      " 7   Writeoffs         22696 non-null  float64\n",
      " 8   InsuranceBal      22696 non-null  float64\n",
      " 9   PatientBal        22696 non-null  float64\n",
      " 10  AllowedAmount     22696 non-null  float64\n",
      " 11  FinancialClass    22696 non-null  object \n",
      " 12  CPT               22696 non-null  object \n",
      " 13  DateOfEntry       22696 non-null  object \n",
      " 14  PaymentPostDate   22696 non-null  object \n",
      " 15  NPI               22696 non-null  int64  \n",
      " 16  OrderingClinic    22690 non-null  object \n",
      " 17  DeniedCode        22696 non-null  object \n",
      " 18  FirstBilledDate   22562 non-null  object \n",
      " 19  ProviderProfile   22696 non-null  object \n",
      " 20  CaseCount         22696 non-null  int64  \n",
      " 21  accepted          22696 non-null  bool   \n",
      "dtypes: bool(1), float64(7), int64(4), object(10)\n",
      "memory usage: 3.7+ MB\n"
     ]
    }
   ],
   "source": [
    "claimsdata.info()"
   ]
  },
  {
   "cell_type": "code",
   "execution_count": 66,
   "metadata": {},
   "outputs": [],
   "source": [
    "claimsdata['NPI'] = claimsdata['NPI'].astype('object')"
   ]
  },
  {
   "cell_type": "code",
   "execution_count": 181,
   "metadata": {},
   "outputs": [],
   "source": [
    "X = claimsdata.drop(['Ticket Number', 'CaseCount', 'PatientPayment', 'InsurancePayment', 'DateOfService', 'FirstBilledDate', 'DeniedCode', 'PaymentPostDate', 'DateOfEntry', 'PatientBal', 'InsuranceBal', 'accepted'], axis=1)\n",
    "y = claimsdata['accepted']"
   ]
  },
  {
   "cell_type": "code",
   "execution_count": 182,
   "metadata": {},
   "outputs": [
    {
     "name": "stdout",
     "output_type": "stream",
     "text": [
      "<class 'pandas.core.frame.DataFrame'>\n",
      "RangeIndex: 22696 entries, 0 to 22695\n",
      "Data columns (total 10 columns):\n",
      " #   Column           Non-Null Count  Dtype  \n",
      "---  ------           --------------  -----  \n",
      " 0   CarrierCode      22696 non-null  object \n",
      " 1   Charges          22696 non-null  int64  \n",
      " 2   Payments         22696 non-null  float64\n",
      " 3   Writeoffs        22696 non-null  float64\n",
      " 4   AllowedAmount    22696 non-null  float64\n",
      " 5   FinancialClass   22696 non-null  object \n",
      " 6   CPT              22696 non-null  object \n",
      " 7   NPI              22696 non-null  object \n",
      " 8   OrderingClinic   22690 non-null  object \n",
      " 9   ProviderProfile  22696 non-null  object \n",
      "dtypes: float64(3), int64(1), object(6)\n",
      "memory usage: 1.7+ MB\n"
     ]
    }
   ],
   "source": [
    "X.info()"
   ]
  },
  {
   "cell_type": "code",
   "execution_count": 183,
   "metadata": {},
   "outputs": [],
   "source": [
    "for c in X.columns:\n",
    "    if X[c].dtype == 'object':\n",
    "        lbl = preprocessing.LabelEncoder()\n",
    "        lbl.fit(list(X[c].values)) \n",
    "        X[c] = lbl.transform(list(X[c].values))"
   ]
  },
  {
   "cell_type": "code",
   "execution_count": 184,
   "metadata": {},
   "outputs": [
    {
     "name": "stdout",
     "output_type": "stream",
     "text": [
      "<class 'pandas.core.frame.DataFrame'>\n",
      "RangeIndex: 22696 entries, 0 to 22695\n",
      "Data columns (total 10 columns):\n",
      " #   Column           Non-Null Count  Dtype  \n",
      "---  ------           --------------  -----  \n",
      " 0   CarrierCode      22696 non-null  int64  \n",
      " 1   Charges          22696 non-null  int64  \n",
      " 2   Payments         22696 non-null  float64\n",
      " 3   Writeoffs        22696 non-null  float64\n",
      " 4   AllowedAmount    22696 non-null  float64\n",
      " 5   FinancialClass   22696 non-null  int64  \n",
      " 6   CPT              22696 non-null  int64  \n",
      " 7   NPI              22696 non-null  int64  \n",
      " 8   OrderingClinic   22696 non-null  int64  \n",
      " 9   ProviderProfile  22696 non-null  int64  \n",
      "dtypes: float64(3), int64(7)\n",
      "memory usage: 1.7 MB\n"
     ]
    }
   ],
   "source": [
    "X.info()"
   ]
  },
  {
   "cell_type": "code",
   "execution_count": 185,
   "metadata": {},
   "outputs": [],
   "source": [
    "\n",
    "X_train, X_test, y_train, y_test = train_test_split(X, y, test_size = 0.20)"
   ]
  },
  {
   "cell_type": "markdown",
   "metadata": {},
   "source": [
    "Check the records for Training and testing data sets"
   ]
  },
  {
   "cell_type": "code",
   "execution_count": 186,
   "metadata": {},
   "outputs": [
    {
     "data": {
      "text/plain": [
       "(18156, 10)"
      ]
     },
     "execution_count": 186,
     "metadata": {},
     "output_type": "execute_result"
    }
   ],
   "source": [
    "X_train.shape"
   ]
  },
  {
   "cell_type": "code",
   "execution_count": 187,
   "metadata": {},
   "outputs": [
    {
     "data": {
      "text/plain": [
       "(4540, 10)"
      ]
     },
     "execution_count": 187,
     "metadata": {},
     "output_type": "execute_result"
    }
   ],
   "source": [
    "X_test.shape"
   ]
  },
  {
   "cell_type": "code",
   "execution_count": 188,
   "metadata": {},
   "outputs": [],
   "source": [
    "###Feature selection by Random Forest Classifier"
   ]
  },
  {
   "cell_type": "code",
   "execution_count": 189,
   "metadata": {},
   "outputs": [
    {
     "data": {
      "text/plain": [
       "array([ True, False,  True,  True,  True, False, False,  True,  True,\n",
       "       False])"
      ]
     },
     "execution_count": 189,
     "metadata": {},
     "output_type": "execute_result"
    }
   ],
   "source": [
    "randomForestselect = SelectFromModel(RandomForestClassifier(n_estimators=100, random_state=0, n_jobs=-1))\n",
    "randomForestselect.fit(X_train, y_train)\n",
    "randomForestselect.get_support() #selected vs not selected features"
   ]
  },
  {
   "cell_type": "code",
   "execution_count": 190,
   "metadata": {},
   "outputs": [],
   "source": [
    "features = X_train.columns[randomForestselect.get_support()]"
   ]
  },
  {
   "cell_type": "code",
   "execution_count": 191,
   "metadata": {},
   "outputs": [
    {
     "data": {
      "text/plain": [
       "Index(['CarrierCode', 'Payments', 'Writeoffs', 'AllowedAmount', 'NPI',\n",
       "       'OrderingClinic'],\n",
       "      dtype='object')"
      ]
     },
     "execution_count": 191,
     "metadata": {},
     "output_type": "execute_result"
    }
   ],
   "source": [
    "features"
   ]
  },
  {
   "cell_type": "code",
   "execution_count": 192,
   "metadata": {},
   "outputs": [
    {
     "data": {
      "text/plain": [
       "6"
      ]
     },
     "execution_count": 192,
     "metadata": {},
     "output_type": "execute_result"
    }
   ],
   "source": [
    "len(features)"
   ]
  },
  {
   "cell_type": "code",
   "execution_count": 193,
   "metadata": {},
   "outputs": [
    {
     "data": {
      "text/plain": [
       "0.1"
      ]
     },
     "execution_count": 193,
     "metadata": {},
     "output_type": "execute_result"
    }
   ],
   "source": [
    "np.mean(randomForestselect.estimator_.feature_importances_)"
   ]
  },
  {
   "cell_type": "code",
   "execution_count": 194,
   "metadata": {},
   "outputs": [
    {
     "data": {
      "text/plain": [
       "array([0.14393163, 0.04745443, 0.22323687, 0.12524939, 0.15921636,\n",
       "       0.03344602, 0.05648723, 0.10092677, 0.10825635, 0.00179495])"
      ]
     },
     "execution_count": 194,
     "metadata": {},
     "output_type": "execute_result"
    }
   ],
   "source": [
    "randomForestselect.estimator_.feature_importances_"
   ]
  },
  {
   "cell_type": "code",
   "execution_count": 195,
   "metadata": {},
   "outputs": [],
   "source": [
    "X_train_rfc = randomForestselect.transform(X_train)\n",
    "X_test_rfc = randomForestselect.transform(X_test)"
   ]
  },
  {
   "cell_type": "code",
   "execution_count": 196,
   "metadata": {},
   "outputs": [],
   "source": [
    "def run_randomForest(X_train, X_test, y_train, y_test):\n",
    "    clf = RandomForestClassifier(n_estimators=100, random_state=0, n_jobs=-1)\n",
    "    clf.fit(X_train,y_train)\n",
    "    y_pred = clf.predict(X_test)\n",
    "    print(\"Accuracy: \", accuracy_score(y_test,y_pred))"
   ]
  },
  {
   "cell_type": "code",
   "execution_count": 197,
   "metadata": {},
   "outputs": [
    {
     "name": "stdout",
     "output_type": "stream",
     "text": [
      "Accuracy:  0.9511013215859031\n"
     ]
    }
   ],
   "source": [
    "run_randomForest(X_train_rfc, X_test_rfc, y_train, y_test)"
   ]
  },
  {
   "cell_type": "code",
   "execution_count": 198,
   "metadata": {},
   "outputs": [
    {
     "name": "stdout",
     "output_type": "stream",
     "text": [
      "Accuracy:  0.9618942731277533\n"
     ]
    }
   ],
   "source": [
    "run_randomForest(X_train, X_test, y_train, y_test)"
   ]
  },
  {
   "cell_type": "code",
   "execution_count": 199,
   "metadata": {},
   "outputs": [],
   "source": [
    "####Recursive Feature Elimination"
   ]
  },
  {
   "cell_type": "code",
   "execution_count": 200,
   "metadata": {},
   "outputs": [
    {
     "data": {
      "text/plain": [
       "RFE(estimator=RandomForestClassifier(bootstrap=True, ccp_alpha=0.0,\n",
       "                                     class_weight=None, criterion='gini',\n",
       "                                     max_depth=None, max_features='auto',\n",
       "                                     max_leaf_nodes=None, max_samples=None,\n",
       "                                     min_impurity_decrease=0.0,\n",
       "                                     min_impurity_split=None,\n",
       "                                     min_samples_leaf=1, min_samples_split=2,\n",
       "                                     min_weight_fraction_leaf=0.0,\n",
       "                                     n_estimators=100, n_jobs=-1,\n",
       "                                     oob_score=False, random_state=0, verbose=0,\n",
       "                                     warm_start=False),\n",
       "    n_features_to_select=8, step=1, verbose=0)"
      ]
     },
     "execution_count": 200,
     "metadata": {},
     "output_type": "execute_result"
    }
   ],
   "source": [
    "from sklearn.feature_selection import RFE\n",
    "randomForestselectRFE = RFE(RandomForestClassifier(n_estimators=100, random_state=0, n_jobs=-1),n_features_to_select = 8)\n",
    "randomForestselectRFE.fit(X_train,y_train)"
   ]
  },
  {
   "cell_type": "code",
   "execution_count": 201,
   "metadata": {},
   "outputs": [
    {
     "data": {
      "text/plain": [
       "array([ True,  True,  True,  True,  True, False,  True,  True,  True,\n",
       "       False])"
      ]
     },
     "execution_count": 201,
     "metadata": {},
     "output_type": "execute_result"
    }
   ],
   "source": [
    "randomForestselectRFE.get_support()"
   ]
  },
  {
   "cell_type": "code",
   "execution_count": 202,
   "metadata": {},
   "outputs": [],
   "source": [
    "X_train_RFE = randomForestselectRFE.transform(X_train)\n",
    "X_test_RFE = randomForestselectRFE.transform(X_test)"
   ]
  },
  {
   "cell_type": "code",
   "execution_count": 203,
   "metadata": {},
   "outputs": [
    {
     "name": "stdout",
     "output_type": "stream",
     "text": [
      "Accuracy:  0.9592511013215859\n",
      "Accuracy:  0.9618942731277533\n"
     ]
    }
   ],
   "source": [
    "run_randomForest(X_train_RFE, X_test_RFE, y_train, y_test)\n",
    "run_randomForest(X_train, X_test, y_train, y_test)"
   ]
  },
  {
   "cell_type": "code",
   "execution_count": 204,
   "metadata": {},
   "outputs": [],
   "source": [
    "### Feature Selection By Gradient Boost Tree"
   ]
  },
  {
   "cell_type": "code",
   "execution_count": 205,
   "metadata": {},
   "outputs": [],
   "source": [
    "from sklearn.ensemble import GradientBoostingClassifier\n",
    "from sklearn.feature_selection import RFE"
   ]
  },
  {
   "cell_type": "code",
   "execution_count": 208,
   "metadata": {},
   "outputs": [
    {
     "data": {
      "text/plain": [
       "RFE(estimator=GradientBoostingClassifier(ccp_alpha=0.0,\n",
       "                                         criterion='friedman_mse', init=None,\n",
       "                                         learning_rate=0.1, loss='deviance',\n",
       "                                         max_depth=3, max_features=None,\n",
       "                                         max_leaf_nodes=None,\n",
       "                                         min_impurity_decrease=0.0,\n",
       "                                         min_impurity_split=None,\n",
       "                                         min_samples_leaf=1,\n",
       "                                         min_samples_split=2,\n",
       "                                         min_weight_fraction_leaf=0.0,\n",
       "                                         n_estimators=100,\n",
       "                                         n_iter_no_change=None,\n",
       "                                         presort='deprecated', random_state=0,\n",
       "                                         subsample=1.0, tol=0.0001,\n",
       "                                         validation_fraction=0.1, verbose=0,\n",
       "                                         warm_start=False),\n",
       "    n_features_to_select=8, step=1, verbose=0)"
      ]
     },
     "execution_count": 208,
     "metadata": {},
     "output_type": "execute_result"
    }
   ],
   "source": [
    "gradientBoostRFE = RFE(GradientBoostingClassifier(n_estimators=100, random_state=0),n_features_to_select = 8)\n",
    "gradientBoostRFE.fit(X_train,y_train)"
   ]
  },
  {
   "cell_type": "code",
   "execution_count": 209,
   "metadata": {},
   "outputs": [
    {
     "data": {
      "text/plain": [
       "array([ True,  True,  True,  True,  True,  True,  True, False,  True,\n",
       "       False])"
      ]
     },
     "execution_count": 209,
     "metadata": {},
     "output_type": "execute_result"
    }
   ],
   "source": [
    "gradientBoostRFE.get_support()"
   ]
  },
  {
   "cell_type": "code",
   "execution_count": 210,
   "metadata": {},
   "outputs": [],
   "source": [
    "X_train_Grad_RFE = gradientBoostRFE.transform(X_train)\n",
    "X_test_Grad_RFE = gradientBoostRFE.transform(X_test)"
   ]
  },
  {
   "cell_type": "code",
   "execution_count": 211,
   "metadata": {},
   "outputs": [
    {
     "name": "stdout",
     "output_type": "stream",
     "text": [
      "Accuracy:  0.944273127753304\n",
      "Accuracy:  0.9618942731277533\n"
     ]
    }
   ],
   "source": [
    "run_randomForest(X_train_Grad_RFE, X_test_Grad_RFE, y_train, y_test)\n",
    "run_randomForest(X_train, X_test, y_train, y_test)"
   ]
  },
  {
   "cell_type": "code",
   "execution_count": 212,
   "metadata": {},
   "outputs": [
    {
     "name": "stdout",
     "output_type": "stream",
     "text": [
      "selected features: 1\n",
      "Accuracy:  0.7927312775330396\n",
      "\n",
      "selected features: 2\n",
      "Accuracy:  0.8519823788546256\n",
      "\n",
      "selected features: 3\n",
      "Accuracy:  0.8870044052863436\n",
      "\n",
      "selected features: 4\n",
      "Accuracy:  0.9279735682819383\n",
      "\n",
      "selected features: 5\n",
      "Accuracy:  0.926431718061674\n",
      "\n",
      "selected features: 6\n",
      "Accuracy:  0.9552863436123348\n",
      "\n",
      "selected features: 7\n",
      "Accuracy:  0.9458149779735683\n",
      "\n",
      "selected features: 8\n",
      "Accuracy:  0.944273127753304\n",
      "\n",
      "selected features: 9\n",
      "Accuracy:  0.9634361233480176\n",
      "\n",
      "selected features: 10\n",
      "Accuracy:  0.9618942731277533\n",
      "\n"
     ]
    }
   ],
   "source": [
    "for index in range(1, 11):\n",
    "    gradientBoostRFELoop = RFE(GradientBoostingClassifier(n_estimators=100, random_state=0),n_features_to_select = index)\n",
    "    gradientBoostRFELoop.fit(X_train,y_train)\n",
    "    X_train_Grad_RFELoop = gradientBoostRFELoop.transform(X_train)\n",
    "    X_test_Grad_RFELoop = gradientBoostRFELoop.transform(X_test)\n",
    "    print(\"selected features:\", index)\n",
    "    run_randomForest(X_train_Grad_RFELoop, X_test_Grad_RFELoop, y_train, y_test)\n",
    "    print()"
   ]
  },
  {
   "cell_type": "code",
   "execution_count": null,
   "metadata": {},
   "outputs": [],
   "source": [
    "#max value\n",
    "submitTrainSensorData = pd.read_csv(\"data/train/train_submit.csv\")\n",
    "X_train_submit = submitTrainSensorData.drop('Class', axis=1)\n",
    "y_train_submit = submitTrainSensorData['Class']\n",
    "\n",
    "gradientBoostRFELoop = RFE(GradientBoostingClassifier(n_estimators=100, random_state=0),n_features_to_select = index)\n",
    "gradientBoostRFELoop.fit(X_train_submit,y_train_submit)\n",
    "X_train_Grad_RFELoop = gradientBoostRFELoop.transform(X_train_submit)\n",
    "# X_test_Grad_RFELoop = gradientBoostRFELoop.transform(X_test)\n",
    "print(\"selected features:\", index)\n",
    "clf = RandomForestClassifier(n_estimators=100, random_state=0, n_jobs=-1)\n",
    "clf.fit(X_train_submit_Grad_RFE,y_train_submit)\n",
    "y_pred_submit = clf.predict(x_submit_gradient_rfe)\n",
    "\n",
    "prediction = pd.DataFrame(y_pred_submit, columns=['Class']).to_csv('submission.csv')\n",
    "print()\n"
   ]
  },
  {
   "cell_type": "code",
   "execution_count": 213,
   "metadata": {},
   "outputs": [
    {
     "name": "stdout",
     "output_type": "stream",
     "text": [
      "selected features: 1\n",
      "Accuracy:  0.944273127753304\n",
      "\n",
      "selected features: 2\n",
      "Accuracy:  0.944273127753304\n",
      "\n",
      "selected features: 3\n",
      "Accuracy:  0.944273127753304\n",
      "\n",
      "selected features: 4\n",
      "Accuracy:  0.944273127753304\n",
      "\n",
      "selected features: 5\n",
      "Accuracy:  0.944273127753304\n",
      "\n",
      "selected features: 6\n",
      "Accuracy:  0.944273127753304\n",
      "\n",
      "selected features: 7\n",
      "Accuracy:  0.944273127753304\n",
      "\n",
      "selected features: 8\n",
      "Accuracy:  0.944273127753304\n",
      "\n",
      "selected features: 9\n",
      "Accuracy:  0.944273127753304\n",
      "\n",
      "selected features: 10\n",
      "Accuracy:  0.944273127753304\n",
      "\n"
     ]
    }
   ],
   "source": [
    "for index in range(1, 11):\n",
    "    gradientBoostRFELoop = RFE(RandomForestClassifier(n_estimators=100, random_state=0, n_jobs=-1),n_features_to_select = index)\n",
    "    gradientBoostRFELoop.fit(X_train,y_train)\n",
    "    X_train_Grad_RFELoop = gradientBoostRFE.transform(X_train)\n",
    "    X_test_Grad_RFELoop = gradientBoostRFE.transform(X_test)\n",
    "    print(\"selected features:\", index)\n",
    "    run_randomForest(X_train_Grad_RFELoop, X_test_Grad_RFELoop, y_train, y_test)\n",
    "    print()"
   ]
  },
  {
   "cell_type": "code",
   "execution_count": null,
   "metadata": {},
   "outputs": [],
   "source": []
  },
  {
   "cell_type": "code",
   "execution_count": null,
   "metadata": {},
   "outputs": [],
   "source": []
  },
  {
   "cell_type": "code",
   "execution_count": null,
   "metadata": {},
   "outputs": [],
   "source": []
  }
 ],
 "metadata": {
  "kernelspec": {
   "display_name": "Python 3",
   "language": "python",
   "name": "python3"
  },
  "language_info": {
   "codemirror_mode": {
    "name": "ipython",
    "version": 3
   },
   "file_extension": ".py",
   "mimetype": "text/x-python",
   "name": "python",
   "nbconvert_exporter": "python",
   "pygments_lexer": "ipython3",
   "version": "3.7.6"
  }
 },
 "nbformat": 4,
 "nbformat_minor": 4
}
