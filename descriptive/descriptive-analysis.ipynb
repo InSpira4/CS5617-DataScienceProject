{
 "cells": [
  {
   "cell_type": "code",
   "execution_count": 31,
   "metadata": {},
   "outputs": [],
   "source": [
    "import pandas as pd\n",
    "import numpy as np\n",
    "import matplotlib.pyplot as plt\n",
    "import seaborn as sns"
   ]
  },
  {
   "cell_type": "code",
   "execution_count": null,
   "metadata": {},
   "outputs": [],
   "source": []
  },
  {
   "cell_type": "code",
   "execution_count": null,
   "metadata": {},
   "outputs": [],
   "source": []
  },
  {
   "cell_type": "code",
   "execution_count": null,
   "metadata": {},
   "outputs": [],
   "source": []
  },
  {
   "cell_type": "code",
   "execution_count": 2,
   "metadata": {},
   "outputs": [],
   "source": [
    "df= pd.read_csv(\"C:/Users/Laval/Downloads/MSCatUOM/data-science/project/data/Natera.csv\")"
   ]
  },
  {
   "cell_type": "code",
   "execution_count": null,
   "metadata": {},
   "outputs": [],
   "source": []
  },
  {
   "cell_type": "code",
   "execution_count": 3,
   "metadata": {},
   "outputs": [
    {
     "data": {
      "text/html": [
       "<div>\n",
       "<style scoped>\n",
       "    .dataframe tbody tr th:only-of-type {\n",
       "        vertical-align: middle;\n",
       "    }\n",
       "\n",
       "    .dataframe tbody tr th {\n",
       "        vertical-align: top;\n",
       "    }\n",
       "\n",
       "    .dataframe thead th {\n",
       "        text-align: right;\n",
       "    }\n",
       "</style>\n",
       "<table border=\"1\" class=\"dataframe\">\n",
       "  <thead>\n",
       "    <tr style=\"text-align: right;\">\n",
       "      <th></th>\n",
       "      <th>Ticket Number</th>\n",
       "      <th>Date of Service</th>\n",
       "      <th>Carrier Code</th>\n",
       "      <th>Charges</th>\n",
       "      <th>Payments</th>\n",
       "      <th>Insurance Payment</th>\n",
       "      <th>Patient Payment</th>\n",
       "      <th>Writeoffs</th>\n",
       "      <th>FinancialClass</th>\n",
       "      <th>CPT</th>\n",
       "      <th>...</th>\n",
       "      <th>Payment Post Date</th>\n",
       "      <th>NPI</th>\n",
       "      <th>Ordering Clinic</th>\n",
       "      <th>Denied Code</th>\n",
       "      <th>First Billed Date</th>\n",
       "      <th>Provider Profile</th>\n",
       "      <th>Insurance Bal</th>\n",
       "      <th>Patient Bal</th>\n",
       "      <th>Allowed Amount</th>\n",
       "      <th>Case Count</th>\n",
       "    </tr>\n",
       "  </thead>\n",
       "  <tbody>\n",
       "    <tr>\n",
       "      <td>0</td>\n",
       "      <td>104452</td>\n",
       "      <td>1/2/2019</td>\n",
       "      <td>CFHP-E2</td>\n",
       "      <td>$3,900.00</td>\n",
       "      <td>$0.00</td>\n",
       "      <td>$0.00</td>\n",
       "      <td>$0.00</td>\n",
       "      <td>$0.00</td>\n",
       "      <td>NC - NON-CONTRACTED</td>\n",
       "      <td>81507</td>\n",
       "      <td>...</td>\n",
       "      <td>1/22/2019</td>\n",
       "      <td>1316428238</td>\n",
       "      <td>ALAMO WOMEN'S OBGYN</td>\n",
       "      <td>197</td>\n",
       "      <td>1/8/2019</td>\n",
       "      <td>NTINC</td>\n",
       "      <td>$0.00</td>\n",
       "      <td>$3,900.00</td>\n",
       "      <td>$0.00</td>\n",
       "      <td>1</td>\n",
       "    </tr>\n",
       "    <tr>\n",
       "      <td>1</td>\n",
       "      <td>104453</td>\n",
       "      <td>1/2/2019</td>\n",
       "      <td>CFHP-E2</td>\n",
       "      <td>$3,900.00</td>\n",
       "      <td>$0.00</td>\n",
       "      <td>$0.00</td>\n",
       "      <td>$0.00</td>\n",
       "      <td>$0.00</td>\n",
       "      <td>NC - NON-CONTRACTED</td>\n",
       "      <td>81507</td>\n",
       "      <td>...</td>\n",
       "      <td>1/24/2019</td>\n",
       "      <td>1316428238</td>\n",
       "      <td>ALAMO WOMEN'S OBGYN</td>\n",
       "      <td>197</td>\n",
       "      <td>1/8/2019</td>\n",
       "      <td>NTINC</td>\n",
       "      <td>$0.00</td>\n",
       "      <td>$3,900.00</td>\n",
       "      <td>$0.00</td>\n",
       "      <td>1</td>\n",
       "    </tr>\n",
       "    <tr>\n",
       "      <td>2</td>\n",
       "      <td>104454</td>\n",
       "      <td>1/2/2019</td>\n",
       "      <td>NCS</td>\n",
       "      <td>$795.00</td>\n",
       "      <td>$249.00</td>\n",
       "      <td>$0.00</td>\n",
       "      <td>$249.00</td>\n",
       "      <td>$546.00</td>\n",
       "      <td>SP - SELF PAY</td>\n",
       "      <td>99999</td>\n",
       "      <td>...</td>\n",
       "      <td>2/10/2019</td>\n",
       "      <td>1699760116</td>\n",
       "      <td>COMPREHENSIVE WOMEN'S HEALTHCARE</td>\n",
       "      <td>-</td>\n",
       "      <td>-</td>\n",
       "      <td>NTINC</td>\n",
       "      <td>$0.00</td>\n",
       "      <td>$0.00</td>\n",
       "      <td>$0.00</td>\n",
       "      <td>1</td>\n",
       "    </tr>\n",
       "    <tr>\n",
       "      <td>3</td>\n",
       "      <td>104496</td>\n",
       "      <td>1/2/2019</td>\n",
       "      <td>AETLIF-E</td>\n",
       "      <td>$3,900.00</td>\n",
       "      <td>$0.00</td>\n",
       "      <td>$0.00</td>\n",
       "      <td>$0.00</td>\n",
       "      <td>$0.00</td>\n",
       "      <td>CT - CONTRACTED</td>\n",
       "      <td>81420</td>\n",
       "      <td>...</td>\n",
       "      <td>1/28/2019</td>\n",
       "      <td>1609216597</td>\n",
       "      <td>PEACHTREE WOMEN'S CLINIC - NORTHSIDE</td>\n",
       "      <td>-</td>\n",
       "      <td>1/8/2019</td>\n",
       "      <td>NTINC</td>\n",
       "      <td>$3,900.00</td>\n",
       "      <td>$0.00</td>\n",
       "      <td>$749.00</td>\n",
       "      <td>1</td>\n",
       "    </tr>\n",
       "    <tr>\n",
       "      <td>4</td>\n",
       "      <td>104497</td>\n",
       "      <td>1/2/2019</td>\n",
       "      <td>AETLIF-E</td>\n",
       "      <td>$3,900.00</td>\n",
       "      <td>$0.00</td>\n",
       "      <td>$0.00</td>\n",
       "      <td>$0.00</td>\n",
       "      <td>$0.00</td>\n",
       "      <td>CT - CONTRACTED</td>\n",
       "      <td>81420</td>\n",
       "      <td>...</td>\n",
       "      <td>1/30/2019</td>\n",
       "      <td>1609216597</td>\n",
       "      <td>PEACHTREE WOMEN'S CLINIC - NORTHSIDE</td>\n",
       "      <td>-</td>\n",
       "      <td>1/8/2019</td>\n",
       "      <td>NTINC</td>\n",
       "      <td>$3,900.00</td>\n",
       "      <td>$0.00</td>\n",
       "      <td>$749.00</td>\n",
       "      <td>1</td>\n",
       "    </tr>\n",
       "  </tbody>\n",
       "</table>\n",
       "<p>5 rows × 21 columns</p>\n",
       "</div>"
      ],
      "text/plain": [
       "   Ticket Number Date of Service Carrier Code     Charges  Payments  \\\n",
       "0         104452        1/2/2019      CFHP-E2  $3,900.00     $0.00    \n",
       "1         104453        1/2/2019      CFHP-E2  $3,900.00     $0.00    \n",
       "2         104454        1/2/2019          NCS    $795.00   $249.00    \n",
       "3         104496        1/2/2019     AETLIF-E  $3,900.00     $0.00    \n",
       "4         104497        1/2/2019     AETLIF-E  $3,900.00     $0.00    \n",
       "\n",
       "  Insurance Payment Patient Payment Writeoffs       FinancialClass    CPT  \\\n",
       "0            $0.00           $0.00     $0.00   NC - NON-CONTRACTED  81507   \n",
       "1            $0.00           $0.00     $0.00   NC - NON-CONTRACTED  81507   \n",
       "2            $0.00         $249.00   $546.00         SP - SELF PAY  99999   \n",
       "3            $0.00           $0.00     $0.00       CT - CONTRACTED  81420   \n",
       "4            $0.00           $0.00     $0.00       CT - CONTRACTED  81420   \n",
       "\n",
       "   ... Payment Post Date         NPI                       Ordering Clinic  \\\n",
       "0  ...         1/22/2019  1316428238                   ALAMO WOMEN'S OBGYN   \n",
       "1  ...         1/24/2019  1316428238                   ALAMO WOMEN'S OBGYN   \n",
       "2  ...         2/10/2019  1699760116      COMPREHENSIVE WOMEN'S HEALTHCARE   \n",
       "3  ...         1/28/2019  1609216597  PEACHTREE WOMEN'S CLINIC - NORTHSIDE   \n",
       "4  ...         1/30/2019  1609216597  PEACHTREE WOMEN'S CLINIC - NORTHSIDE   \n",
       "\n",
       "  Denied Code First Billed Date Provider Profile Insurance Bal Patient Bal  \\\n",
       "0         197          1/8/2019            NTINC        $0.00   $3,900.00    \n",
       "1         197          1/8/2019            NTINC        $0.00   $3,900.00    \n",
       "2           -                 -            NTINC        $0.00       $0.00    \n",
       "3           -          1/8/2019            NTINC    $3,900.00       $0.00    \n",
       "4           -          1/8/2019            NTINC    $3,900.00       $0.00    \n",
       "\n",
       "  Allowed Amount Case Count  \n",
       "0         $0.00           1  \n",
       "1         $0.00           1  \n",
       "2         $0.00           1  \n",
       "3       $749.00           1  \n",
       "4       $749.00           1  \n",
       "\n",
       "[5 rows x 21 columns]"
      ]
     },
     "execution_count": 3,
     "metadata": {},
     "output_type": "execute_result"
    }
   ],
   "source": [
    "df.head()"
   ]
  },
  {
   "cell_type": "markdown",
   "metadata": {},
   "source": [
    "Try without pre processing"
   ]
  },
  {
   "cell_type": "code",
   "execution_count": 4,
   "metadata": {},
   "outputs": [
    {
     "data": {
      "text/html": [
       "<div>\n",
       "<style scoped>\n",
       "    .dataframe tbody tr th:only-of-type {\n",
       "        vertical-align: middle;\n",
       "    }\n",
       "\n",
       "    .dataframe tbody tr th {\n",
       "        vertical-align: top;\n",
       "    }\n",
       "\n",
       "    .dataframe thead th {\n",
       "        text-align: right;\n",
       "    }\n",
       "</style>\n",
       "<table border=\"1\" class=\"dataframe\">\n",
       "  <thead>\n",
       "    <tr style=\"text-align: right;\">\n",
       "      <th></th>\n",
       "      <th>Ticket Number</th>\n",
       "      <th>NPI</th>\n",
       "      <th>Case Count</th>\n",
       "    </tr>\n",
       "  </thead>\n",
       "  <tbody>\n",
       "    <tr>\n",
       "      <td>count</td>\n",
       "      <td>10357.000000</td>\n",
       "      <td>1.035700e+04</td>\n",
       "      <td>10357.0</td>\n",
       "    </tr>\n",
       "    <tr>\n",
       "      <td>mean</td>\n",
       "      <td>213621.134402</td>\n",
       "      <td>1.517730e+09</td>\n",
       "      <td>1.0</td>\n",
       "    </tr>\n",
       "    <tr>\n",
       "      <td>std</td>\n",
       "      <td>61672.060597</td>\n",
       "      <td>2.808536e+08</td>\n",
       "      <td>0.0</td>\n",
       "    </tr>\n",
       "    <tr>\n",
       "      <td>min</td>\n",
       "      <td>104452.000000</td>\n",
       "      <td>1.003002e+09</td>\n",
       "      <td>1.0</td>\n",
       "    </tr>\n",
       "    <tr>\n",
       "      <td>25%</td>\n",
       "      <td>173660.000000</td>\n",
       "      <td>1.285067e+09</td>\n",
       "      <td>1.0</td>\n",
       "    </tr>\n",
       "    <tr>\n",
       "      <td>50%</td>\n",
       "      <td>200932.000000</td>\n",
       "      <td>1.538167e+09</td>\n",
       "      <td>1.0</td>\n",
       "    </tr>\n",
       "    <tr>\n",
       "      <td>75%</td>\n",
       "      <td>263815.000000</td>\n",
       "      <td>1.750303e+09</td>\n",
       "      <td>1.0</td>\n",
       "    </tr>\n",
       "    <tr>\n",
       "      <td>max</td>\n",
       "      <td>407677.000000</td>\n",
       "      <td>1.992949e+09</td>\n",
       "      <td>1.0</td>\n",
       "    </tr>\n",
       "  </tbody>\n",
       "</table>\n",
       "</div>"
      ],
      "text/plain": [
       "       Ticket Number           NPI  Case Count\n",
       "count   10357.000000  1.035700e+04     10357.0\n",
       "mean   213621.134402  1.517730e+09         1.0\n",
       "std     61672.060597  2.808536e+08         0.0\n",
       "min    104452.000000  1.003002e+09         1.0\n",
       "25%    173660.000000  1.285067e+09         1.0\n",
       "50%    200932.000000  1.538167e+09         1.0\n",
       "75%    263815.000000  1.750303e+09         1.0\n",
       "max    407677.000000  1.992949e+09         1.0"
      ]
     },
     "execution_count": 4,
     "metadata": {},
     "output_type": "execute_result"
    }
   ],
   "source": [
    "df.describe()"
   ]
  },
  {
   "cell_type": "code",
   "execution_count": null,
   "metadata": {},
   "outputs": [],
   "source": []
  },
  {
   "cell_type": "code",
   "execution_count": 5,
   "metadata": {},
   "outputs": [
    {
     "data": {
      "text/html": [
       "<div>\n",
       "<style scoped>\n",
       "    .dataframe tbody tr th:only-of-type {\n",
       "        vertical-align: middle;\n",
       "    }\n",
       "\n",
       "    .dataframe tbody tr th {\n",
       "        vertical-align: top;\n",
       "    }\n",
       "\n",
       "    .dataframe thead th {\n",
       "        text-align: right;\n",
       "    }\n",
       "</style>\n",
       "<table border=\"1\" class=\"dataframe\">\n",
       "  <thead>\n",
       "    <tr style=\"text-align: right;\">\n",
       "      <th></th>\n",
       "      <th>Date of Service</th>\n",
       "      <th>Carrier Code</th>\n",
       "      <th>Charges</th>\n",
       "      <th>Payments</th>\n",
       "      <th>Insurance Payment</th>\n",
       "      <th>Patient Payment</th>\n",
       "      <th>Writeoffs</th>\n",
       "      <th>FinancialClass</th>\n",
       "      <th>CPT</th>\n",
       "      <th>Date of Entry</th>\n",
       "      <th>Payment Post Date</th>\n",
       "      <th>Ordering Clinic</th>\n",
       "      <th>Denied Code</th>\n",
       "      <th>First Billed Date</th>\n",
       "      <th>Provider Profile</th>\n",
       "      <th>Insurance Bal</th>\n",
       "      <th>Patient Bal</th>\n",
       "      <th>Allowed Amount</th>\n",
       "    </tr>\n",
       "  </thead>\n",
       "  <tbody>\n",
       "    <tr>\n",
       "      <td>count</td>\n",
       "      <td>10357</td>\n",
       "      <td>10357</td>\n",
       "      <td>10357</td>\n",
       "      <td>10357</td>\n",
       "      <td>10357</td>\n",
       "      <td>10357</td>\n",
       "      <td>10357</td>\n",
       "      <td>10357</td>\n",
       "      <td>10357</td>\n",
       "      <td>10357</td>\n",
       "      <td>10357</td>\n",
       "      <td>10353</td>\n",
       "      <td>10357</td>\n",
       "      <td>10357</td>\n",
       "      <td>10357</td>\n",
       "      <td>10357</td>\n",
       "      <td>10357</td>\n",
       "      <td>10357</td>\n",
       "    </tr>\n",
       "    <tr>\n",
       "      <td>unique</td>\n",
       "      <td>1</td>\n",
       "      <td>339</td>\n",
       "      <td>46</td>\n",
       "      <td>552</td>\n",
       "      <td>524</td>\n",
       "      <td>44</td>\n",
       "      <td>539</td>\n",
       "      <td>9</td>\n",
       "      <td>42</td>\n",
       "      <td>26</td>\n",
       "      <td>32</td>\n",
       "      <td>1057</td>\n",
       "      <td>55</td>\n",
       "      <td>27</td>\n",
       "      <td>2</td>\n",
       "      <td>56</td>\n",
       "      <td>312</td>\n",
       "      <td>212</td>\n",
       "    </tr>\n",
       "    <tr>\n",
       "      <td>top</td>\n",
       "      <td>1/2/2019</td>\n",
       "      <td>AETLIF-E</td>\n",
       "      <td>$3,900.00</td>\n",
       "      <td>$0.00</td>\n",
       "      <td>$0.00</td>\n",
       "      <td>$0.00</td>\n",
       "      <td>$0.00</td>\n",
       "      <td>CT - CONTRACTED</td>\n",
       "      <td>81420</td>\n",
       "      <td>1/27/2019</td>\n",
       "      <td>-</td>\n",
       "      <td>MOORE OB/GYN</td>\n",
       "      <td>-</td>\n",
       "      <td>1/27/2019</td>\n",
       "      <td>NTINC</td>\n",
       "      <td>$0.00</td>\n",
       "      <td>$0.00</td>\n",
       "      <td>$0.00</td>\n",
       "    </tr>\n",
       "    <tr>\n",
       "      <td>freq</td>\n",
       "      <td>10357</td>\n",
       "      <td>965</td>\n",
       "      <td>1797</td>\n",
       "      <td>8989</td>\n",
       "      <td>9118</td>\n",
       "      <td>10228</td>\n",
       "      <td>7298</td>\n",
       "      <td>5093</td>\n",
       "      <td>1710</td>\n",
       "      <td>1928</td>\n",
       "      <td>3559</td>\n",
       "      <td>146</td>\n",
       "      <td>6298</td>\n",
       "      <td>1784</td>\n",
       "      <td>10246</td>\n",
       "      <td>5251</td>\n",
       "      <td>7084</td>\n",
       "      <td>7206</td>\n",
       "    </tr>\n",
       "  </tbody>\n",
       "</table>\n",
       "</div>"
      ],
      "text/plain": [
       "       Date of Service Carrier Code     Charges Payments Insurance Payment  \\\n",
       "count            10357        10357       10357    10357             10357   \n",
       "unique               1          339          46      552               524   \n",
       "top           1/2/2019     AETLIF-E  $3,900.00    $0.00             $0.00    \n",
       "freq             10357          965        1797     8989              9118   \n",
       "\n",
       "       Patient Payment Writeoffs   FinancialClass    CPT Date of Entry  \\\n",
       "count            10357     10357            10357  10357         10357   \n",
       "unique              44       539                9     42            26   \n",
       "top             $0.00     $0.00   CT - CONTRACTED  81420     1/27/2019   \n",
       "freq             10228      7298             5093   1710          1928   \n",
       "\n",
       "       Payment Post Date Ordering Clinic Denied Code First Billed Date  \\\n",
       "count              10357           10353       10357             10357   \n",
       "unique                32            1057          55                27   \n",
       "top                    -    MOORE OB/GYN           -         1/27/2019   \n",
       "freq                3559             146        6298              1784   \n",
       "\n",
       "       Provider Profile Insurance Bal Patient Bal Allowed Amount  \n",
       "count             10357         10357       10357          10357  \n",
       "unique                2            56         312            212  \n",
       "top               NTINC        $0.00       $0.00          $0.00   \n",
       "freq              10246          5251        7084           7206  "
      ]
     },
     "execution_count": 5,
     "metadata": {},
     "output_type": "execute_result"
    }
   ],
   "source": [
    "df.describe(include=['object'])"
   ]
  },
  {
   "cell_type": "markdown",
   "metadata": {},
   "source": [
    "remove doller sign"
   ]
  },
  {
   "cell_type": "code",
   "execution_count": 6,
   "metadata": {},
   "outputs": [],
   "source": [
    "def remove_doller_sign(col):\n",
    "    df[coloumn] = pd.to_numeric(df[col].apply(lambda x: x.replace('$','')).apply(lambda x: x.replace(' ','')).apply(lambda x: x.replace(',','')).apply(lambda x: x.replace('(','')).apply(lambda x: x.replace(')','')))"
   ]
  },
  {
   "cell_type": "code",
   "execution_count": null,
   "metadata": {},
   "outputs": [],
   "source": []
  },
  {
   "cell_type": "code",
   "execution_count": null,
   "metadata": {},
   "outputs": [],
   "source": []
  },
  {
   "cell_type": "code",
   "execution_count": null,
   "metadata": {},
   "outputs": [],
   "source": []
  },
  {
   "cell_type": "code",
   "execution_count": null,
   "metadata": {},
   "outputs": [],
   "source": []
  },
  {
   "cell_type": "code",
   "execution_count": 7,
   "metadata": {},
   "outputs": [],
   "source": [
    "coloumns = ['Payments', 'Charges', 'Insurance Payment', 'Patient Payment', 'Writeoffs', 'Insurance Bal', 'Patient Bal', 'Allowed Amount']\n",
    "for coloumn in coloumns:\n",
    "    remove_doller_sign(coloumn)"
   ]
  },
  {
   "cell_type": "code",
   "execution_count": null,
   "metadata": {},
   "outputs": [],
   "source": []
  },
  {
   "cell_type": "code",
   "execution_count": null,
   "metadata": {},
   "outputs": [],
   "source": []
  },
  {
   "cell_type": "code",
   "execution_count": null,
   "metadata": {},
   "outputs": [],
   "source": []
  },
  {
   "cell_type": "code",
   "execution_count": 8,
   "metadata": {},
   "outputs": [
    {
     "data": {
      "text/html": [
       "<div>\n",
       "<style scoped>\n",
       "    .dataframe tbody tr th:only-of-type {\n",
       "        vertical-align: middle;\n",
       "    }\n",
       "\n",
       "    .dataframe tbody tr th {\n",
       "        vertical-align: top;\n",
       "    }\n",
       "\n",
       "    .dataframe thead th {\n",
       "        text-align: right;\n",
       "    }\n",
       "</style>\n",
       "<table border=\"1\" class=\"dataframe\">\n",
       "  <thead>\n",
       "    <tr style=\"text-align: right;\">\n",
       "      <th></th>\n",
       "      <th>Ticket Number</th>\n",
       "      <th>Date of Service</th>\n",
       "      <th>Carrier Code</th>\n",
       "      <th>Charges</th>\n",
       "      <th>Payments</th>\n",
       "      <th>Insurance Payment</th>\n",
       "      <th>Patient Payment</th>\n",
       "      <th>Writeoffs</th>\n",
       "      <th>FinancialClass</th>\n",
       "      <th>CPT</th>\n",
       "      <th>...</th>\n",
       "      <th>Payment Post Date</th>\n",
       "      <th>NPI</th>\n",
       "      <th>Ordering Clinic</th>\n",
       "      <th>Denied Code</th>\n",
       "      <th>First Billed Date</th>\n",
       "      <th>Provider Profile</th>\n",
       "      <th>Insurance Bal</th>\n",
       "      <th>Patient Bal</th>\n",
       "      <th>Allowed Amount</th>\n",
       "      <th>Case Count</th>\n",
       "    </tr>\n",
       "  </thead>\n",
       "  <tbody>\n",
       "    <tr>\n",
       "      <td>0</td>\n",
       "      <td>104452</td>\n",
       "      <td>1/2/2019</td>\n",
       "      <td>CFHP-E2</td>\n",
       "      <td>3900.0</td>\n",
       "      <td>0.0</td>\n",
       "      <td>0.0</td>\n",
       "      <td>0.0</td>\n",
       "      <td>0.0</td>\n",
       "      <td>NC - NON-CONTRACTED</td>\n",
       "      <td>81507</td>\n",
       "      <td>...</td>\n",
       "      <td>1/22/2019</td>\n",
       "      <td>1316428238</td>\n",
       "      <td>ALAMO WOMEN'S OBGYN</td>\n",
       "      <td>197</td>\n",
       "      <td>1/8/2019</td>\n",
       "      <td>NTINC</td>\n",
       "      <td>0.0</td>\n",
       "      <td>3900.0</td>\n",
       "      <td>0.0</td>\n",
       "      <td>1</td>\n",
       "    </tr>\n",
       "    <tr>\n",
       "      <td>1</td>\n",
       "      <td>104453</td>\n",
       "      <td>1/2/2019</td>\n",
       "      <td>CFHP-E2</td>\n",
       "      <td>3900.0</td>\n",
       "      <td>0.0</td>\n",
       "      <td>0.0</td>\n",
       "      <td>0.0</td>\n",
       "      <td>0.0</td>\n",
       "      <td>NC - NON-CONTRACTED</td>\n",
       "      <td>81507</td>\n",
       "      <td>...</td>\n",
       "      <td>1/24/2019</td>\n",
       "      <td>1316428238</td>\n",
       "      <td>ALAMO WOMEN'S OBGYN</td>\n",
       "      <td>197</td>\n",
       "      <td>1/8/2019</td>\n",
       "      <td>NTINC</td>\n",
       "      <td>0.0</td>\n",
       "      <td>3900.0</td>\n",
       "      <td>0.0</td>\n",
       "      <td>1</td>\n",
       "    </tr>\n",
       "    <tr>\n",
       "      <td>2</td>\n",
       "      <td>104454</td>\n",
       "      <td>1/2/2019</td>\n",
       "      <td>NCS</td>\n",
       "      <td>795.0</td>\n",
       "      <td>249.0</td>\n",
       "      <td>0.0</td>\n",
       "      <td>249.0</td>\n",
       "      <td>546.0</td>\n",
       "      <td>SP - SELF PAY</td>\n",
       "      <td>99999</td>\n",
       "      <td>...</td>\n",
       "      <td>2/10/2019</td>\n",
       "      <td>1699760116</td>\n",
       "      <td>COMPREHENSIVE WOMEN'S HEALTHCARE</td>\n",
       "      <td>-</td>\n",
       "      <td>-</td>\n",
       "      <td>NTINC</td>\n",
       "      <td>0.0</td>\n",
       "      <td>0.0</td>\n",
       "      <td>0.0</td>\n",
       "      <td>1</td>\n",
       "    </tr>\n",
       "    <tr>\n",
       "      <td>3</td>\n",
       "      <td>104496</td>\n",
       "      <td>1/2/2019</td>\n",
       "      <td>AETLIF-E</td>\n",
       "      <td>3900.0</td>\n",
       "      <td>0.0</td>\n",
       "      <td>0.0</td>\n",
       "      <td>0.0</td>\n",
       "      <td>0.0</td>\n",
       "      <td>CT - CONTRACTED</td>\n",
       "      <td>81420</td>\n",
       "      <td>...</td>\n",
       "      <td>1/28/2019</td>\n",
       "      <td>1609216597</td>\n",
       "      <td>PEACHTREE WOMEN'S CLINIC - NORTHSIDE</td>\n",
       "      <td>-</td>\n",
       "      <td>1/8/2019</td>\n",
       "      <td>NTINC</td>\n",
       "      <td>3900.0</td>\n",
       "      <td>0.0</td>\n",
       "      <td>749.0</td>\n",
       "      <td>1</td>\n",
       "    </tr>\n",
       "    <tr>\n",
       "      <td>4</td>\n",
       "      <td>104497</td>\n",
       "      <td>1/2/2019</td>\n",
       "      <td>AETLIF-E</td>\n",
       "      <td>3900.0</td>\n",
       "      <td>0.0</td>\n",
       "      <td>0.0</td>\n",
       "      <td>0.0</td>\n",
       "      <td>0.0</td>\n",
       "      <td>CT - CONTRACTED</td>\n",
       "      <td>81420</td>\n",
       "      <td>...</td>\n",
       "      <td>1/30/2019</td>\n",
       "      <td>1609216597</td>\n",
       "      <td>PEACHTREE WOMEN'S CLINIC - NORTHSIDE</td>\n",
       "      <td>-</td>\n",
       "      <td>1/8/2019</td>\n",
       "      <td>NTINC</td>\n",
       "      <td>3900.0</td>\n",
       "      <td>0.0</td>\n",
       "      <td>749.0</td>\n",
       "      <td>1</td>\n",
       "    </tr>\n",
       "  </tbody>\n",
       "</table>\n",
       "<p>5 rows × 21 columns</p>\n",
       "</div>"
      ],
      "text/plain": [
       "   Ticket Number Date of Service Carrier Code  Charges  Payments  \\\n",
       "0         104452        1/2/2019      CFHP-E2   3900.0       0.0   \n",
       "1         104453        1/2/2019      CFHP-E2   3900.0       0.0   \n",
       "2         104454        1/2/2019          NCS    795.0     249.0   \n",
       "3         104496        1/2/2019     AETLIF-E   3900.0       0.0   \n",
       "4         104497        1/2/2019     AETLIF-E   3900.0       0.0   \n",
       "\n",
       "   Insurance Payment  Patient Payment  Writeoffs       FinancialClass    CPT  \\\n",
       "0                0.0              0.0        0.0  NC - NON-CONTRACTED  81507   \n",
       "1                0.0              0.0        0.0  NC - NON-CONTRACTED  81507   \n",
       "2                0.0            249.0      546.0        SP - SELF PAY  99999   \n",
       "3                0.0              0.0        0.0      CT - CONTRACTED  81420   \n",
       "4                0.0              0.0        0.0      CT - CONTRACTED  81420   \n",
       "\n",
       "   ... Payment Post Date         NPI                       Ordering Clinic  \\\n",
       "0  ...         1/22/2019  1316428238                   ALAMO WOMEN'S OBGYN   \n",
       "1  ...         1/24/2019  1316428238                   ALAMO WOMEN'S OBGYN   \n",
       "2  ...         2/10/2019  1699760116      COMPREHENSIVE WOMEN'S HEALTHCARE   \n",
       "3  ...         1/28/2019  1609216597  PEACHTREE WOMEN'S CLINIC - NORTHSIDE   \n",
       "4  ...         1/30/2019  1609216597  PEACHTREE WOMEN'S CLINIC - NORTHSIDE   \n",
       "\n",
       "  Denied Code First Billed Date Provider Profile Insurance Bal  Patient Bal  \\\n",
       "0         197          1/8/2019            NTINC           0.0       3900.0   \n",
       "1         197          1/8/2019            NTINC           0.0       3900.0   \n",
       "2           -                 -            NTINC           0.0          0.0   \n",
       "3           -          1/8/2019            NTINC        3900.0          0.0   \n",
       "4           -          1/8/2019            NTINC        3900.0          0.0   \n",
       "\n",
       "   Allowed Amount  Case Count  \n",
       "0             0.0           1  \n",
       "1             0.0           1  \n",
       "2             0.0           1  \n",
       "3           749.0           1  \n",
       "4           749.0           1  \n",
       "\n",
       "[5 rows x 21 columns]"
      ]
     },
     "execution_count": 8,
     "metadata": {},
     "output_type": "execute_result"
    }
   ],
   "source": [
    "df.head()"
   ]
  },
  {
   "cell_type": "code",
   "execution_count": null,
   "metadata": {},
   "outputs": [],
   "source": []
  },
  {
   "cell_type": "code",
   "execution_count": 9,
   "metadata": {},
   "outputs": [
    {
     "data": {
      "text/html": [
       "<div>\n",
       "<style scoped>\n",
       "    .dataframe tbody tr th:only-of-type {\n",
       "        vertical-align: middle;\n",
       "    }\n",
       "\n",
       "    .dataframe tbody tr th {\n",
       "        vertical-align: top;\n",
       "    }\n",
       "\n",
       "    .dataframe thead th {\n",
       "        text-align: right;\n",
       "    }\n",
       "</style>\n",
       "<table border=\"1\" class=\"dataframe\">\n",
       "  <thead>\n",
       "    <tr style=\"text-align: right;\">\n",
       "      <th></th>\n",
       "      <th>Ticket Number</th>\n",
       "      <th>Charges</th>\n",
       "      <th>Payments</th>\n",
       "      <th>Insurance Payment</th>\n",
       "      <th>Patient Payment</th>\n",
       "      <th>Writeoffs</th>\n",
       "      <th>NPI</th>\n",
       "      <th>Insurance Bal</th>\n",
       "      <th>Patient Bal</th>\n",
       "      <th>Allowed Amount</th>\n",
       "      <th>Case Count</th>\n",
       "    </tr>\n",
       "  </thead>\n",
       "  <tbody>\n",
       "    <tr>\n",
       "      <td>count</td>\n",
       "      <td>10357.000000</td>\n",
       "      <td>10357.000000</td>\n",
       "      <td>10357.000000</td>\n",
       "      <td>10357.000000</td>\n",
       "      <td>10357.000000</td>\n",
       "      <td>10357.000000</td>\n",
       "      <td>1.035700e+04</td>\n",
       "      <td>10357.000000</td>\n",
       "      <td>10357.000000</td>\n",
       "      <td>10357.000000</td>\n",
       "      <td>10357.0</td>\n",
       "    </tr>\n",
       "    <tr>\n",
       "      <td>mean</td>\n",
       "      <td>213621.134402</td>\n",
       "      <td>1602.650574</td>\n",
       "      <td>44.679865</td>\n",
       "      <td>41.129217</td>\n",
       "      <td>3.550648</td>\n",
       "      <td>493.463687</td>\n",
       "      <td>1.517730e+09</td>\n",
       "      <td>707.961028</td>\n",
       "      <td>355.345011</td>\n",
       "      <td>374.690578</td>\n",
       "      <td>1.0</td>\n",
       "    </tr>\n",
       "    <tr>\n",
       "      <td>std</td>\n",
       "      <td>61672.060597</td>\n",
       "      <td>1882.231263</td>\n",
       "      <td>211.645956</td>\n",
       "      <td>208.343187</td>\n",
       "      <td>40.978363</td>\n",
       "      <td>1215.058115</td>\n",
       "      <td>2.808536e+08</td>\n",
       "      <td>1478.907449</td>\n",
       "      <td>1066.710826</td>\n",
       "      <td>1006.419773</td>\n",
       "      <td>0.0</td>\n",
       "    </tr>\n",
       "    <tr>\n",
       "      <td>min</td>\n",
       "      <td>104452.000000</td>\n",
       "      <td>10.000000</td>\n",
       "      <td>0.000000</td>\n",
       "      <td>0.000000</td>\n",
       "      <td>0.000000</td>\n",
       "      <td>0.000000</td>\n",
       "      <td>1.003002e+09</td>\n",
       "      <td>0.000000</td>\n",
       "      <td>0.000000</td>\n",
       "      <td>0.000000</td>\n",
       "      <td>1.0</td>\n",
       "    </tr>\n",
       "    <tr>\n",
       "      <td>25%</td>\n",
       "      <td>173660.000000</td>\n",
       "      <td>175.000000</td>\n",
       "      <td>0.000000</td>\n",
       "      <td>0.000000</td>\n",
       "      <td>0.000000</td>\n",
       "      <td>0.000000</td>\n",
       "      <td>1.285067e+09</td>\n",
       "      <td>0.000000</td>\n",
       "      <td>0.000000</td>\n",
       "      <td>0.000000</td>\n",
       "      <td>1.0</td>\n",
       "    </tr>\n",
       "    <tr>\n",
       "      <td>50%</td>\n",
       "      <td>200932.000000</td>\n",
       "      <td>250.000000</td>\n",
       "      <td>0.000000</td>\n",
       "      <td>0.000000</td>\n",
       "      <td>0.000000</td>\n",
       "      <td>0.000000</td>\n",
       "      <td>1.538167e+09</td>\n",
       "      <td>0.000000</td>\n",
       "      <td>0.000000</td>\n",
       "      <td>0.000000</td>\n",
       "      <td>1.0</td>\n",
       "    </tr>\n",
       "    <tr>\n",
       "      <td>75%</td>\n",
       "      <td>263815.000000</td>\n",
       "      <td>3900.000000</td>\n",
       "      <td>0.000000</td>\n",
       "      <td>0.000000</td>\n",
       "      <td>0.000000</td>\n",
       "      <td>105.000000</td>\n",
       "      <td>1.750303e+09</td>\n",
       "      <td>250.000000</td>\n",
       "      <td>112.300000</td>\n",
       "      <td>208.090000</td>\n",
       "      <td>1.0</td>\n",
       "    </tr>\n",
       "    <tr>\n",
       "      <td>max</td>\n",
       "      <td>407677.000000</td>\n",
       "      <td>14697.000000</td>\n",
       "      <td>4600.000000</td>\n",
       "      <td>4600.000000</td>\n",
       "      <td>1590.000000</td>\n",
       "      <td>12737.000000</td>\n",
       "      <td>1.992949e+09</td>\n",
       "      <td>12737.000000</td>\n",
       "      <td>14697.000000</td>\n",
       "      <td>7200.000000</td>\n",
       "      <td>1.0</td>\n",
       "    </tr>\n",
       "  </tbody>\n",
       "</table>\n",
       "</div>"
      ],
      "text/plain": [
       "       Ticket Number       Charges      Payments  Insurance Payment  \\\n",
       "count   10357.000000  10357.000000  10357.000000       10357.000000   \n",
       "mean   213621.134402   1602.650574     44.679865          41.129217   \n",
       "std     61672.060597   1882.231263    211.645956         208.343187   \n",
       "min    104452.000000     10.000000      0.000000           0.000000   \n",
       "25%    173660.000000    175.000000      0.000000           0.000000   \n",
       "50%    200932.000000    250.000000      0.000000           0.000000   \n",
       "75%    263815.000000   3900.000000      0.000000           0.000000   \n",
       "max    407677.000000  14697.000000   4600.000000        4600.000000   \n",
       "\n",
       "       Patient Payment     Writeoffs           NPI  Insurance Bal  \\\n",
       "count     10357.000000  10357.000000  1.035700e+04   10357.000000   \n",
       "mean          3.550648    493.463687  1.517730e+09     707.961028   \n",
       "std          40.978363   1215.058115  2.808536e+08    1478.907449   \n",
       "min           0.000000      0.000000  1.003002e+09       0.000000   \n",
       "25%           0.000000      0.000000  1.285067e+09       0.000000   \n",
       "50%           0.000000      0.000000  1.538167e+09       0.000000   \n",
       "75%           0.000000    105.000000  1.750303e+09     250.000000   \n",
       "max        1590.000000  12737.000000  1.992949e+09   12737.000000   \n",
       "\n",
       "        Patient Bal  Allowed Amount  Case Count  \n",
       "count  10357.000000    10357.000000     10357.0  \n",
       "mean     355.345011      374.690578         1.0  \n",
       "std     1066.710826     1006.419773         0.0  \n",
       "min        0.000000        0.000000         1.0  \n",
       "25%        0.000000        0.000000         1.0  \n",
       "50%        0.000000        0.000000         1.0  \n",
       "75%      112.300000      208.090000         1.0  \n",
       "max    14697.000000     7200.000000         1.0  "
      ]
     },
     "execution_count": 9,
     "metadata": {},
     "output_type": "execute_result"
    }
   ],
   "source": [
    "df.describe()"
   ]
  },
  {
   "cell_type": "code",
   "execution_count": 10,
   "metadata": {},
   "outputs": [
    {
     "data": {
      "text/html": [
       "<div>\n",
       "<style scoped>\n",
       "    .dataframe tbody tr th:only-of-type {\n",
       "        vertical-align: middle;\n",
       "    }\n",
       "\n",
       "    .dataframe tbody tr th {\n",
       "        vertical-align: top;\n",
       "    }\n",
       "\n",
       "    .dataframe thead th {\n",
       "        text-align: right;\n",
       "    }\n",
       "</style>\n",
       "<table border=\"1\" class=\"dataframe\">\n",
       "  <thead>\n",
       "    <tr style=\"text-align: right;\">\n",
       "      <th></th>\n",
       "      <th>Date of Service</th>\n",
       "      <th>Carrier Code</th>\n",
       "      <th>FinancialClass</th>\n",
       "      <th>CPT</th>\n",
       "      <th>Date of Entry</th>\n",
       "      <th>Payment Post Date</th>\n",
       "      <th>Ordering Clinic</th>\n",
       "      <th>Denied Code</th>\n",
       "      <th>First Billed Date</th>\n",
       "      <th>Provider Profile</th>\n",
       "    </tr>\n",
       "  </thead>\n",
       "  <tbody>\n",
       "    <tr>\n",
       "      <td>count</td>\n",
       "      <td>10357</td>\n",
       "      <td>10357</td>\n",
       "      <td>10357</td>\n",
       "      <td>10357</td>\n",
       "      <td>10357</td>\n",
       "      <td>10357</td>\n",
       "      <td>10353</td>\n",
       "      <td>10357</td>\n",
       "      <td>10357</td>\n",
       "      <td>10357</td>\n",
       "    </tr>\n",
       "    <tr>\n",
       "      <td>unique</td>\n",
       "      <td>1</td>\n",
       "      <td>339</td>\n",
       "      <td>9</td>\n",
       "      <td>42</td>\n",
       "      <td>26</td>\n",
       "      <td>32</td>\n",
       "      <td>1057</td>\n",
       "      <td>55</td>\n",
       "      <td>27</td>\n",
       "      <td>2</td>\n",
       "    </tr>\n",
       "    <tr>\n",
       "      <td>top</td>\n",
       "      <td>1/2/2019</td>\n",
       "      <td>AETLIF-E</td>\n",
       "      <td>CT - CONTRACTED</td>\n",
       "      <td>81420</td>\n",
       "      <td>1/27/2019</td>\n",
       "      <td>-</td>\n",
       "      <td>MOORE OB/GYN</td>\n",
       "      <td>-</td>\n",
       "      <td>1/27/2019</td>\n",
       "      <td>NTINC</td>\n",
       "    </tr>\n",
       "    <tr>\n",
       "      <td>freq</td>\n",
       "      <td>10357</td>\n",
       "      <td>965</td>\n",
       "      <td>5093</td>\n",
       "      <td>1710</td>\n",
       "      <td>1928</td>\n",
       "      <td>3559</td>\n",
       "      <td>146</td>\n",
       "      <td>6298</td>\n",
       "      <td>1784</td>\n",
       "      <td>10246</td>\n",
       "    </tr>\n",
       "  </tbody>\n",
       "</table>\n",
       "</div>"
      ],
      "text/plain": [
       "       Date of Service Carrier Code   FinancialClass    CPT Date of Entry  \\\n",
       "count            10357        10357            10357  10357         10357   \n",
       "unique               1          339                9     42            26   \n",
       "top           1/2/2019     AETLIF-E  CT - CONTRACTED  81420     1/27/2019   \n",
       "freq             10357          965             5093   1710          1928   \n",
       "\n",
       "       Payment Post Date Ordering Clinic Denied Code First Billed Date  \\\n",
       "count              10357           10353       10357             10357   \n",
       "unique                32            1057          55                27   \n",
       "top                    -    MOORE OB/GYN           -         1/27/2019   \n",
       "freq                3559             146        6298              1784   \n",
       "\n",
       "       Provider Profile  \n",
       "count             10357  \n",
       "unique                2  \n",
       "top               NTINC  \n",
       "freq              10246  "
      ]
     },
     "execution_count": 10,
     "metadata": {},
     "output_type": "execute_result"
    }
   ],
   "source": [
    "df.describe(include=['object'])"
   ]
  },
  {
   "cell_type": "code",
   "execution_count": 11,
   "metadata": {},
   "outputs": [],
   "source": [
    "df.to_csv(\"C:/Users/Laval/Downloads/MSCatUOM/data-science/project/data/Natera_process_data.csv\")"
   ]
  },
  {
   "cell_type": "code",
   "execution_count": 13,
   "metadata": {},
   "outputs": [
    {
     "data": {
      "text/plain": [
       "(10357, 21)"
      ]
     },
     "execution_count": 13,
     "metadata": {},
     "output_type": "execute_result"
    }
   ],
   "source": [
    "df.shape"
   ]
  },
  {
   "cell_type": "code",
   "execution_count": 15,
   "metadata": {},
   "outputs": [
    {
     "data": {
      "text/plain": [
       "Ticket Number        0\n",
       "Date of Service      0\n",
       "Carrier Code         0\n",
       "Charges              0\n",
       "Payments             0\n",
       "Insurance Payment    0\n",
       "Patient Payment      0\n",
       "Writeoffs            0\n",
       "FinancialClass       0\n",
       "CPT                  0\n",
       "Date of Entry        0\n",
       "Payment Post Date    0\n",
       "NPI                  0\n",
       "Ordering Clinic      4\n",
       "Denied Code          0\n",
       "First Billed Date    0\n",
       "Provider Profile     0\n",
       "Insurance Bal        0\n",
       "Patient Bal          0\n",
       "Allowed Amount       0\n",
       "Case Count           0\n",
       "dtype: int64"
      ]
     },
     "execution_count": 15,
     "metadata": {},
     "output_type": "execute_result"
    }
   ],
   "source": [
    "df.isnull().sum()"
   ]
  },
  {
   "cell_type": "code",
   "execution_count": 18,
   "metadata": {},
   "outputs": [],
   "source": [
    "charges = df['Charges']"
   ]
  },
  {
   "cell_type": "code",
   "execution_count": 30,
   "metadata": {},
   "outputs": [
    {
     "data": {
      "text/plain": [
       "<matplotlib.axes._subplots.AxesSubplot at 0x13adc735a08>"
      ]
     },
     "execution_count": 30,
     "metadata": {},
     "output_type": "execute_result"
    },
    {
     "data": {
      "image/png": "[encoded data removed]",
      "text/plain": [
       "<Figure size 432x288 with 1 Axes>"
      ]
     },
     "metadata": {
      "needs_background": "light"
     },
     "output_type": "display_data"
    }
   ],
   "source": [
    "charges.hist()"
   ]
  },
  {
   "cell_type": "code",
   "execution_count": null,
   "metadata": {},
   "outputs": [],
   "source": []
  },
  {
   "cell_type": "code",
   "execution_count": null,
   "metadata": {},
   "outputs": [],
   "source": []
  },
  {
   "cell_type": "code",
   "execution_count": 28,
   "metadata": {},
   "outputs": [
    {
     "data": {
      "text/plain": [
       "count    10357.000000\n",
       "mean      1602.650574\n",
       "std       1882.231263\n",
       "min         10.000000\n",
       "25%        175.000000\n",
       "50%        250.000000\n",
       "75%       3900.000000\n",
       "max      14697.000000\n",
       "Name: Charges, dtype: float64"
      ]
     },
     "execution_count": 28,
     "metadata": {},
     "output_type": "execute_result"
    }
   ],
   "source": [
    "charges.describe()"
   ]
  },
  {
   "cell_type": "code",
   "execution_count": 32,
   "metadata": {},
   "outputs": [
    {
     "data": {
      "text/plain": [
       "<matplotlib.axes._subplots.AxesSubplot at 0x13adde04ac8>"
      ]
     },
     "execution_count": 32,
     "metadata": {},
     "output_type": "execute_result"
    },
    {
     "data": {
      "image/png": "[encoded data removed]",
      "text/plain": [
       "<Figure size 432x288 with 1 Axes>"
      ]
     },
     "metadata": {
      "needs_background": "light"
     },
     "output_type": "display_data"
    }
   ],
   "source": [
    "sns.countplot(df['FinancialClass'])"
   ]
  },
  {
   "cell_type": "code",
   "execution_count": 37,
   "metadata": {},
   "outputs": [
    {
     "data": {
      "text/plain": [
       "0    3900.0\n",
       "1    3900.0\n",
       "2     795.0\n",
       "3    3900.0\n",
       "4    3900.0\n",
       "Name: Charges, dtype: float64"
      ]
     },
     "execution_count": 37,
     "metadata": {},
     "output_type": "execute_result"
    }
   ],
   "source": [
    "charges.head()"
   ]
  },
  {
   "cell_type": "code",
   "execution_count": 38,
   "metadata": {},
   "outputs": [
    {
     "data": {
      "text/plain": [
       "<matplotlib.axes._subplots.AxesSubplot at 0x13ade08aec8>"
      ]
     },
     "execution_count": 38,
     "metadata": {},
     "output_type": "execute_result"
    },
    {
     "data": {
      "image/png": "[encoded data removed]",
      "text/plain": [
       "<Figure size 432x288 with 1 Axes>"
      ]
     },
     "metadata": {
      "needs_background": "light"
     },
     "output_type": "display_data"
    }
   ],
   "source": [
    "charges.plot(kind='box', title='charges box plot')"
   ]
  },
  {
   "cell_type": "code",
   "execution_count": 40,
   "metadata": {},
   "outputs": [
    {
     "data": {
      "text/plain": [
       "<matplotlib.axes._subplots.AxesSubplot at 0x13ade16e3c8>"
      ]
     },
     "execution_count": 40,
     "metadata": {},
     "output_type": "execute_result"
    },
    {
     "data": {
      "image/png": "[encoded data removed]",
      "text/plain": [
       "<Figure size 432x288 with 1 Axes>"
      ]
     },
     "metadata": {
      "needs_background": "light"
     },
     "output_type": "display_data"
    }
   ],
   "source": [
    "charges.plot(kind='hist', title='charges hist plot')"
   ]
  },
  {
   "cell_type": "code",
   "execution_count": null,
   "metadata": {},
   "outputs": [],
   "source": []
  },
  {
   "cell_type": "code",
   "execution_count": null,
   "metadata": {},
   "outputs": [],
   "source": []
  },
  {
   "cell_type": "code",
   "execution_count": null,
   "metadata": {},
   "outputs": [],
   "source": []
  },
  {
   "cell_type": "code",
   "execution_count": null,
   "metadata": {},
   "outputs": [],
   "source": []
  },
  {
   "cell_type": "code",
   "execution_count": null,
   "metadata": {},
   "outputs": [],
   "source": []
  },
  {
   "cell_type": "code",
   "execution_count": null,
   "metadata": {},
   "outputs": [],
   "source": []
  },
  {
   "cell_type": "code",
   "execution_count": null,
   "metadata": {},
   "outputs": [],
   "source": []
  },
  {
   "cell_type": "code",
   "execution_count": null,
   "metadata": {},
   "outputs": [],
   "source": []
  },
  {
   "cell_type": "code",
   "execution_count": null,
   "metadata": {},
   "outputs": [],
   "source": []
  },
  {
   "cell_type": "code",
   "execution_count": 22,
   "metadata": {},
   "outputs": [],
   "source": [
    "plt.show()"
   ]
  },
  {
   "cell_type": "code",
   "execution_count": null,
   "metadata": {},
   "outputs": [],
   "source": []
  },
  {
   "cell_type": "code",
   "execution_count": null,
   "metadata": {},
   "outputs": [],
   "source": []
  },
  {
   "cell_type": "code",
   "execution_count": null,
   "metadata": {},
   "outputs": [],
   "source": []
  },
  {
   "cell_type": "code",
   "execution_count": null,
   "metadata": {},
   "outputs": [],
   "source": []
  },
  {
   "cell_type": "code",
   "execution_count": null,
   "metadata": {},
   "outputs": [],
   "source": []
  },
  {
   "cell_type": "code",
   "execution_count": null,
   "metadata": {},
   "outputs": [],
   "source": []
  }
 ],
 "metadata": {
  "kernelspec": {
   "display_name": "Python 3",
   "language": "python",
   "name": "python3"
  },
  "language_info": {
   "codemirror_mode": {
    "name": "ipython",
    "version": 3
   },
   "file_extension": ".py",
   "mimetype": "text/x-python",
   "name": "python",
   "nbconvert_exporter": "python",
   "pygments_lexer": "ipython3",
   "version": "3.7.4"
  }
 },
 "nbformat": 4,
 "nbformat_minor": 2
}
