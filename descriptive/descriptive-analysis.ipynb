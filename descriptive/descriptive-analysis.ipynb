{
 "cells": [
  {
   "cell_type": "code",
   "execution_count": 1,
   "metadata": {},
   "outputs": [],
   "source": [
    "import pandas as pd\n",
    "import numpy as np\n",
    "import matplotlib.pyplot as plt\n",
    "import seaborn as sns"
   ]
  },
  {
   "cell_type": "code",
   "execution_count": 2,
   "metadata": {},
   "outputs": [],
   "source": [
    "df= pd.read_csv(\"C:/Users/Laval/Downloads/MSCatUOM/data-science/project/data/Natera.csv\")"
   ]
  },
  {
   "cell_type": "code",
   "execution_count": 3,
   "metadata": {},
   "outputs": [
    {
     "data": {
      "text/html": [
       "<div>\n",
       "<style scoped>\n",
       "    .dataframe tbody tr th:only-of-type {\n",
       "        vertical-align: middle;\n",
       "    }\n",
       "\n",
       "    .dataframe tbody tr th {\n",
       "        vertical-align: top;\n",
       "    }\n",
       "\n",
       "    .dataframe thead th {\n",
       "        text-align: right;\n",
       "    }\n",
       "</style>\n",
       "<table border=\"1\" class=\"dataframe\">\n",
       "  <thead>\n",
       "    <tr style=\"text-align: right;\">\n",
       "      <th></th>\n",
       "      <th>Ticket Number</th>\n",
       "      <th>Date of Service</th>\n",
       "      <th>Carrier Code</th>\n",
       "      <th>Charges</th>\n",
       "      <th>Payments</th>\n",
       "      <th>Insurance Payment</th>\n",
       "      <th>Patient Payment</th>\n",
       "      <th>Writeoffs</th>\n",
       "      <th>FinancialClass</th>\n",
       "      <th>CPT</th>\n",
       "      <th>...</th>\n",
       "      <th>Payment Post Date</th>\n",
       "      <th>NPI</th>\n",
       "      <th>Ordering Clinic</th>\n",
       "      <th>Denied Code</th>\n",
       "      <th>First Billed Date</th>\n",
       "      <th>Provider Profile</th>\n",
       "      <th>Insurance Bal</th>\n",
       "      <th>Patient Bal</th>\n",
       "      <th>Allowed Amount</th>\n",
       "      <th>Case Count</th>\n",
       "    </tr>\n",
       "  </thead>\n",
       "  <tbody>\n",
       "    <tr>\n",
       "      <td>0</td>\n",
       "      <td>104452</td>\n",
       "      <td>1/2/2019</td>\n",
       "      <td>CFHP-E2</td>\n",
       "      <td>$3,900.00</td>\n",
       "      <td>$0.00</td>\n",
       "      <td>$0.00</td>\n",
       "      <td>$0.00</td>\n",
       "      <td>$0.00</td>\n",
       "      <td>NC - NON-CONTRACTED</td>\n",
       "      <td>81507</td>\n",
       "      <td>...</td>\n",
       "      <td>1/22/2019</td>\n",
       "      <td>1316428238</td>\n",
       "      <td>ALAMO WOMEN'S OBGYN</td>\n",
       "      <td>197</td>\n",
       "      <td>1/8/2019</td>\n",
       "      <td>NTINC</td>\n",
       "      <td>$0.00</td>\n",
       "      <td>$3,900.00</td>\n",
       "      <td>$0.00</td>\n",
       "      <td>1</td>\n",
       "    </tr>\n",
       "    <tr>\n",
       "      <td>1</td>\n",
       "      <td>104453</td>\n",
       "      <td>1/2/2019</td>\n",
       "      <td>CFHP-E2</td>\n",
       "      <td>$3,900.00</td>\n",
       "      <td>$0.00</td>\n",
       "      <td>$0.00</td>\n",
       "      <td>$0.00</td>\n",
       "      <td>$0.00</td>\n",
       "      <td>NC - NON-CONTRACTED</td>\n",
       "      <td>81507</td>\n",
       "      <td>...</td>\n",
       "      <td>1/24/2019</td>\n",
       "      <td>1316428238</td>\n",
       "      <td>ALAMO WOMEN'S OBGYN</td>\n",
       "      <td>197</td>\n",
       "      <td>1/8/2019</td>\n",
       "      <td>NTINC</td>\n",
       "      <td>$0.00</td>\n",
       "      <td>$3,900.00</td>\n",
       "      <td>$0.00</td>\n",
       "      <td>1</td>\n",
       "    </tr>\n",
       "    <tr>\n",
       "      <td>2</td>\n",
       "      <td>104454</td>\n",
       "      <td>1/2/2019</td>\n",
       "      <td>NCS</td>\n",
       "      <td>$795.00</td>\n",
       "      <td>$249.00</td>\n",
       "      <td>$0.00</td>\n",
       "      <td>$249.00</td>\n",
       "      <td>$546.00</td>\n",
       "      <td>SP - SELF PAY</td>\n",
       "      <td>99999</td>\n",
       "      <td>...</td>\n",
       "      <td>2/10/2019</td>\n",
       "      <td>1699760116</td>\n",
       "      <td>COMPREHENSIVE WOMEN'S HEALTHCARE</td>\n",
       "      <td>-</td>\n",
       "      <td>-</td>\n",
       "      <td>NTINC</td>\n",
       "      <td>$0.00</td>\n",
       "      <td>$0.00</td>\n",
       "      <td>$0.00</td>\n",
       "      <td>1</td>\n",
       "    </tr>\n",
       "    <tr>\n",
       "      <td>3</td>\n",
       "      <td>104496</td>\n",
       "      <td>1/2/2019</td>\n",
       "      <td>AETLIF-E</td>\n",
       "      <td>$3,900.00</td>\n",
       "      <td>$0.00</td>\n",
       "      <td>$0.00</td>\n",
       "      <td>$0.00</td>\n",
       "      <td>$0.00</td>\n",
       "      <td>CT - CONTRACTED</td>\n",
       "      <td>81420</td>\n",
       "      <td>...</td>\n",
       "      <td>1/28/2019</td>\n",
       "      <td>1609216597</td>\n",
       "      <td>PEACHTREE WOMEN'S CLINIC - NORTHSIDE</td>\n",
       "      <td>-</td>\n",
       "      <td>1/8/2019</td>\n",
       "      <td>NTINC</td>\n",
       "      <td>$3,900.00</td>\n",
       "      <td>$0.00</td>\n",
       "      <td>$749.00</td>\n",
       "      <td>1</td>\n",
       "    </tr>\n",
       "    <tr>\n",
       "      <td>4</td>\n",
       "      <td>104497</td>\n",
       "      <td>1/2/2019</td>\n",
       "      <td>AETLIF-E</td>\n",
       "      <td>$3,900.00</td>\n",
       "      <td>$0.00</td>\n",
       "      <td>$0.00</td>\n",
       "      <td>$0.00</td>\n",
       "      <td>$0.00</td>\n",
       "      <td>CT - CONTRACTED</td>\n",
       "      <td>81420</td>\n",
       "      <td>...</td>\n",
       "      <td>1/30/2019</td>\n",
       "      <td>1609216597</td>\n",
       "      <td>PEACHTREE WOMEN'S CLINIC - NORTHSIDE</td>\n",
       "      <td>-</td>\n",
       "      <td>1/8/2019</td>\n",
       "      <td>NTINC</td>\n",
       "      <td>$3,900.00</td>\n",
       "      <td>$0.00</td>\n",
       "      <td>$749.00</td>\n",
       "      <td>1</td>\n",
       "    </tr>\n",
       "  </tbody>\n",
       "</table>\n",
       "<p>5 rows × 21 columns</p>\n",
       "</div>"
      ],
      "text/plain": [
       "   Ticket Number Date of Service Carrier Code     Charges  Payments  \\\n",
       "0         104452        1/2/2019      CFHP-E2  $3,900.00     $0.00    \n",
       "1         104453        1/2/2019      CFHP-E2  $3,900.00     $0.00    \n",
       "2         104454        1/2/2019          NCS    $795.00   $249.00    \n",
       "3         104496        1/2/2019     AETLIF-E  $3,900.00     $0.00    \n",
       "4         104497        1/2/2019     AETLIF-E  $3,900.00     $0.00    \n",
       "\n",
       "  Insurance Payment Patient Payment Writeoffs       FinancialClass    CPT  \\\n",
       "0            $0.00           $0.00     $0.00   NC - NON-CONTRACTED  81507   \n",
       "1            $0.00           $0.00     $0.00   NC - NON-CONTRACTED  81507   \n",
       "2            $0.00         $249.00   $546.00         SP - SELF PAY  99999   \n",
       "3            $0.00           $0.00     $0.00       CT - CONTRACTED  81420   \n",
       "4            $0.00           $0.00     $0.00       CT - CONTRACTED  81420   \n",
       "\n",
       "   ... Payment Post Date         NPI                       Ordering Clinic  \\\n",
       "0  ...         1/22/2019  1316428238                   ALAMO WOMEN'S OBGYN   \n",
       "1  ...         1/24/2019  1316428238                   ALAMO WOMEN'S OBGYN   \n",
       "2  ...         2/10/2019  1699760116      COMPREHENSIVE WOMEN'S HEALTHCARE   \n",
       "3  ...         1/28/2019  1609216597  PEACHTREE WOMEN'S CLINIC - NORTHSIDE   \n",
       "4  ...         1/30/2019  1609216597  PEACHTREE WOMEN'S CLINIC - NORTHSIDE   \n",
       "\n",
       "  Denied Code First Billed Date Provider Profile Insurance Bal Patient Bal  \\\n",
       "0         197          1/8/2019            NTINC        $0.00   $3,900.00    \n",
       "1         197          1/8/2019            NTINC        $0.00   $3,900.00    \n",
       "2           -                 -            NTINC        $0.00       $0.00    \n",
       "3           -          1/8/2019            NTINC    $3,900.00       $0.00    \n",
       "4           -          1/8/2019            NTINC    $3,900.00       $0.00    \n",
       "\n",
       "  Allowed Amount Case Count  \n",
       "0         $0.00           1  \n",
       "1         $0.00           1  \n",
       "2         $0.00           1  \n",
       "3       $749.00           1  \n",
       "4       $749.00           1  \n",
       "\n",
       "[5 rows x 21 columns]"
      ]
     },
     "execution_count": 3,
     "metadata": {},
     "output_type": "execute_result"
    }
   ],
   "source": [
    "df.head()"
   ]
  },
  {
   "cell_type": "markdown",
   "metadata": {},
   "source": [
    "Try without pre processing"
   ]
  },
  {
   "cell_type": "code",
   "execution_count": 4,
   "metadata": {},
   "outputs": [
    {
     "data": {
      "text/html": [
       "<div>\n",
       "<style scoped>\n",
       "    .dataframe tbody tr th:only-of-type {\n",
       "        vertical-align: middle;\n",
       "    }\n",
       "\n",
       "    .dataframe tbody tr th {\n",
       "        vertical-align: top;\n",
       "    }\n",
       "\n",
       "    .dataframe thead th {\n",
       "        text-align: right;\n",
       "    }\n",
       "</style>\n",
       "<table border=\"1\" class=\"dataframe\">\n",
       "  <thead>\n",
       "    <tr style=\"text-align: right;\">\n",
       "      <th></th>\n",
       "      <th>Ticket Number</th>\n",
       "      <th>NPI</th>\n",
       "      <th>Case Count</th>\n",
       "    </tr>\n",
       "  </thead>\n",
       "  <tbody>\n",
       "    <tr>\n",
       "      <td>count</td>\n",
       "      <td>10357.000000</td>\n",
       "      <td>1.035700e+04</td>\n",
       "      <td>10357.0</td>\n",
       "    </tr>\n",
       "    <tr>\n",
       "      <td>mean</td>\n",
       "      <td>213621.134402</td>\n",
       "      <td>1.517730e+09</td>\n",
       "      <td>1.0</td>\n",
       "    </tr>\n",
       "    <tr>\n",
       "      <td>std</td>\n",
       "      <td>61672.060597</td>\n",
       "      <td>2.808536e+08</td>\n",
       "      <td>0.0</td>\n",
       "    </tr>\n",
       "    <tr>\n",
       "      <td>min</td>\n",
       "      <td>104452.000000</td>\n",
       "      <td>1.003002e+09</td>\n",
       "      <td>1.0</td>\n",
       "    </tr>\n",
       "    <tr>\n",
       "      <td>25%</td>\n",
       "      <td>173660.000000</td>\n",
       "      <td>1.285067e+09</td>\n",
       "      <td>1.0</td>\n",
       "    </tr>\n",
       "    <tr>\n",
       "      <td>50%</td>\n",
       "      <td>200932.000000</td>\n",
       "      <td>1.538167e+09</td>\n",
       "      <td>1.0</td>\n",
       "    </tr>\n",
       "    <tr>\n",
       "      <td>75%</td>\n",
       "      <td>263815.000000</td>\n",
       "      <td>1.750303e+09</td>\n",
       "      <td>1.0</td>\n",
       "    </tr>\n",
       "    <tr>\n",
       "      <td>max</td>\n",
       "      <td>407677.000000</td>\n",
       "      <td>1.992949e+09</td>\n",
       "      <td>1.0</td>\n",
       "    </tr>\n",
       "  </tbody>\n",
       "</table>\n",
       "</div>"
      ],
      "text/plain": [
       "       Ticket Number           NPI  Case Count\n",
       "count   10357.000000  1.035700e+04     10357.0\n",
       "mean   213621.134402  1.517730e+09         1.0\n",
       "std     61672.060597  2.808536e+08         0.0\n",
       "min    104452.000000  1.003002e+09         1.0\n",
       "25%    173660.000000  1.285067e+09         1.0\n",
       "50%    200932.000000  1.538167e+09         1.0\n",
       "75%    263815.000000  1.750303e+09         1.0\n",
       "max    407677.000000  1.992949e+09         1.0"
      ]
     },
     "execution_count": 4,
     "metadata": {},
     "output_type": "execute_result"
    }
   ],
   "source": [
    "df.describe()"
   ]
  },
  {
   "cell_type": "code",
   "execution_count": 5,
   "metadata": {},
   "outputs": [],
   "source": [
    "cols = ['Payments', 'Charges', 'Insurance Payment', 'Patient Payment', 'Writeoffs', 'Insurance Bal', 'Patient Bal', 'Allowed Amount']\n",
    "for col in cols:\n",
    "  df[col] = pd.to_numeric(df[col].apply(lambda x: x.replace('$','')).apply(lambda x: x.replace(' ','')).apply(lambda x: x.replace(',','')).apply(lambda x: x.replace('(','')).apply(lambda x: x.replace(')','')))"
   ]
  },
  {
   "cell_type": "code",
   "execution_count": 6,
   "metadata": {},
   "outputs": [],
   "source": [
    "cols = ['Date of Service', 'Date of Entry', 'Payment Post Date', 'First Billed Date']\n",
    "for col in cols:\n",
    "  df[col] = pd.to_datetime(df[col], errors='coerce')"
   ]
  },
  {
   "cell_type": "code",
   "execution_count": 7,
   "metadata": {},
   "outputs": [],
   "source": [
    "cols = ['Ticket Number', 'Carrier Code', 'FinancialClass', 'CPT', 'NPI', 'Ordering Clinic', 'Denied Code', 'Provider Profile']\n",
    "for col in cols:\n",
    "  df[col] = df[col].astype('str')"
   ]
  },
  {
   "cell_type": "code",
   "execution_count": 8,
   "metadata": {},
   "outputs": [],
   "source": [
    "def checkStatus(row):\n",
    "  if(row['Denied Code'].strip() == '-'  and row['Payment Post Date'].date() > row['Date of Service'].date()):\n",
    "    return True\n",
    "  elif(row['Denied Code'].strip() != '-' and row['Payment Post Date'].date() > row['Date of Service'].date()):\n",
    "    return False\n",
    "  else:\n",
    "    return None\n",
    "df['accepted'] = df.apply(lambda row: checkStatus(row), axis=1)"
   ]
  },
  {
   "cell_type": "code",
   "execution_count": 9,
   "metadata": {},
   "outputs": [
    {
     "data": {
      "text/html": [
       "<div>\n",
       "<style scoped>\n",
       "    .dataframe tbody tr th:only-of-type {\n",
       "        vertical-align: middle;\n",
       "    }\n",
       "\n",
       "    .dataframe tbody tr th {\n",
       "        vertical-align: top;\n",
       "    }\n",
       "\n",
       "    .dataframe thead th {\n",
       "        text-align: right;\n",
       "    }\n",
       "</style>\n",
       "<table border=\"1\" class=\"dataframe\">\n",
       "  <thead>\n",
       "    <tr style=\"text-align: right;\">\n",
       "      <th></th>\n",
       "      <th>Ticket Number</th>\n",
       "      <th>Carrier Code</th>\n",
       "      <th>FinancialClass</th>\n",
       "      <th>CPT</th>\n",
       "      <th>NPI</th>\n",
       "      <th>Ordering Clinic</th>\n",
       "      <th>Denied Code</th>\n",
       "      <th>Provider Profile</th>\n",
       "      <th>accepted</th>\n",
       "    </tr>\n",
       "  </thead>\n",
       "  <tbody>\n",
       "    <tr>\n",
       "      <td>count</td>\n",
       "      <td>10357</td>\n",
       "      <td>10357</td>\n",
       "      <td>10357</td>\n",
       "      <td>10357</td>\n",
       "      <td>10357</td>\n",
       "      <td>10357</td>\n",
       "      <td>10357</td>\n",
       "      <td>10357</td>\n",
       "      <td>6798</td>\n",
       "    </tr>\n",
       "    <tr>\n",
       "      <td>unique</td>\n",
       "      <td>10357</td>\n",
       "      <td>339</td>\n",
       "      <td>9</td>\n",
       "      <td>42</td>\n",
       "      <td>1437</td>\n",
       "      <td>1058</td>\n",
       "      <td>55</td>\n",
       "      <td>2</td>\n",
       "      <td>2</td>\n",
       "    </tr>\n",
       "    <tr>\n",
       "      <td>top</td>\n",
       "      <td>242323</td>\n",
       "      <td>AETLIF-E</td>\n",
       "      <td>CT - CONTRACTED</td>\n",
       "      <td>81420</td>\n",
       "      <td>1669532347</td>\n",
       "      <td>MOORE OB/GYN</td>\n",
       "      <td>-</td>\n",
       "      <td>NTINC</td>\n",
       "      <td>False</td>\n",
       "    </tr>\n",
       "    <tr>\n",
       "      <td>freq</td>\n",
       "      <td>1</td>\n",
       "      <td>965</td>\n",
       "      <td>5093</td>\n",
       "      <td>1710</td>\n",
       "      <td>146</td>\n",
       "      <td>146</td>\n",
       "      <td>6298</td>\n",
       "      <td>10246</td>\n",
       "      <td>4057</td>\n",
       "    </tr>\n",
       "  </tbody>\n",
       "</table>\n",
       "</div>"
      ],
      "text/plain": [
       "       Ticket Number Carrier Code   FinancialClass    CPT         NPI  \\\n",
       "count          10357        10357            10357  10357       10357   \n",
       "unique         10357          339                9     42        1437   \n",
       "top           242323     AETLIF-E  CT - CONTRACTED  81420  1669532347   \n",
       "freq               1          965             5093   1710         146   \n",
       "\n",
       "       Ordering Clinic Denied Code Provider Profile accepted  \n",
       "count            10357       10357            10357     6798  \n",
       "unique            1058          55                2        2  \n",
       "top       MOORE OB/GYN           -            NTINC    False  \n",
       "freq               146        6298            10246     4057  "
      ]
     },
     "execution_count": 9,
     "metadata": {},
     "output_type": "execute_result"
    }
   ],
   "source": [
    "df.describe(include=['object'])"
   ]
  },
  {
   "cell_type": "markdown",
   "metadata": {},
   "source": [
    "remove doller sign"
   ]
  },
  {
   "cell_type": "code",
   "execution_count": 10,
   "metadata": {},
   "outputs": [
    {
     "data": {
      "text/html": [
       "<div>\n",
       "<style scoped>\n",
       "    .dataframe tbody tr th:only-of-type {\n",
       "        vertical-align: middle;\n",
       "    }\n",
       "\n",
       "    .dataframe tbody tr th {\n",
       "        vertical-align: top;\n",
       "    }\n",
       "\n",
       "    .dataframe thead th {\n",
       "        text-align: right;\n",
       "    }\n",
       "</style>\n",
       "<table border=\"1\" class=\"dataframe\">\n",
       "  <thead>\n",
       "    <tr style=\"text-align: right;\">\n",
       "      <th></th>\n",
       "      <th>Ticket Number</th>\n",
       "      <th>Date of Service</th>\n",
       "      <th>Carrier Code</th>\n",
       "      <th>Charges</th>\n",
       "      <th>Payments</th>\n",
       "      <th>Insurance Payment</th>\n",
       "      <th>Patient Payment</th>\n",
       "      <th>Writeoffs</th>\n",
       "      <th>FinancialClass</th>\n",
       "      <th>CPT</th>\n",
       "      <th>...</th>\n",
       "      <th>NPI</th>\n",
       "      <th>Ordering Clinic</th>\n",
       "      <th>Denied Code</th>\n",
       "      <th>First Billed Date</th>\n",
       "      <th>Provider Profile</th>\n",
       "      <th>Insurance Bal</th>\n",
       "      <th>Patient Bal</th>\n",
       "      <th>Allowed Amount</th>\n",
       "      <th>Case Count</th>\n",
       "      <th>accepted</th>\n",
       "    </tr>\n",
       "  </thead>\n",
       "  <tbody>\n",
       "    <tr>\n",
       "      <td>0</td>\n",
       "      <td>104452</td>\n",
       "      <td>2019-01-02</td>\n",
       "      <td>CFHP-E2</td>\n",
       "      <td>3900.0</td>\n",
       "      <td>0.0</td>\n",
       "      <td>0.0</td>\n",
       "      <td>0.0</td>\n",
       "      <td>0.0</td>\n",
       "      <td>NC - NON-CONTRACTED</td>\n",
       "      <td>81507</td>\n",
       "      <td>...</td>\n",
       "      <td>1316428238</td>\n",
       "      <td>ALAMO WOMEN'S OBGYN</td>\n",
       "      <td>197</td>\n",
       "      <td>2019-01-08</td>\n",
       "      <td>NTINC</td>\n",
       "      <td>0.0</td>\n",
       "      <td>3900.0</td>\n",
       "      <td>0.0</td>\n",
       "      <td>1</td>\n",
       "      <td>False</td>\n",
       "    </tr>\n",
       "    <tr>\n",
       "      <td>1</td>\n",
       "      <td>104453</td>\n",
       "      <td>2019-01-02</td>\n",
       "      <td>CFHP-E2</td>\n",
       "      <td>3900.0</td>\n",
       "      <td>0.0</td>\n",
       "      <td>0.0</td>\n",
       "      <td>0.0</td>\n",
       "      <td>0.0</td>\n",
       "      <td>NC - NON-CONTRACTED</td>\n",
       "      <td>81507</td>\n",
       "      <td>...</td>\n",
       "      <td>1316428238</td>\n",
       "      <td>ALAMO WOMEN'S OBGYN</td>\n",
       "      <td>197</td>\n",
       "      <td>2019-01-08</td>\n",
       "      <td>NTINC</td>\n",
       "      <td>0.0</td>\n",
       "      <td>3900.0</td>\n",
       "      <td>0.0</td>\n",
       "      <td>1</td>\n",
       "      <td>False</td>\n",
       "    </tr>\n",
       "    <tr>\n",
       "      <td>2</td>\n",
       "      <td>104454</td>\n",
       "      <td>2019-01-02</td>\n",
       "      <td>NCS</td>\n",
       "      <td>795.0</td>\n",
       "      <td>249.0</td>\n",
       "      <td>0.0</td>\n",
       "      <td>249.0</td>\n",
       "      <td>546.0</td>\n",
       "      <td>SP - SELF PAY</td>\n",
       "      <td>99999</td>\n",
       "      <td>...</td>\n",
       "      <td>1699760116</td>\n",
       "      <td>COMPREHENSIVE WOMEN'S HEALTHCARE</td>\n",
       "      <td>-</td>\n",
       "      <td>NaT</td>\n",
       "      <td>NTINC</td>\n",
       "      <td>0.0</td>\n",
       "      <td>0.0</td>\n",
       "      <td>0.0</td>\n",
       "      <td>1</td>\n",
       "      <td>True</td>\n",
       "    </tr>\n",
       "    <tr>\n",
       "      <td>3</td>\n",
       "      <td>104496</td>\n",
       "      <td>2019-01-02</td>\n",
       "      <td>AETLIF-E</td>\n",
       "      <td>3900.0</td>\n",
       "      <td>0.0</td>\n",
       "      <td>0.0</td>\n",
       "      <td>0.0</td>\n",
       "      <td>0.0</td>\n",
       "      <td>CT - CONTRACTED</td>\n",
       "      <td>81420</td>\n",
       "      <td>...</td>\n",
       "      <td>1609216597</td>\n",
       "      <td>PEACHTREE WOMEN'S CLINIC - NORTHSIDE</td>\n",
       "      <td>-</td>\n",
       "      <td>2019-01-08</td>\n",
       "      <td>NTINC</td>\n",
       "      <td>3900.0</td>\n",
       "      <td>0.0</td>\n",
       "      <td>749.0</td>\n",
       "      <td>1</td>\n",
       "      <td>True</td>\n",
       "    </tr>\n",
       "    <tr>\n",
       "      <td>4</td>\n",
       "      <td>104497</td>\n",
       "      <td>2019-01-02</td>\n",
       "      <td>AETLIF-E</td>\n",
       "      <td>3900.0</td>\n",
       "      <td>0.0</td>\n",
       "      <td>0.0</td>\n",
       "      <td>0.0</td>\n",
       "      <td>0.0</td>\n",
       "      <td>CT - CONTRACTED</td>\n",
       "      <td>81420</td>\n",
       "      <td>...</td>\n",
       "      <td>1609216597</td>\n",
       "      <td>PEACHTREE WOMEN'S CLINIC - NORTHSIDE</td>\n",
       "      <td>-</td>\n",
       "      <td>2019-01-08</td>\n",
       "      <td>NTINC</td>\n",
       "      <td>3900.0</td>\n",
       "      <td>0.0</td>\n",
       "      <td>749.0</td>\n",
       "      <td>1</td>\n",
       "      <td>True</td>\n",
       "    </tr>\n",
       "  </tbody>\n",
       "</table>\n",
       "<p>5 rows × 22 columns</p>\n",
       "</div>"
      ],
      "text/plain": [
       "  Ticket Number Date of Service Carrier Code  Charges  Payments  \\\n",
       "0        104452      2019-01-02      CFHP-E2   3900.0       0.0   \n",
       "1        104453      2019-01-02      CFHP-E2   3900.0       0.0   \n",
       "2        104454      2019-01-02          NCS    795.0     249.0   \n",
       "3        104496      2019-01-02     AETLIF-E   3900.0       0.0   \n",
       "4        104497      2019-01-02     AETLIF-E   3900.0       0.0   \n",
       "\n",
       "   Insurance Payment  Patient Payment  Writeoffs       FinancialClass    CPT  \\\n",
       "0                0.0              0.0        0.0  NC - NON-CONTRACTED  81507   \n",
       "1                0.0              0.0        0.0  NC - NON-CONTRACTED  81507   \n",
       "2                0.0            249.0      546.0        SP - SELF PAY  99999   \n",
       "3                0.0              0.0        0.0      CT - CONTRACTED  81420   \n",
       "4                0.0              0.0        0.0      CT - CONTRACTED  81420   \n",
       "\n",
       "   ...         NPI                       Ordering Clinic Denied Code  \\\n",
       "0  ...  1316428238                   ALAMO WOMEN'S OBGYN         197   \n",
       "1  ...  1316428238                   ALAMO WOMEN'S OBGYN         197   \n",
       "2  ...  1699760116      COMPREHENSIVE WOMEN'S HEALTHCARE           -   \n",
       "3  ...  1609216597  PEACHTREE WOMEN'S CLINIC - NORTHSIDE           -   \n",
       "4  ...  1609216597  PEACHTREE WOMEN'S CLINIC - NORTHSIDE           -   \n",
       "\n",
       "  First Billed Date Provider Profile Insurance Bal Patient Bal  \\\n",
       "0        2019-01-08            NTINC           0.0      3900.0   \n",
       "1        2019-01-08            NTINC           0.0      3900.0   \n",
       "2               NaT            NTINC           0.0         0.0   \n",
       "3        2019-01-08            NTINC        3900.0         0.0   \n",
       "4        2019-01-08            NTINC        3900.0         0.0   \n",
       "\n",
       "   Allowed Amount  Case Count  accepted  \n",
       "0             0.0           1     False  \n",
       "1             0.0           1     False  \n",
       "2             0.0           1      True  \n",
       "3           749.0           1      True  \n",
       "4           749.0           1      True  \n",
       "\n",
       "[5 rows x 22 columns]"
      ]
     },
     "execution_count": 10,
     "metadata": {},
     "output_type": "execute_result"
    }
   ],
   "source": [
    "df.head()"
   ]
  },
  {
   "cell_type": "code",
   "execution_count": 11,
   "metadata": {},
   "outputs": [
    {
     "data": {
      "text/html": [
       "<div>\n",
       "<style scoped>\n",
       "    .dataframe tbody tr th:only-of-type {\n",
       "        vertical-align: middle;\n",
       "    }\n",
       "\n",
       "    .dataframe tbody tr th {\n",
       "        vertical-align: top;\n",
       "    }\n",
       "\n",
       "    .dataframe thead th {\n",
       "        text-align: right;\n",
       "    }\n",
       "</style>\n",
       "<table border=\"1\" class=\"dataframe\">\n",
       "  <thead>\n",
       "    <tr style=\"text-align: right;\">\n",
       "      <th></th>\n",
       "      <th>Charges</th>\n",
       "      <th>Payments</th>\n",
       "      <th>Insurance Payment</th>\n",
       "      <th>Patient Payment</th>\n",
       "      <th>Writeoffs</th>\n",
       "      <th>Insurance Bal</th>\n",
       "      <th>Patient Bal</th>\n",
       "      <th>Allowed Amount</th>\n",
       "      <th>Case Count</th>\n",
       "    </tr>\n",
       "  </thead>\n",
       "  <tbody>\n",
       "    <tr>\n",
       "      <td>count</td>\n",
       "      <td>10357.000000</td>\n",
       "      <td>10357.000000</td>\n",
       "      <td>10357.000000</td>\n",
       "      <td>10357.000000</td>\n",
       "      <td>10357.000000</td>\n",
       "      <td>10357.000000</td>\n",
       "      <td>10357.000000</td>\n",
       "      <td>10357.000000</td>\n",
       "      <td>10357.0</td>\n",
       "    </tr>\n",
       "    <tr>\n",
       "      <td>mean</td>\n",
       "      <td>1602.650574</td>\n",
       "      <td>44.679865</td>\n",
       "      <td>41.129217</td>\n",
       "      <td>3.550648</td>\n",
       "      <td>493.463687</td>\n",
       "      <td>707.961028</td>\n",
       "      <td>355.345011</td>\n",
       "      <td>374.690578</td>\n",
       "      <td>1.0</td>\n",
       "    </tr>\n",
       "    <tr>\n",
       "      <td>std</td>\n",
       "      <td>1882.231263</td>\n",
       "      <td>211.645956</td>\n",
       "      <td>208.343187</td>\n",
       "      <td>40.978363</td>\n",
       "      <td>1215.058115</td>\n",
       "      <td>1478.907449</td>\n",
       "      <td>1066.710826</td>\n",
       "      <td>1006.419773</td>\n",
       "      <td>0.0</td>\n",
       "    </tr>\n",
       "    <tr>\n",
       "      <td>min</td>\n",
       "      <td>10.000000</td>\n",
       "      <td>0.000000</td>\n",
       "      <td>0.000000</td>\n",
       "      <td>0.000000</td>\n",
       "      <td>0.000000</td>\n",
       "      <td>0.000000</td>\n",
       "      <td>0.000000</td>\n",
       "      <td>0.000000</td>\n",
       "      <td>1.0</td>\n",
       "    </tr>\n",
       "    <tr>\n",
       "      <td>25%</td>\n",
       "      <td>175.000000</td>\n",
       "      <td>0.000000</td>\n",
       "      <td>0.000000</td>\n",
       "      <td>0.000000</td>\n",
       "      <td>0.000000</td>\n",
       "      <td>0.000000</td>\n",
       "      <td>0.000000</td>\n",
       "      <td>0.000000</td>\n",
       "      <td>1.0</td>\n",
       "    </tr>\n",
       "    <tr>\n",
       "      <td>50%</td>\n",
       "      <td>250.000000</td>\n",
       "      <td>0.000000</td>\n",
       "      <td>0.000000</td>\n",
       "      <td>0.000000</td>\n",
       "      <td>0.000000</td>\n",
       "      <td>0.000000</td>\n",
       "      <td>0.000000</td>\n",
       "      <td>0.000000</td>\n",
       "      <td>1.0</td>\n",
       "    </tr>\n",
       "    <tr>\n",
       "      <td>75%</td>\n",
       "      <td>3900.000000</td>\n",
       "      <td>0.000000</td>\n",
       "      <td>0.000000</td>\n",
       "      <td>0.000000</td>\n",
       "      <td>105.000000</td>\n",
       "      <td>250.000000</td>\n",
       "      <td>112.300000</td>\n",
       "      <td>208.090000</td>\n",
       "      <td>1.0</td>\n",
       "    </tr>\n",
       "    <tr>\n",
       "      <td>max</td>\n",
       "      <td>14697.000000</td>\n",
       "      <td>4600.000000</td>\n",
       "      <td>4600.000000</td>\n",
       "      <td>1590.000000</td>\n",
       "      <td>12737.000000</td>\n",
       "      <td>12737.000000</td>\n",
       "      <td>14697.000000</td>\n",
       "      <td>7200.000000</td>\n",
       "      <td>1.0</td>\n",
       "    </tr>\n",
       "  </tbody>\n",
       "</table>\n",
       "</div>"
      ],
      "text/plain": [
       "            Charges      Payments  Insurance Payment  Patient Payment  \\\n",
       "count  10357.000000  10357.000000       10357.000000     10357.000000   \n",
       "mean    1602.650574     44.679865          41.129217         3.550648   \n",
       "std     1882.231263    211.645956         208.343187        40.978363   \n",
       "min       10.000000      0.000000           0.000000         0.000000   \n",
       "25%      175.000000      0.000000           0.000000         0.000000   \n",
       "50%      250.000000      0.000000           0.000000         0.000000   \n",
       "75%     3900.000000      0.000000           0.000000         0.000000   \n",
       "max    14697.000000   4600.000000        4600.000000      1590.000000   \n",
       "\n",
       "          Writeoffs  Insurance Bal   Patient Bal  Allowed Amount  Case Count  \n",
       "count  10357.000000   10357.000000  10357.000000    10357.000000     10357.0  \n",
       "mean     493.463687     707.961028    355.345011      374.690578         1.0  \n",
       "std     1215.058115    1478.907449   1066.710826     1006.419773         0.0  \n",
       "min        0.000000       0.000000      0.000000        0.000000         1.0  \n",
       "25%        0.000000       0.000000      0.000000        0.000000         1.0  \n",
       "50%        0.000000       0.000000      0.000000        0.000000         1.0  \n",
       "75%      105.000000     250.000000    112.300000      208.090000         1.0  \n",
       "max    12737.000000   12737.000000  14697.000000     7200.000000         1.0  "
      ]
     },
     "execution_count": 11,
     "metadata": {},
     "output_type": "execute_result"
    }
   ],
   "source": [
    "df.describe()"
   ]
  },
  {
   "cell_type": "code",
   "execution_count": null,
   "metadata": {},
   "outputs": [],
   "source": []
  },
  {
   "cell_type": "code",
   "execution_count": 12,
   "metadata": {},
   "outputs": [
    {
     "data": {
      "text/html": [
       "<div>\n",
       "<style scoped>\n",
       "    .dataframe tbody tr th:only-of-type {\n",
       "        vertical-align: middle;\n",
       "    }\n",
       "\n",
       "    .dataframe tbody tr th {\n",
       "        vertical-align: top;\n",
       "    }\n",
       "\n",
       "    .dataframe thead th {\n",
       "        text-align: right;\n",
       "    }\n",
       "</style>\n",
       "<table border=\"1\" class=\"dataframe\">\n",
       "  <thead>\n",
       "    <tr style=\"text-align: right;\">\n",
       "      <th></th>\n",
       "      <th>Ticket Number</th>\n",
       "      <th>Carrier Code</th>\n",
       "      <th>FinancialClass</th>\n",
       "      <th>CPT</th>\n",
       "      <th>NPI</th>\n",
       "      <th>Ordering Clinic</th>\n",
       "      <th>Denied Code</th>\n",
       "      <th>Provider Profile</th>\n",
       "      <th>accepted</th>\n",
       "    </tr>\n",
       "  </thead>\n",
       "  <tbody>\n",
       "    <tr>\n",
       "      <td>count</td>\n",
       "      <td>10357</td>\n",
       "      <td>10357</td>\n",
       "      <td>10357</td>\n",
       "      <td>10357</td>\n",
       "      <td>10357</td>\n",
       "      <td>10357</td>\n",
       "      <td>10357</td>\n",
       "      <td>10357</td>\n",
       "      <td>6798</td>\n",
       "    </tr>\n",
       "    <tr>\n",
       "      <td>unique</td>\n",
       "      <td>10357</td>\n",
       "      <td>339</td>\n",
       "      <td>9</td>\n",
       "      <td>42</td>\n",
       "      <td>1437</td>\n",
       "      <td>1058</td>\n",
       "      <td>55</td>\n",
       "      <td>2</td>\n",
       "      <td>2</td>\n",
       "    </tr>\n",
       "    <tr>\n",
       "      <td>top</td>\n",
       "      <td>242323</td>\n",
       "      <td>AETLIF-E</td>\n",
       "      <td>CT - CONTRACTED</td>\n",
       "      <td>81420</td>\n",
       "      <td>1669532347</td>\n",
       "      <td>MOORE OB/GYN</td>\n",
       "      <td>-</td>\n",
       "      <td>NTINC</td>\n",
       "      <td>False</td>\n",
       "    </tr>\n",
       "    <tr>\n",
       "      <td>freq</td>\n",
       "      <td>1</td>\n",
       "      <td>965</td>\n",
       "      <td>5093</td>\n",
       "      <td>1710</td>\n",
       "      <td>146</td>\n",
       "      <td>146</td>\n",
       "      <td>6298</td>\n",
       "      <td>10246</td>\n",
       "      <td>4057</td>\n",
       "    </tr>\n",
       "  </tbody>\n",
       "</table>\n",
       "</div>"
      ],
      "text/plain": [
       "       Ticket Number Carrier Code   FinancialClass    CPT         NPI  \\\n",
       "count          10357        10357            10357  10357       10357   \n",
       "unique         10357          339                9     42        1437   \n",
       "top           242323     AETLIF-E  CT - CONTRACTED  81420  1669532347   \n",
       "freq               1          965             5093   1710         146   \n",
       "\n",
       "       Ordering Clinic Denied Code Provider Profile accepted  \n",
       "count            10357       10357            10357     6798  \n",
       "unique            1058          55                2        2  \n",
       "top       MOORE OB/GYN           -            NTINC    False  \n",
       "freq               146        6298            10246     4057  "
      ]
     },
     "execution_count": 12,
     "metadata": {},
     "output_type": "execute_result"
    }
   ],
   "source": [
    "df.describe(include=['object'])"
   ]
  },
  {
   "cell_type": "code",
   "execution_count": 13,
   "metadata": {},
   "outputs": [],
   "source": [
    "df.to_csv(\"C:/Users/Laval/Downloads/MSCatUOM/data-science/project/data/Natera_last_week_process_data.csv\")"
   ]
  },
  {
   "cell_type": "code",
   "execution_count": 14,
   "metadata": {},
   "outputs": [
    {
     "data": {
      "text/plain": [
       "(10357, 22)"
      ]
     },
     "execution_count": 14,
     "metadata": {},
     "output_type": "execute_result"
    }
   ],
   "source": [
    "df.shape"
   ]
  },
  {
   "cell_type": "code",
   "execution_count": 15,
   "metadata": {},
   "outputs": [
    {
     "data": {
      "text/plain": [
       "Ticket Number           0\n",
       "Date of Service         0\n",
       "Carrier Code            0\n",
       "Charges                 0\n",
       "Payments                0\n",
       "Insurance Payment       0\n",
       "Patient Payment         0\n",
       "Writeoffs               0\n",
       "FinancialClass          0\n",
       "CPT                     0\n",
       "Date of Entry           0\n",
       "Payment Post Date    3559\n",
       "NPI                     0\n",
       "Ordering Clinic         0\n",
       "Denied Code             0\n",
       "First Billed Date     258\n",
       "Provider Profile        0\n",
       "Insurance Bal           0\n",
       "Patient Bal             0\n",
       "Allowed Amount          0\n",
       "Case Count              0\n",
       "accepted             3559\n",
       "dtype: int64"
      ]
     },
     "execution_count": 15,
     "metadata": {},
     "output_type": "execute_result"
    }
   ],
   "source": [
    "df.isnull().sum()"
   ]
  },
  {
   "cell_type": "code",
   "execution_count": 16,
   "metadata": {},
   "outputs": [],
   "source": [
    "charges = df['Charges']"
   ]
  },
  {
   "cell_type": "code",
   "execution_count": 17,
   "metadata": {},
   "outputs": [
    {
     "data": {
      "text/plain": [
       "<matplotlib.axes._subplots.AxesSubplot at 0x2382a0b8908>"
      ]
     },
     "execution_count": 17,
     "metadata": {},
     "output_type": "execute_result"
    },
    {
     "data": {
      "image/png": "[encoded data removed]",
      "text/plain": [
       "<Figure size 432x288 with 1 Axes>"
      ]
     },
     "metadata": {
      "needs_background": "light"
     },
     "output_type": "display_data"
    }
   ],
   "source": [
    "charges.hist()"
   ]
  },
  {
   "cell_type": "code",
   "execution_count": 18,
   "metadata": {},
   "outputs": [
    {
     "data": {
      "text/plain": [
       "count    10357.000000\n",
       "mean      1602.650574\n",
       "std       1882.231263\n",
       "min         10.000000\n",
       "25%        175.000000\n",
       "50%        250.000000\n",
       "75%       3900.000000\n",
       "max      14697.000000\n",
       "Name: Charges, dtype: float64"
      ]
     },
     "execution_count": 18,
     "metadata": {},
     "output_type": "execute_result"
    }
   ],
   "source": [
    "charges.describe()"
   ]
  },
  {
   "cell_type": "code",
   "execution_count": 19,
   "metadata": {
    "scrolled": true
   },
   "outputs": [
    {
     "data": {
      "text/plain": [
       "<matplotlib.axes._subplots.AxesSubplot at 0x2382a2dec08>"
      ]
     },
     "execution_count": 19,
     "metadata": {},
     "output_type": "execute_result"
    },
    {
     "data": {
      "image/png": "[encoded data removed]",
      "text/plain": [
       "<Figure size 2160x1080 with 1 Axes>"
      ]
     },
     "metadata": {
      "needs_background": "light"
     },
     "output_type": "display_data"
    }
   ],
   "source": [
    "plt.figure(figsize=(30,15))\n",
    "sns.countplot(df['FinancialClass'])"
   ]
  },
  {
   "cell_type": "code",
   "execution_count": 20,
   "metadata": {},
   "outputs": [
    {
     "data": {
      "text/plain": [
       "<matplotlib.axes._subplots.AxesSubplot at 0x2382a273d08>"
      ]
     },
     "execution_count": 20,
     "metadata": {},
     "output_type": "execute_result"
    },
    {
     "data": {
      "image/png": "[encoded data removed]",
      "text/plain": [
       "<Figure size 2160x1080 with 1 Axes>"
      ]
     },
     "metadata": {
      "needs_background": "light"
     },
     "output_type": "display_data"
    }
   ],
   "source": [
    "plt.figure(figsize=(30,15))\n",
    "sns.countplot(df['Provider Profile'])"
   ]
  },
  {
   "cell_type": "code",
   "execution_count": 21,
   "metadata": {},
   "outputs": [
    {
     "data": {
      "text/plain": [
       "<matplotlib.axes._subplots.AxesSubplot at 0x2382a257b48>"
      ]
     },
     "execution_count": 21,
     "metadata": {},
     "output_type": "execute_result"
    },
    {
     "data": {
      "image/png": "[encoded data removed]",
      "text/plain": [
       "<Figure size 2160x1080 with 1 Axes>"
      ]
     },
     "metadata": {
      "needs_background": "light"
     },
     "output_type": "display_data"
    }
   ],
   "source": [
    "plt.figure(figsize=(30,15))\n",
    "sns.countplot(df['CPT'])"
   ]
  },
  {
   "cell_type": "code",
   "execution_count": 22,
   "metadata": {},
   "outputs": [
    {
     "data": {
      "text/plain": [
       "<matplotlib.axes._subplots.AxesSubplot at 0x2382a27ef08>"
      ]
     },
     "execution_count": 22,
     "metadata": {},
     "output_type": "execute_result"
    },
    {
     "data": {
      "image/png": "[encoded data removed]",
      "text/plain": [
       "<Figure size 2160x1080 with 1 Axes>"
      ]
     },
     "metadata": {
      "needs_background": "light"
     },
     "output_type": "display_data"
    }
   ],
   "source": [
    "plt.figure(figsize=(30,15))\n",
    "sns.countplot(df['Carrier Code'])"
   ]
  },
  {
   "cell_type": "code",
   "execution_count": 52,
   "metadata": {},
   "outputs": [],
   "source": [
    "df = df.drop(['Case Count', 'Ticket Number'], axis=1)"
   ]
  },
  {
   "cell_type": "code",
   "execution_count": 53,
   "metadata": {},
   "outputs": [
    {
     "data": {
      "text/html": [
       "<div>\n",
       "<style scoped>\n",
       "    .dataframe tbody tr th:only-of-type {\n",
       "        vertical-align: middle;\n",
       "    }\n",
       "\n",
       "    .dataframe tbody tr th {\n",
       "        vertical-align: top;\n",
       "    }\n",
       "\n",
       "    .dataframe thead th {\n",
       "        text-align: right;\n",
       "    }\n",
       "</style>\n",
       "<table border=\"1\" class=\"dataframe\">\n",
       "  <thead>\n",
       "    <tr style=\"text-align: right;\">\n",
       "      <th></th>\n",
       "      <th>Date of Service</th>\n",
       "      <th>Carrier Code</th>\n",
       "      <th>Charges</th>\n",
       "      <th>Payments</th>\n",
       "      <th>Insurance Payment</th>\n",
       "      <th>Patient Payment</th>\n",
       "      <th>Writeoffs</th>\n",
       "      <th>FinancialClass</th>\n",
       "      <th>CPT</th>\n",
       "      <th>Date of Entry</th>\n",
       "      <th>Payment Post Date</th>\n",
       "      <th>NPI</th>\n",
       "      <th>Ordering Clinic</th>\n",
       "      <th>Denied Code</th>\n",
       "      <th>First Billed Date</th>\n",
       "      <th>Provider Profile</th>\n",
       "      <th>Insurance Bal</th>\n",
       "      <th>Patient Bal</th>\n",
       "      <th>Allowed Amount</th>\n",
       "      <th>accepted</th>\n",
       "    </tr>\n",
       "  </thead>\n",
       "  <tbody>\n",
       "    <tr>\n",
       "      <td>0</td>\n",
       "      <td>2019-01-02</td>\n",
       "      <td>CFHP-E2</td>\n",
       "      <td>3900.0</td>\n",
       "      <td>0.0</td>\n",
       "      <td>0.0</td>\n",
       "      <td>0.0</td>\n",
       "      <td>0.0</td>\n",
       "      <td>NC - NON-CONTRACTED</td>\n",
       "      <td>81507</td>\n",
       "      <td>2019-01-07</td>\n",
       "      <td>2019-01-22</td>\n",
       "      <td>1316428238</td>\n",
       "      <td>ALAMO WOMEN'S OBGYN</td>\n",
       "      <td>197</td>\n",
       "      <td>2019-01-08</td>\n",
       "      <td>NTINC</td>\n",
       "      <td>0.0</td>\n",
       "      <td>3900.0</td>\n",
       "      <td>0.0</td>\n",
       "      <td>False</td>\n",
       "    </tr>\n",
       "    <tr>\n",
       "      <td>1</td>\n",
       "      <td>2019-01-02</td>\n",
       "      <td>CFHP-E2</td>\n",
       "      <td>3900.0</td>\n",
       "      <td>0.0</td>\n",
       "      <td>0.0</td>\n",
       "      <td>0.0</td>\n",
       "      <td>0.0</td>\n",
       "      <td>NC - NON-CONTRACTED</td>\n",
       "      <td>81507</td>\n",
       "      <td>2019-01-07</td>\n",
       "      <td>2019-01-24</td>\n",
       "      <td>1316428238</td>\n",
       "      <td>ALAMO WOMEN'S OBGYN</td>\n",
       "      <td>197</td>\n",
       "      <td>2019-01-08</td>\n",
       "      <td>NTINC</td>\n",
       "      <td>0.0</td>\n",
       "      <td>3900.0</td>\n",
       "      <td>0.0</td>\n",
       "      <td>False</td>\n",
       "    </tr>\n",
       "    <tr>\n",
       "      <td>2</td>\n",
       "      <td>2019-01-02</td>\n",
       "      <td>NCS</td>\n",
       "      <td>795.0</td>\n",
       "      <td>249.0</td>\n",
       "      <td>0.0</td>\n",
       "      <td>249.0</td>\n",
       "      <td>546.0</td>\n",
       "      <td>SP - SELF PAY</td>\n",
       "      <td>99999</td>\n",
       "      <td>2019-01-07</td>\n",
       "      <td>2019-02-10</td>\n",
       "      <td>1699760116</td>\n",
       "      <td>COMPREHENSIVE WOMEN'S HEALTHCARE</td>\n",
       "      <td>-</td>\n",
       "      <td>NaT</td>\n",
       "      <td>NTINC</td>\n",
       "      <td>0.0</td>\n",
       "      <td>0.0</td>\n",
       "      <td>0.0</td>\n",
       "      <td>True</td>\n",
       "    </tr>\n",
       "    <tr>\n",
       "      <td>3</td>\n",
       "      <td>2019-01-02</td>\n",
       "      <td>AETLIF-E</td>\n",
       "      <td>3900.0</td>\n",
       "      <td>0.0</td>\n",
       "      <td>0.0</td>\n",
       "      <td>0.0</td>\n",
       "      <td>0.0</td>\n",
       "      <td>CT - CONTRACTED</td>\n",
       "      <td>81420</td>\n",
       "      <td>2019-01-07</td>\n",
       "      <td>2019-01-28</td>\n",
       "      <td>1609216597</td>\n",
       "      <td>PEACHTREE WOMEN'S CLINIC - NORTHSIDE</td>\n",
       "      <td>-</td>\n",
       "      <td>2019-01-08</td>\n",
       "      <td>NTINC</td>\n",
       "      <td>3900.0</td>\n",
       "      <td>0.0</td>\n",
       "      <td>749.0</td>\n",
       "      <td>True</td>\n",
       "    </tr>\n",
       "    <tr>\n",
       "      <td>4</td>\n",
       "      <td>2019-01-02</td>\n",
       "      <td>AETLIF-E</td>\n",
       "      <td>3900.0</td>\n",
       "      <td>0.0</td>\n",
       "      <td>0.0</td>\n",
       "      <td>0.0</td>\n",
       "      <td>0.0</td>\n",
       "      <td>CT - CONTRACTED</td>\n",
       "      <td>81420</td>\n",
       "      <td>2019-01-07</td>\n",
       "      <td>2019-01-30</td>\n",
       "      <td>1609216597</td>\n",
       "      <td>PEACHTREE WOMEN'S CLINIC - NORTHSIDE</td>\n",
       "      <td>-</td>\n",
       "      <td>2019-01-08</td>\n",
       "      <td>NTINC</td>\n",
       "      <td>3900.0</td>\n",
       "      <td>0.0</td>\n",
       "      <td>749.0</td>\n",
       "      <td>True</td>\n",
       "    </tr>\n",
       "  </tbody>\n",
       "</table>\n",
       "</div>"
      ],
      "text/plain": [
       "  Date of Service Carrier Code  Charges  Payments  Insurance Payment  \\\n",
       "0      2019-01-02      CFHP-E2   3900.0       0.0                0.0   \n",
       "1      2019-01-02      CFHP-E2   3900.0       0.0                0.0   \n",
       "2      2019-01-02          NCS    795.0     249.0                0.0   \n",
       "3      2019-01-02     AETLIF-E   3900.0       0.0                0.0   \n",
       "4      2019-01-02     AETLIF-E   3900.0       0.0                0.0   \n",
       "\n",
       "   Patient Payment  Writeoffs       FinancialClass    CPT Date of Entry  \\\n",
       "0              0.0        0.0  NC - NON-CONTRACTED  81507    2019-01-07   \n",
       "1              0.0        0.0  NC - NON-CONTRACTED  81507    2019-01-07   \n",
       "2            249.0      546.0        SP - SELF PAY  99999    2019-01-07   \n",
       "3              0.0        0.0      CT - CONTRACTED  81420    2019-01-07   \n",
       "4              0.0        0.0      CT - CONTRACTED  81420    2019-01-07   \n",
       "\n",
       "  Payment Post Date         NPI                       Ordering Clinic  \\\n",
       "0        2019-01-22  1316428238                   ALAMO WOMEN'S OBGYN   \n",
       "1        2019-01-24  1316428238                   ALAMO WOMEN'S OBGYN   \n",
       "2        2019-02-10  1699760116      COMPREHENSIVE WOMEN'S HEALTHCARE   \n",
       "3        2019-01-28  1609216597  PEACHTREE WOMEN'S CLINIC - NORTHSIDE   \n",
       "4        2019-01-30  1609216597  PEACHTREE WOMEN'S CLINIC - NORTHSIDE   \n",
       "\n",
       "  Denied Code First Billed Date Provider Profile  Insurance Bal  Patient Bal  \\\n",
       "0         197        2019-01-08            NTINC            0.0       3900.0   \n",
       "1         197        2019-01-08            NTINC            0.0       3900.0   \n",
       "2           -               NaT            NTINC            0.0          0.0   \n",
       "3           -        2019-01-08            NTINC         3900.0          0.0   \n",
       "4           -        2019-01-08            NTINC         3900.0          0.0   \n",
       "\n",
       "   Allowed Amount accepted  \n",
       "0             0.0    False  \n",
       "1             0.0    False  \n",
       "2             0.0     True  \n",
       "3           749.0     True  \n",
       "4           749.0     True  "
      ]
     },
     "execution_count": 53,
     "metadata": {},
     "output_type": "execute_result"
    }
   ],
   "source": [
    "df.head()"
   ]
  },
  {
   "cell_type": "code",
   "execution_count": null,
   "metadata": {},
   "outputs": [],
   "source": []
  },
  {
   "cell_type": "code",
   "execution_count": 54,
   "metadata": {},
   "outputs": [
    {
     "data": {
      "text/plain": [
       "0    3900.0\n",
       "1    3900.0\n",
       "2     795.0\n",
       "3    3900.0\n",
       "4    3900.0\n",
       "Name: Charges, dtype: float64"
      ]
     },
     "execution_count": 54,
     "metadata": {},
     "output_type": "execute_result"
    }
   ],
   "source": [
    "charges.head()"
   ]
  },
  {
   "cell_type": "code",
   "execution_count": 55,
   "metadata": {},
   "outputs": [
    {
     "data": {
      "text/plain": [
       "<matplotlib.axes._subplots.AxesSubplot at 0x23830ad7b48>"
      ]
     },
     "execution_count": 55,
     "metadata": {},
     "output_type": "execute_result"
    },
    {
     "data": {
      "image/png": "[encoded data removed]",
      "text/plain": [
       "<Figure size 432x288 with 1 Axes>"
      ]
     },
     "metadata": {
      "needs_background": "light"
     },
     "output_type": "display_data"
    }
   ],
   "source": [
    "charges.plot(kind='box', title='charges box plot')"
   ]
  },
  {
   "cell_type": "code",
   "execution_count": 56,
   "metadata": {},
   "outputs": [
    {
     "data": {
      "text/plain": [
       "<matplotlib.axes._subplots.AxesSubplot at 0x238321a86c8>"
      ]
     },
     "execution_count": 56,
     "metadata": {},
     "output_type": "execute_result"
    },
    {
     "data": {
      "image/png": "[encoded data removed]",
      "text/plain": [
       "<Figure size 432x288 with 1 Axes>"
      ]
     },
     "metadata": {
      "needs_background": "light"
     },
     "output_type": "display_data"
    }
   ],
   "source": [
    "charges.plot(kind='hist', title='charges hist plot')"
   ]
  },
  {
   "cell_type": "code",
   "execution_count": 57,
   "metadata": {},
   "outputs": [
    {
     "data": {
      "text/plain": [
       "<matplotlib.axes._subplots.AxesSubplot at 0x2383222da88>"
      ]
     },
     "execution_count": 57,
     "metadata": {},
     "output_type": "execute_result"
    },
    {
     "data": {
      "image/png": "[encoded data removed]",
      "text/plain": [
       "<Figure size 432x288 with 1 Axes>"
      ]
     },
     "metadata": {
      "needs_background": "light"
     },
     "output_type": "display_data"
    }
   ],
   "source": [
    "charges.plot(kind='kde', title='charges kde plot')"
   ]
  },
  {
   "cell_type": "code",
   "execution_count": 58,
   "metadata": {},
   "outputs": [],
   "source": [
    "payments=df['Payments']"
   ]
  },
  {
   "cell_type": "code",
   "execution_count": 59,
   "metadata": {},
   "outputs": [
    {
     "data": {
      "text/plain": [
       "<matplotlib.axes._subplots.AxesSubplot at 0x2383228e088>"
      ]
     },
     "execution_count": 59,
     "metadata": {},
     "output_type": "execute_result"
    },
    {
     "data": {
      "image/png": "[encoded data removed]",
      "text/plain": [
       "<Figure size 432x288 with 1 Axes>"
      ]
     },
     "metadata": {
      "needs_background": "light"
     },
     "output_type": "display_data"
    }
   ],
   "source": [
    "payments.plot(kind='box', title='payments box plot')"
   ]
  },
  {
   "cell_type": "code",
   "execution_count": null,
   "metadata": {},
   "outputs": [],
   "source": []
  },
  {
   "cell_type": "code",
   "execution_count": 60,
   "metadata": {},
   "outputs": [
    {
     "data": {
      "text/plain": [
       "<matplotlib.axes._subplots.AxesSubplot at 0x238322f8188>"
      ]
     },
     "execution_count": 60,
     "metadata": {},
     "output_type": "execute_result"
    },
    {
     "data": {
      "image/png": "[encoded data removed]",
      "text/plain": [
       "<Figure size 432x288 with 1 Axes>"
      ]
     },
     "metadata": {
      "needs_background": "light"
     },
     "output_type": "display_data"
    }
   ],
   "source": [
    "payments.plot(kind='kde', title='payments box plot')"
   ]
  },
  {
   "cell_type": "code",
   "execution_count": 61,
   "metadata": {},
   "outputs": [],
   "source": [
    "financialClass=df['FinancialClass']"
   ]
  },
  {
   "cell_type": "code",
   "execution_count": 62,
   "metadata": {},
   "outputs": [
    {
     "data": {
      "text/plain": [
       "<matplotlib.axes._subplots.AxesSubplot at 0x2383235b348>"
      ]
     },
     "execution_count": 62,
     "metadata": {},
     "output_type": "execute_result"
    },
    {
     "data": {
      "image/png": "[encoded data removed]",
      "text/plain": [
       "<Figure size 432x288 with 1 Axes>"
      ]
     },
     "metadata": {
      "needs_background": "light"
     },
     "output_type": "display_data"
    }
   ],
   "source": [
    "payments.plot(kind='hist',bins=25, title='payments hist plot')"
   ]
  },
  {
   "cell_type": "code",
   "execution_count": null,
   "metadata": {},
   "outputs": [],
   "source": []
  },
  {
   "cell_type": "code",
   "execution_count": null,
   "metadata": {},
   "outputs": [],
   "source": []
  },
  {
   "cell_type": "code",
   "execution_count": null,
   "metadata": {},
   "outputs": [],
   "source": []
  },
  {
   "cell_type": "code",
   "execution_count": null,
   "metadata": {},
   "outputs": [],
   "source": []
  },
  {
   "cell_type": "code",
   "execution_count": 63,
   "metadata": {},
   "outputs": [
    {
     "data": {
      "text/plain": [
       "<matplotlib.axes._subplots.AxesSubplot at 0x238323eff88>"
      ]
     },
     "execution_count": 63,
     "metadata": {},
     "output_type": "execute_result"
    },
    {
     "data": {
      "image/png": "[encoded data removed]",
      "text/plain": [
       "<Figure size 1440x864 with 1 Axes>"
      ]
     },
     "metadata": {
      "needs_background": "light"
     },
     "output_type": "display_data"
    }
   ],
   "source": [
    "plt.figure(figsize=(20,12))\n",
    "sns.scatterplot(x=charges, y=payments, hue=financialClass,data=df)"
   ]
  },
  {
   "cell_type": "code",
   "execution_count": 64,
   "metadata": {},
   "outputs": [],
   "source": [
    "df_cov = df.cov()"
   ]
  },
  {
   "cell_type": "code",
   "execution_count": 65,
   "metadata": {},
   "outputs": [
    {
     "data": {
      "text/html": [
       "<div>\n",
       "<style scoped>\n",
       "    .dataframe tbody tr th:only-of-type {\n",
       "        vertical-align: middle;\n",
       "    }\n",
       "\n",
       "    .dataframe tbody tr th {\n",
       "        vertical-align: top;\n",
       "    }\n",
       "\n",
       "    .dataframe thead th {\n",
       "        text-align: right;\n",
       "    }\n",
       "</style>\n",
       "<table border=\"1\" class=\"dataframe\">\n",
       "  <thead>\n",
       "    <tr style=\"text-align: right;\">\n",
       "      <th></th>\n",
       "      <th>Charges</th>\n",
       "      <th>Payments</th>\n",
       "      <th>Insurance Payment</th>\n",
       "      <th>Patient Payment</th>\n",
       "      <th>Writeoffs</th>\n",
       "      <th>Insurance Bal</th>\n",
       "      <th>Patient Bal</th>\n",
       "      <th>Allowed Amount</th>\n",
       "    </tr>\n",
       "  </thead>\n",
       "  <tbody>\n",
       "    <tr>\n",
       "      <td>Charges</td>\n",
       "      <td>3.542795e+06</td>\n",
       "      <td>83070.761901</td>\n",
       "      <td>77914.908654</td>\n",
       "      <td>5155.853248</td>\n",
       "      <td>1.125465e+06</td>\n",
       "      <td>1.556659e+06</td>\n",
       "      <td>7.726039e+05</td>\n",
       "      <td>-1.358508e+05</td>\n",
       "    </tr>\n",
       "    <tr>\n",
       "      <td>Payments</td>\n",
       "      <td>8.307076e+04</td>\n",
       "      <td>44794.010886</td>\n",
       "      <td>43260.834088</td>\n",
       "      <td>1533.176798</td>\n",
       "      <td>8.086815e+04</td>\n",
       "      <td>-3.086940e+04</td>\n",
       "      <td>-8.579461e+03</td>\n",
       "      <td>7.071249e+04</td>\n",
       "    </tr>\n",
       "    <tr>\n",
       "      <td>Insurance Payment</td>\n",
       "      <td>7.791491e+04</td>\n",
       "      <td>43260.834088</td>\n",
       "      <td>43406.883556</td>\n",
       "      <td>-146.049468</td>\n",
       "      <td>7.384660e+04</td>\n",
       "      <td>-2.852814e+04</td>\n",
       "      <td>-7.430181e+03</td>\n",
       "      <td>7.058909e+04</td>\n",
       "    </tr>\n",
       "    <tr>\n",
       "      <td>Patient Payment</td>\n",
       "      <td>5.155853e+03</td>\n",
       "      <td>1533.176798</td>\n",
       "      <td>-146.049468</td>\n",
       "      <td>1679.226266</td>\n",
       "      <td>7.021550e+03</td>\n",
       "      <td>-2.341254e+03</td>\n",
       "      <td>-1.149280e+03</td>\n",
       "      <td>1.234002e+02</td>\n",
       "    </tr>\n",
       "    <tr>\n",
       "      <td>Writeoffs</td>\n",
       "      <td>1.125465e+06</td>\n",
       "      <td>80868.151711</td>\n",
       "      <td>73846.601570</td>\n",
       "      <td>7021.550141</td>\n",
       "      <td>1.476366e+06</td>\n",
       "      <td>-3.455519e+05</td>\n",
       "      <td>-9.522516e+04</td>\n",
       "      <td>9.152176e+04</td>\n",
       "    </tr>\n",
       "    <tr>\n",
       "      <td>Insurance Bal</td>\n",
       "      <td>1.556659e+06</td>\n",
       "      <td>-30869.395056</td>\n",
       "      <td>-28528.141353</td>\n",
       "      <td>-2341.253703</td>\n",
       "      <td>-3.455519e+05</td>\n",
       "      <td>2.187167e+06</td>\n",
       "      <td>-2.515941e+05</td>\n",
       "      <td>-2.303685e+05</td>\n",
       "    </tr>\n",
       "    <tr>\n",
       "      <td>Patient Bal</td>\n",
       "      <td>7.726039e+05</td>\n",
       "      <td>-8579.461261</td>\n",
       "      <td>-7430.181446</td>\n",
       "      <td>-1149.279815</td>\n",
       "      <td>-9.522516e+04</td>\n",
       "      <td>-2.515941e+05</td>\n",
       "      <td>1.137872e+06</td>\n",
       "      <td>-6.198241e+04</td>\n",
       "    </tr>\n",
       "    <tr>\n",
       "      <td>Allowed Amount</td>\n",
       "      <td>-1.358508e+05</td>\n",
       "      <td>70712.485320</td>\n",
       "      <td>70589.085109</td>\n",
       "      <td>123.400211</td>\n",
       "      <td>9.152176e+04</td>\n",
       "      <td>-2.303685e+05</td>\n",
       "      <td>-6.198241e+04</td>\n",
       "      <td>1.012881e+06</td>\n",
       "    </tr>\n",
       "  </tbody>\n",
       "</table>\n",
       "</div>"
      ],
      "text/plain": [
       "                        Charges      Payments  Insurance Payment  \\\n",
       "Charges            3.542795e+06  83070.761901       77914.908654   \n",
       "Payments           8.307076e+04  44794.010886       43260.834088   \n",
       "Insurance Payment  7.791491e+04  43260.834088       43406.883556   \n",
       "Patient Payment    5.155853e+03   1533.176798        -146.049468   \n",
       "Writeoffs          1.125465e+06  80868.151711       73846.601570   \n",
       "Insurance Bal      1.556659e+06 -30869.395056      -28528.141353   \n",
       "Patient Bal        7.726039e+05  -8579.461261       -7430.181446   \n",
       "Allowed Amount    -1.358508e+05  70712.485320       70589.085109   \n",
       "\n",
       "                   Patient Payment     Writeoffs  Insurance Bal   Patient Bal  \\\n",
       "Charges                5155.853248  1.125465e+06   1.556659e+06  7.726039e+05   \n",
       "Payments               1533.176798  8.086815e+04  -3.086940e+04 -8.579461e+03   \n",
       "Insurance Payment      -146.049468  7.384660e+04  -2.852814e+04 -7.430181e+03   \n",
       "Patient Payment        1679.226266  7.021550e+03  -2.341254e+03 -1.149280e+03   \n",
       "Writeoffs              7021.550141  1.476366e+06  -3.455519e+05 -9.522516e+04   \n",
       "Insurance Bal         -2341.253703 -3.455519e+05   2.187167e+06 -2.515941e+05   \n",
       "Patient Bal           -1149.279815 -9.522516e+04  -2.515941e+05  1.137872e+06   \n",
       "Allowed Amount          123.400211  9.152176e+04  -2.303685e+05 -6.198241e+04   \n",
       "\n",
       "                   Allowed Amount  \n",
       "Charges             -1.358508e+05  \n",
       "Payments             7.071249e+04  \n",
       "Insurance Payment    7.058909e+04  \n",
       "Patient Payment      1.234002e+02  \n",
       "Writeoffs            9.152176e+04  \n",
       "Insurance Bal       -2.303685e+05  \n",
       "Patient Bal         -6.198241e+04  \n",
       "Allowed Amount       1.012881e+06  "
      ]
     },
     "execution_count": 65,
     "metadata": {},
     "output_type": "execute_result"
    }
   ],
   "source": [
    "df_cov"
   ]
  },
  {
   "cell_type": "code",
   "execution_count": 66,
   "metadata": {},
   "outputs": [
    {
     "data": {
      "text/html": [
       "<div>\n",
       "<style scoped>\n",
       "    .dataframe tbody tr th:only-of-type {\n",
       "        vertical-align: middle;\n",
       "    }\n",
       "\n",
       "    .dataframe tbody tr th {\n",
       "        vertical-align: top;\n",
       "    }\n",
       "\n",
       "    .dataframe thead th {\n",
       "        text-align: right;\n",
       "    }\n",
       "</style>\n",
       "<table border=\"1\" class=\"dataframe\">\n",
       "  <thead>\n",
       "    <tr style=\"text-align: right;\">\n",
       "      <th></th>\n",
       "      <th>Charges</th>\n",
       "      <th>Payments</th>\n",
       "      <th>Insurance Payment</th>\n",
       "      <th>Patient Payment</th>\n",
       "      <th>Writeoffs</th>\n",
       "      <th>Insurance Bal</th>\n",
       "      <th>Patient Bal</th>\n",
       "      <th>Allowed Amount</th>\n",
       "    </tr>\n",
       "  </thead>\n",
       "  <tbody>\n",
       "    <tr>\n",
       "      <td>Charges</td>\n",
       "      <td>1.000000</td>\n",
       "      <td>0.208528</td>\n",
       "      <td>0.198686</td>\n",
       "      <td>0.066846</td>\n",
       "      <td>0.492110</td>\n",
       "      <td>0.559216</td>\n",
       "      <td>0.384802</td>\n",
       "      <td>-0.071715</td>\n",
       "    </tr>\n",
       "    <tr>\n",
       "      <td>Payments</td>\n",
       "      <td>0.208528</td>\n",
       "      <td>1.000000</td>\n",
       "      <td>0.981083</td>\n",
       "      <td>0.176778</td>\n",
       "      <td>0.314464</td>\n",
       "      <td>-0.098623</td>\n",
       "      <td>-0.038002</td>\n",
       "      <td>0.331976</td>\n",
       "    </tr>\n",
       "    <tr>\n",
       "      <td>Insurance Payment</td>\n",
       "      <td>0.198686</td>\n",
       "      <td>0.981083</td>\n",
       "      <td>1.000000</td>\n",
       "      <td>-0.017107</td>\n",
       "      <td>0.291712</td>\n",
       "      <td>-0.092588</td>\n",
       "      <td>-0.033433</td>\n",
       "      <td>0.336650</td>\n",
       "    </tr>\n",
       "    <tr>\n",
       "      <td>Patient Payment</td>\n",
       "      <td>0.066846</td>\n",
       "      <td>0.176778</td>\n",
       "      <td>-0.017107</td>\n",
       "      <td>1.000000</td>\n",
       "      <td>0.141020</td>\n",
       "      <td>-0.038633</td>\n",
       "      <td>-0.026292</td>\n",
       "      <td>0.002992</td>\n",
       "    </tr>\n",
       "    <tr>\n",
       "      <td>Writeoffs</td>\n",
       "      <td>0.492110</td>\n",
       "      <td>0.314464</td>\n",
       "      <td>0.291712</td>\n",
       "      <td>0.141020</td>\n",
       "      <td>1.000000</td>\n",
       "      <td>-0.192298</td>\n",
       "      <td>-0.073470</td>\n",
       "      <td>0.074842</td>\n",
       "    </tr>\n",
       "    <tr>\n",
       "      <td>Insurance Bal</td>\n",
       "      <td>0.559216</td>\n",
       "      <td>-0.098623</td>\n",
       "      <td>-0.092588</td>\n",
       "      <td>-0.038633</td>\n",
       "      <td>-0.192298</td>\n",
       "      <td>1.000000</td>\n",
       "      <td>-0.159482</td>\n",
       "      <td>-0.154776</td>\n",
       "    </tr>\n",
       "    <tr>\n",
       "      <td>Patient Bal</td>\n",
       "      <td>0.384802</td>\n",
       "      <td>-0.038002</td>\n",
       "      <td>-0.033433</td>\n",
       "      <td>-0.026292</td>\n",
       "      <td>-0.073470</td>\n",
       "      <td>-0.159482</td>\n",
       "      <td>1.000000</td>\n",
       "      <td>-0.057735</td>\n",
       "    </tr>\n",
       "    <tr>\n",
       "      <td>Allowed Amount</td>\n",
       "      <td>-0.071715</td>\n",
       "      <td>0.331976</td>\n",
       "      <td>0.336650</td>\n",
       "      <td>0.002992</td>\n",
       "      <td>0.074842</td>\n",
       "      <td>-0.154776</td>\n",
       "      <td>-0.057735</td>\n",
       "      <td>1.000000</td>\n",
       "    </tr>\n",
       "  </tbody>\n",
       "</table>\n",
       "</div>"
      ],
      "text/plain": [
       "                    Charges  Payments  Insurance Payment  Patient Payment  \\\n",
       "Charges            1.000000  0.208528           0.198686         0.066846   \n",
       "Payments           0.208528  1.000000           0.981083         0.176778   \n",
       "Insurance Payment  0.198686  0.981083           1.000000        -0.017107   \n",
       "Patient Payment    0.066846  0.176778          -0.017107         1.000000   \n",
       "Writeoffs          0.492110  0.314464           0.291712         0.141020   \n",
       "Insurance Bal      0.559216 -0.098623          -0.092588        -0.038633   \n",
       "Patient Bal        0.384802 -0.038002          -0.033433        -0.026292   \n",
       "Allowed Amount    -0.071715  0.331976           0.336650         0.002992   \n",
       "\n",
       "                   Writeoffs  Insurance Bal  Patient Bal  Allowed Amount  \n",
       "Charges             0.492110       0.559216     0.384802       -0.071715  \n",
       "Payments            0.314464      -0.098623    -0.038002        0.331976  \n",
       "Insurance Payment   0.291712      -0.092588    -0.033433        0.336650  \n",
       "Patient Payment     0.141020      -0.038633    -0.026292        0.002992  \n",
       "Writeoffs           1.000000      -0.192298    -0.073470        0.074842  \n",
       "Insurance Bal      -0.192298       1.000000    -0.159482       -0.154776  \n",
       "Patient Bal        -0.073470      -0.159482     1.000000       -0.057735  \n",
       "Allowed Amount      0.074842      -0.154776    -0.057735        1.000000  "
      ]
     },
     "execution_count": 66,
     "metadata": {},
     "output_type": "execute_result"
    }
   ],
   "source": [
    "df_cor= df.corr()\n",
    "df_cor"
   ]
  },
  {
   "cell_type": "code",
   "execution_count": 67,
   "metadata": {},
   "outputs": [
    {
     "data": {
      "text/plain": [
       "<matplotlib.axes._subplots.AxesSubplot at 0x238324ba388>"
      ]
     },
     "execution_count": 67,
     "metadata": {},
     "output_type": "execute_result"
    },
    {
     "data": {
      "image/png": "[encoded data removed]",
      "text/plain": [
       "<Figure size 864x720 with 2 Axes>"
      ]
     },
     "metadata": {
      "needs_background": "light"
     },
     "output_type": "display_data"
    }
   ],
   "source": [
    "plt.figure(figsize=(12,10))\n",
    "sns.heatmap(df_cor,annot=True)"
   ]
  },
  {
   "cell_type": "code",
   "execution_count": 76,
   "metadata": {},
   "outputs": [
    {
     "data": {
      "text/plain": [
       "<matplotlib.axes._subplots.AxesSubplot at 0x238346799c8>"
      ]
     },
     "execution_count": 76,
     "metadata": {},
     "output_type": "execute_result"
    },
    {
     "data": {
      "image/png": "[encoded data removed]",
      "text/plain": [
       "<Figure size 432x288 with 1 Axes>"
      ]
     },
     "metadata": {
      "needs_background": "light"
     },
     "output_type": "display_data"
    },
    {
     "data": {
      "image/png": "[encoded data removed]",
      "text/plain": [
       "<Figure size 432x288 with 1 Axes>"
      ]
     },
     "metadata": {
      "needs_background": "light"
     },
     "output_type": "display_data"
    }
   ],
   "source": [
    "boxplot = df.boxplot(grid=False, rot=90, fontsize=10)\n",
    "plot_val= ['Charges','Payments', 'Insurance Payment', 'Patient Payment', 'Insurance Bal', 'Patient Bal','Allowed Amount']\n",
    "df[plot_val].plot(kind='box')"
   ]
  },
  {
   "cell_type": "code",
   "execution_count": 83,
   "metadata": {
    "scrolled": true
   },
   "outputs": [
    {
     "ename": "TypeError",
     "evalue": "__init__() got an unexpected keyword argument 'title'",
     "output_type": "error",
     "traceback": [
      "\u001b[1;31m---------------------------------------------------------------------------\u001b[0m",
      "\u001b[1;31mTypeError\u001b[0m                                 Traceback (most recent call last)",
      "\u001b[1;32m<ipython-input-83-f12b80aed413>\u001b[0m in \u001b[0;36m<module>\u001b[1;34m\u001b[0m\n\u001b[1;32m----> 1\u001b[1;33m \u001b[0mfig\u001b[0m \u001b[1;33m=\u001b[0m \u001b[0mplt\u001b[0m\u001b[1;33m.\u001b[0m\u001b[0mfigure\u001b[0m\u001b[1;33m(\u001b[0m\u001b[0mfigsize\u001b[0m \u001b[1;33m=\u001b[0m \u001b[1;33m(\u001b[0m\u001b[1;36m15\u001b[0m\u001b[1;33m,\u001b[0m\u001b[1;36m20\u001b[0m\u001b[1;33m)\u001b[0m\u001b[1;33m,\u001b[0m\u001b[0mtitle\u001b[0m\u001b[1;33m=\u001b[0m\u001b[1;34m'frequency'\u001b[0m\u001b[1;33m)\u001b[0m\u001b[1;33m\u001b[0m\u001b[1;33m\u001b[0m\u001b[0m\n\u001b[0m\u001b[0;32m      2\u001b[0m \u001b[0max\u001b[0m \u001b[1;33m=\u001b[0m \u001b[0mfig\u001b[0m\u001b[1;33m.\u001b[0m\u001b[0mgca\u001b[0m\u001b[1;33m(\u001b[0m\u001b[1;33m)\u001b[0m\u001b[1;33m\u001b[0m\u001b[1;33m\u001b[0m\u001b[0m\n\u001b[0;32m      3\u001b[0m \u001b[1;33m\u001b[0m\u001b[0m\n\u001b[0;32m      4\u001b[0m \u001b[0mhistplot\u001b[0m \u001b[1;33m=\u001b[0m \u001b[0mdf\u001b[0m\u001b[1;33m.\u001b[0m\u001b[0mhist\u001b[0m\u001b[1;33m(\u001b[0m\u001b[0max\u001b[0m \u001b[1;33m=\u001b[0m \u001b[0max\u001b[0m\u001b[1;33m)\u001b[0m\u001b[1;33m\u001b[0m\u001b[1;33m\u001b[0m\u001b[0m\n",
      "\u001b[1;32m~\\Anaconda3\\lib\\site-packages\\matplotlib\\pyplot.py\u001b[0m in \u001b[0;36mfigure\u001b[1;34m(num, figsize, dpi, facecolor, edgecolor, frameon, FigureClass, clear, **kwargs)\u001b[0m\n\u001b[0;32m    544\u001b[0m                                         \u001b[0mframeon\u001b[0m\u001b[1;33m=\u001b[0m\u001b[0mframeon\u001b[0m\u001b[1;33m,\u001b[0m\u001b[1;33m\u001b[0m\u001b[1;33m\u001b[0m\u001b[0m\n\u001b[0;32m    545\u001b[0m                                         \u001b[0mFigureClass\u001b[0m\u001b[1;33m=\u001b[0m\u001b[0mFigureClass\u001b[0m\u001b[1;33m,\u001b[0m\u001b[1;33m\u001b[0m\u001b[1;33m\u001b[0m\u001b[0m\n\u001b[1;32m--> 546\u001b[1;33m                                         **kwargs)\n\u001b[0m\u001b[0;32m    547\u001b[0m \u001b[1;33m\u001b[0m\u001b[0m\n\u001b[0;32m    548\u001b[0m         \u001b[1;32mif\u001b[0m \u001b[0mfigLabel\u001b[0m\u001b[1;33m:\u001b[0m\u001b[1;33m\u001b[0m\u001b[1;33m\u001b[0m\u001b[0m\n",
      "\u001b[1;32m~\\Anaconda3\\lib\\site-packages\\matplotlib\\backend_bases.py\u001b[0m in \u001b[0;36mnew_figure_manager\u001b[1;34m(cls, num, *args, **kwargs)\u001b[0m\n\u001b[0;32m   3334\u001b[0m         \u001b[1;32mfrom\u001b[0m \u001b[0mmatplotlib\u001b[0m\u001b[1;33m.\u001b[0m\u001b[0mfigure\u001b[0m \u001b[1;32mimport\u001b[0m \u001b[0mFigure\u001b[0m\u001b[1;33m\u001b[0m\u001b[1;33m\u001b[0m\u001b[0m\n\u001b[0;32m   3335\u001b[0m         \u001b[0mfig_cls\u001b[0m \u001b[1;33m=\u001b[0m \u001b[0mkwargs\u001b[0m\u001b[1;33m.\u001b[0m\u001b[0mpop\u001b[0m\u001b[1;33m(\u001b[0m\u001b[1;34m'FigureClass'\u001b[0m\u001b[1;33m,\u001b[0m \u001b[0mFigure\u001b[0m\u001b[1;33m)\u001b[0m\u001b[1;33m\u001b[0m\u001b[1;33m\u001b[0m\u001b[0m\n\u001b[1;32m-> 3336\u001b[1;33m         \u001b[0mfig\u001b[0m \u001b[1;33m=\u001b[0m \u001b[0mfig_cls\u001b[0m\u001b[1;33m(\u001b[0m\u001b[1;33m*\u001b[0m\u001b[0margs\u001b[0m\u001b[1;33m,\u001b[0m \u001b[1;33m**\u001b[0m\u001b[0mkwargs\u001b[0m\u001b[1;33m)\u001b[0m\u001b[1;33m\u001b[0m\u001b[1;33m\u001b[0m\u001b[0m\n\u001b[0m\u001b[0;32m   3337\u001b[0m         \u001b[1;32mreturn\u001b[0m \u001b[0mcls\u001b[0m\u001b[1;33m.\u001b[0m\u001b[0mnew_figure_manager_given_figure\u001b[0m\u001b[1;33m(\u001b[0m\u001b[0mnum\u001b[0m\u001b[1;33m,\u001b[0m \u001b[0mfig\u001b[0m\u001b[1;33m)\u001b[0m\u001b[1;33m\u001b[0m\u001b[1;33m\u001b[0m\u001b[0m\n\u001b[0;32m   3338\u001b[0m \u001b[1;33m\u001b[0m\u001b[0m\n",
      "\u001b[1;31mTypeError\u001b[0m: __init__() got an unexpected keyword argument 'title'"
     ]
    }
   ],
   "source": [
    "fig = plt.figure(figsize = (15,20),title='frequency')\n",
    "ax = fig.gca()\n",
    "   \n",
    "histplot = df.hist(ax = ax)"
   ]
  },
  {
   "cell_type": "code",
   "execution_count": null,
   "metadata": {},
   "outputs": [],
   "source": [
    "  "
   ]
  },
  {
   "cell_type": "code",
   "execution_count": null,
   "metadata": {},
   "outputs": [],
   "source": []
  },
  {
   "cell_type": "code",
   "execution_count": null,
   "metadata": {},
   "outputs": [],
   "source": []
  },
  {
   "cell_type": "code",
   "execution_count": null,
   "metadata": {},
   "outputs": [],
   "source": []
  },
  {
   "cell_type": "code",
   "execution_count": null,
   "metadata": {},
   "outputs": [],
   "source": []
  },
  {
   "cell_type": "code",
   "execution_count": null,
   "metadata": {},
   "outputs": [],
   "source": []
  },
  {
   "cell_type": "code",
   "execution_count": null,
   "metadata": {},
   "outputs": [],
   "source": []
  },
  {
   "cell_type": "code",
   "execution_count": null,
   "metadata": {},
   "outputs": [],
   "source": []
  },
  {
   "cell_type": "code",
   "execution_count": null,
   "metadata": {},
   "outputs": [],
   "source": []
  },
  {
   "cell_type": "code",
   "execution_count": null,
   "metadata": {},
   "outputs": [],
   "source": []
  },
  {
   "cell_type": "code",
   "execution_count": null,
   "metadata": {},
   "outputs": [],
   "source": []
  },
  {
   "cell_type": "code",
   "execution_count": null,
   "metadata": {},
   "outputs": [],
   "source": []
  },
  {
   "cell_type": "code",
   "execution_count": null,
   "metadata": {},
   "outputs": [],
   "source": []
  },
  {
   "cell_type": "code",
   "execution_count": null,
   "metadata": {},
   "outputs": [],
   "source": []
  },
  {
   "cell_type": "code",
   "execution_count": null,
   "metadata": {},
   "outputs": [],
   "source": []
  },
  {
   "cell_type": "code",
   "execution_count": null,
   "metadata": {},
   "outputs": [],
   "source": []
  },
  {
   "cell_type": "code",
   "execution_count": null,
   "metadata": {},
   "outputs": [],
   "source": []
  },
  {
   "cell_type": "code",
   "execution_count": null,
   "metadata": {},
   "outputs": [],
   "source": []
  },
  {
   "cell_type": "code",
   "execution_count": null,
   "metadata": {},
   "outputs": [],
   "source": []
  },
  {
   "cell_type": "code",
   "execution_count": null,
   "metadata": {},
   "outputs": [],
   "source": []
  },
  {
   "cell_type": "code",
   "execution_count": null,
   "metadata": {},
   "outputs": [],
   "source": []
  },
  {
   "cell_type": "code",
   "execution_count": null,
   "metadata": {},
   "outputs": [],
   "source": []
  },
  {
   "cell_type": "code",
   "execution_count": null,
   "metadata": {},
   "outputs": [],
   "source": []
  },
  {
   "cell_type": "code",
   "execution_count": null,
   "metadata": {},
   "outputs": [],
   "source": []
  },
  {
   "cell_type": "code",
   "execution_count": null,
   "metadata": {},
   "outputs": [],
   "source": []
  },
  {
   "cell_type": "code",
   "execution_count": null,
   "metadata": {},
   "outputs": [],
   "source": []
  },
  {
   "cell_type": "code",
   "execution_count": null,
   "metadata": {},
   "outputs": [],
   "source": []
  },
  {
   "cell_type": "code",
   "execution_count": null,
   "metadata": {},
   "outputs": [],
   "source": []
  },
  {
   "cell_type": "code",
   "execution_count": null,
   "metadata": {},
   "outputs": [],
   "source": []
  },
  {
   "cell_type": "code",
   "execution_count": null,
   "metadata": {},
   "outputs": [],
   "source": []
  },
  {
   "cell_type": "code",
   "execution_count": null,
   "metadata": {},
   "outputs": [],
   "source": []
  },
  {
   "cell_type": "code",
   "execution_count": null,
   "metadata": {},
   "outputs": [],
   "source": []
  },
  {
   "cell_type": "code",
   "execution_count": null,
   "metadata": {},
   "outputs": [],
   "source": []
  },
  {
   "cell_type": "code",
   "execution_count": null,
   "metadata": {},
   "outputs": [],
   "source": []
  },
  {
   "cell_type": "code",
   "execution_count": null,
   "metadata": {},
   "outputs": [],
   "source": []
  },
  {
   "cell_type": "code",
   "execution_count": null,
   "metadata": {},
   "outputs": [],
   "source": []
  },
  {
   "cell_type": "code",
   "execution_count": null,
   "metadata": {},
   "outputs": [],
   "source": []
  },
  {
   "cell_type": "code",
   "execution_count": null,
   "metadata": {},
   "outputs": [],
   "source": []
  },
  {
   "cell_type": "code",
   "execution_count": null,
   "metadata": {},
   "outputs": [],
   "source": []
  },
  {
   "cell_type": "code",
   "execution_count": null,
   "metadata": {},
   "outputs": [],
   "source": []
  },
  {
   "cell_type": "code",
   "execution_count": null,
   "metadata": {},
   "outputs": [],
   "source": []
  },
  {
   "cell_type": "code",
   "execution_count": null,
   "metadata": {},
   "outputs": [],
   "source": []
  },
  {
   "cell_type": "code",
   "execution_count": null,
   "metadata": {},
   "outputs": [],
   "source": []
  },
  {
   "cell_type": "code",
   "execution_count": null,
   "metadata": {},
   "outputs": [],
   "source": []
  },
  {
   "cell_type": "code",
   "execution_count": null,
   "metadata": {},
   "outputs": [],
   "source": []
  },
  {
   "cell_type": "code",
   "execution_count": null,
   "metadata": {},
   "outputs": [],
   "source": []
  },
  {
   "cell_type": "code",
   "execution_count": null,
   "metadata": {},
   "outputs": [],
   "source": []
  },
  {
   "cell_type": "code",
   "execution_count": null,
   "metadata": {},
   "outputs": [],
   "source": []
  },
  {
   "cell_type": "code",
   "execution_count": null,
   "metadata": {},
   "outputs": [],
   "source": []
  },
  {
   "cell_type": "code",
   "execution_count": null,
   "metadata": {},
   "outputs": [],
   "source": []
  }
 ],
 "metadata": {
  "kernelspec": {
   "display_name": "Python 3",
   "language": "python",
   "name": "python3"
  },
  "language_info": {
   "codemirror_mode": {
    "name": "ipython",
    "version": 3
   },
   "file_extension": ".py",
   "mimetype": "text/x-python",
   "name": "python",
   "nbconvert_exporter": "python",
   "pygments_lexer": "ipython3",
   "version": "3.7.4"
  }
 },
 "nbformat": 4,
 "nbformat_minor": 2
}
