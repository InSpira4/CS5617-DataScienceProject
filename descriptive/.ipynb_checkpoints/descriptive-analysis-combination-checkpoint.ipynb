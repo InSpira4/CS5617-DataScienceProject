{
 "cells": [
  {
   "cell_type": "code",
   "execution_count": 1,
   "metadata": {},
   "outputs": [],
   "source": [
    "import pandas as pd\n",
    "import numpy as np\n",
    "import matplotlib.pyplot as plt\n",
    "import seaborn as sns"
   ]
  },
  {
   "cell_type": "code",
   "execution_count": 2,
   "metadata": {},
   "outputs": [],
   "source": [
    "df= pd.read_csv(\"C:/Users/Laval/Downloads/MSCatUOM/data-science/project/data/Natera.csv\")"
   ]
  },
  {
   "cell_type": "code",
   "execution_count": 3,
   "metadata": {},
   "outputs": [
    {
     "data": {
      "text/html": [
       "<div>\n",
       "<style scoped>\n",
       "    .dataframe tbody tr th:only-of-type {\n",
       "        vertical-align: middle;\n",
       "    }\n",
       "\n",
       "    .dataframe tbody tr th {\n",
       "        vertical-align: top;\n",
       "    }\n",
       "\n",
       "    .dataframe thead th {\n",
       "        text-align: right;\n",
       "    }\n",
       "</style>\n",
       "<table border=\"1\" class=\"dataframe\">\n",
       "  <thead>\n",
       "    <tr style=\"text-align: right;\">\n",
       "      <th></th>\n",
       "      <th>Ticket Number</th>\n",
       "      <th>Date of Service</th>\n",
       "      <th>Carrier Code</th>\n",
       "      <th>Charges</th>\n",
       "      <th>Payments</th>\n",
       "      <th>Insurance Payment</th>\n",
       "      <th>Patient Payment</th>\n",
       "      <th>Writeoffs</th>\n",
       "      <th>FinancialClass</th>\n",
       "      <th>CPT</th>\n",
       "      <th>...</th>\n",
       "      <th>Payment Post Date</th>\n",
       "      <th>NPI</th>\n",
       "      <th>Ordering Clinic</th>\n",
       "      <th>Denied Code</th>\n",
       "      <th>First Billed Date</th>\n",
       "      <th>Provider Profile</th>\n",
       "      <th>Insurance Bal</th>\n",
       "      <th>Patient Bal</th>\n",
       "      <th>Allowed Amount</th>\n",
       "      <th>Case Count</th>\n",
       "    </tr>\n",
       "  </thead>\n",
       "  <tbody>\n",
       "    <tr>\n",
       "      <td>0</td>\n",
       "      <td>104452</td>\n",
       "      <td>1/2/2019</td>\n",
       "      <td>CFHP-E2</td>\n",
       "      <td>$3,900.00</td>\n",
       "      <td>$0.00</td>\n",
       "      <td>$0.00</td>\n",
       "      <td>$0.00</td>\n",
       "      <td>$0.00</td>\n",
       "      <td>NC - NON-CONTRACTED</td>\n",
       "      <td>81507</td>\n",
       "      <td>...</td>\n",
       "      <td>1/22/2019</td>\n",
       "      <td>1316428238</td>\n",
       "      <td>ALAMO WOMEN'S OBGYN</td>\n",
       "      <td>197</td>\n",
       "      <td>1/8/2019</td>\n",
       "      <td>NTINC</td>\n",
       "      <td>$0.00</td>\n",
       "      <td>$3,900.00</td>\n",
       "      <td>$0.00</td>\n",
       "      <td>1</td>\n",
       "    </tr>\n",
       "    <tr>\n",
       "      <td>1</td>\n",
       "      <td>104453</td>\n",
       "      <td>1/2/2019</td>\n",
       "      <td>CFHP-E2</td>\n",
       "      <td>$3,900.00</td>\n",
       "      <td>$0.00</td>\n",
       "      <td>$0.00</td>\n",
       "      <td>$0.00</td>\n",
       "      <td>$0.00</td>\n",
       "      <td>NC - NON-CONTRACTED</td>\n",
       "      <td>81507</td>\n",
       "      <td>...</td>\n",
       "      <td>1/24/2019</td>\n",
       "      <td>1316428238</td>\n",
       "      <td>ALAMO WOMEN'S OBGYN</td>\n",
       "      <td>197</td>\n",
       "      <td>1/8/2019</td>\n",
       "      <td>NTINC</td>\n",
       "      <td>$0.00</td>\n",
       "      <td>$3,900.00</td>\n",
       "      <td>$0.00</td>\n",
       "      <td>1</td>\n",
       "    </tr>\n",
       "    <tr>\n",
       "      <td>2</td>\n",
       "      <td>104454</td>\n",
       "      <td>1/2/2019</td>\n",
       "      <td>NCS</td>\n",
       "      <td>$795.00</td>\n",
       "      <td>$249.00</td>\n",
       "      <td>$0.00</td>\n",
       "      <td>$249.00</td>\n",
       "      <td>$546.00</td>\n",
       "      <td>SP - SELF PAY</td>\n",
       "      <td>99999</td>\n",
       "      <td>...</td>\n",
       "      <td>2/10/2019</td>\n",
       "      <td>1699760116</td>\n",
       "      <td>COMPREHENSIVE WOMEN'S HEALTHCARE</td>\n",
       "      <td>-</td>\n",
       "      <td>-</td>\n",
       "      <td>NTINC</td>\n",
       "      <td>$0.00</td>\n",
       "      <td>$0.00</td>\n",
       "      <td>$0.00</td>\n",
       "      <td>1</td>\n",
       "    </tr>\n",
       "    <tr>\n",
       "      <td>3</td>\n",
       "      <td>104496</td>\n",
       "      <td>1/2/2019</td>\n",
       "      <td>AETLIF-E</td>\n",
       "      <td>$3,900.00</td>\n",
       "      <td>$0.00</td>\n",
       "      <td>$0.00</td>\n",
       "      <td>$0.00</td>\n",
       "      <td>$0.00</td>\n",
       "      <td>CT - CONTRACTED</td>\n",
       "      <td>81420</td>\n",
       "      <td>...</td>\n",
       "      <td>1/28/2019</td>\n",
       "      <td>1609216597</td>\n",
       "      <td>PEACHTREE WOMEN'S CLINIC - NORTHSIDE</td>\n",
       "      <td>-</td>\n",
       "      <td>1/8/2019</td>\n",
       "      <td>NTINC</td>\n",
       "      <td>$3,900.00</td>\n",
       "      <td>$0.00</td>\n",
       "      <td>$749.00</td>\n",
       "      <td>1</td>\n",
       "    </tr>\n",
       "    <tr>\n",
       "      <td>4</td>\n",
       "      <td>104497</td>\n",
       "      <td>1/2/2019</td>\n",
       "      <td>AETLIF-E</td>\n",
       "      <td>$3,900.00</td>\n",
       "      <td>$0.00</td>\n",
       "      <td>$0.00</td>\n",
       "      <td>$0.00</td>\n",
       "      <td>$0.00</td>\n",
       "      <td>CT - CONTRACTED</td>\n",
       "      <td>81420</td>\n",
       "      <td>...</td>\n",
       "      <td>1/30/2019</td>\n",
       "      <td>1609216597</td>\n",
       "      <td>PEACHTREE WOMEN'S CLINIC - NORTHSIDE</td>\n",
       "      <td>-</td>\n",
       "      <td>1/8/2019</td>\n",
       "      <td>NTINC</td>\n",
       "      <td>$3,900.00</td>\n",
       "      <td>$0.00</td>\n",
       "      <td>$749.00</td>\n",
       "      <td>1</td>\n",
       "    </tr>\n",
       "  </tbody>\n",
       "</table>\n",
       "<p>5 rows × 21 columns</p>\n",
       "</div>"
      ],
      "text/plain": [
       "   Ticket Number Date of Service Carrier Code     Charges  Payments  \\\n",
       "0         104452        1/2/2019      CFHP-E2  $3,900.00     $0.00    \n",
       "1         104453        1/2/2019      CFHP-E2  $3,900.00     $0.00    \n",
       "2         104454        1/2/2019          NCS    $795.00   $249.00    \n",
       "3         104496        1/2/2019     AETLIF-E  $3,900.00     $0.00    \n",
       "4         104497        1/2/2019     AETLIF-E  $3,900.00     $0.00    \n",
       "\n",
       "  Insurance Payment Patient Payment Writeoffs       FinancialClass    CPT  \\\n",
       "0            $0.00           $0.00     $0.00   NC - NON-CONTRACTED  81507   \n",
       "1            $0.00           $0.00     $0.00   NC - NON-CONTRACTED  81507   \n",
       "2            $0.00         $249.00   $546.00         SP - SELF PAY  99999   \n",
       "3            $0.00           $0.00     $0.00       CT - CONTRACTED  81420   \n",
       "4            $0.00           $0.00     $0.00       CT - CONTRACTED  81420   \n",
       "\n",
       "   ... Payment Post Date         NPI                       Ordering Clinic  \\\n",
       "0  ...         1/22/2019  1316428238                   ALAMO WOMEN'S OBGYN   \n",
       "1  ...         1/24/2019  1316428238                   ALAMO WOMEN'S OBGYN   \n",
       "2  ...         2/10/2019  1699760116      COMPREHENSIVE WOMEN'S HEALTHCARE   \n",
       "3  ...         1/28/2019  1609216597  PEACHTREE WOMEN'S CLINIC - NORTHSIDE   \n",
       "4  ...         1/30/2019  1609216597  PEACHTREE WOMEN'S CLINIC - NORTHSIDE   \n",
       "\n",
       "  Denied Code First Billed Date Provider Profile Insurance Bal Patient Bal  \\\n",
       "0         197          1/8/2019            NTINC        $0.00   $3,900.00    \n",
       "1         197          1/8/2019            NTINC        $0.00   $3,900.00    \n",
       "2           -                 -            NTINC        $0.00       $0.00    \n",
       "3           -          1/8/2019            NTINC    $3,900.00       $0.00    \n",
       "4           -          1/8/2019            NTINC    $3,900.00       $0.00    \n",
       "\n",
       "  Allowed Amount Case Count  \n",
       "0         $0.00           1  \n",
       "1         $0.00           1  \n",
       "2         $0.00           1  \n",
       "3       $749.00           1  \n",
       "4       $749.00           1  \n",
       "\n",
       "[5 rows x 21 columns]"
      ]
     },
     "execution_count": 3,
     "metadata": {},
     "output_type": "execute_result"
    }
   ],
   "source": [
    "df.head()"
   ]
  },
  {
   "cell_type": "markdown",
   "metadata": {},
   "source": [
    "Try without pre processing"
   ]
  },
  {
   "cell_type": "code",
   "execution_count": 4,
   "metadata": {},
   "outputs": [
    {
     "data": {
      "text/html": [
       "<div>\n",
       "<style scoped>\n",
       "    .dataframe tbody tr th:only-of-type {\n",
       "        vertical-align: middle;\n",
       "    }\n",
       "\n",
       "    .dataframe tbody tr th {\n",
       "        vertical-align: top;\n",
       "    }\n",
       "\n",
       "    .dataframe thead th {\n",
       "        text-align: right;\n",
       "    }\n",
       "</style>\n",
       "<table border=\"1\" class=\"dataframe\">\n",
       "  <thead>\n",
       "    <tr style=\"text-align: right;\">\n",
       "      <th></th>\n",
       "      <th>Ticket Number</th>\n",
       "      <th>NPI</th>\n",
       "      <th>Case Count</th>\n",
       "    </tr>\n",
       "  </thead>\n",
       "  <tbody>\n",
       "    <tr>\n",
       "      <td>count</td>\n",
       "      <td>10357.000000</td>\n",
       "      <td>1.035700e+04</td>\n",
       "      <td>10357.0</td>\n",
       "    </tr>\n",
       "    <tr>\n",
       "      <td>mean</td>\n",
       "      <td>213621.134402</td>\n",
       "      <td>1.517730e+09</td>\n",
       "      <td>1.0</td>\n",
       "    </tr>\n",
       "    <tr>\n",
       "      <td>std</td>\n",
       "      <td>61672.060597</td>\n",
       "      <td>2.808536e+08</td>\n",
       "      <td>0.0</td>\n",
       "    </tr>\n",
       "    <tr>\n",
       "      <td>min</td>\n",
       "      <td>104452.000000</td>\n",
       "      <td>1.003002e+09</td>\n",
       "      <td>1.0</td>\n",
       "    </tr>\n",
       "    <tr>\n",
       "      <td>25%</td>\n",
       "      <td>173660.000000</td>\n",
       "      <td>1.285067e+09</td>\n",
       "      <td>1.0</td>\n",
       "    </tr>\n",
       "    <tr>\n",
       "      <td>50%</td>\n",
       "      <td>200932.000000</td>\n",
       "      <td>1.538167e+09</td>\n",
       "      <td>1.0</td>\n",
       "    </tr>\n",
       "    <tr>\n",
       "      <td>75%</td>\n",
       "      <td>263815.000000</td>\n",
       "      <td>1.750303e+09</td>\n",
       "      <td>1.0</td>\n",
       "    </tr>\n",
       "    <tr>\n",
       "      <td>max</td>\n",
       "      <td>407677.000000</td>\n",
       "      <td>1.992949e+09</td>\n",
       "      <td>1.0</td>\n",
       "    </tr>\n",
       "  </tbody>\n",
       "</table>\n",
       "</div>"
      ],
      "text/plain": [
       "       Ticket Number           NPI  Case Count\n",
       "count   10357.000000  1.035700e+04     10357.0\n",
       "mean   213621.134402  1.517730e+09         1.0\n",
       "std     61672.060597  2.808536e+08         0.0\n",
       "min    104452.000000  1.003002e+09         1.0\n",
       "25%    173660.000000  1.285067e+09         1.0\n",
       "50%    200932.000000  1.538167e+09         1.0\n",
       "75%    263815.000000  1.750303e+09         1.0\n",
       "max    407677.000000  1.992949e+09         1.0"
      ]
     },
     "execution_count": 4,
     "metadata": {},
     "output_type": "execute_result"
    }
   ],
   "source": [
    "df.describe()"
   ]
  },
  {
   "cell_type": "code",
   "execution_count": 5,
   "metadata": {},
   "outputs": [],
   "source": [
    "cols = ['Payments', 'Charges', 'Insurance Payment', 'Patient Payment', 'Writeoffs', 'Insurance Bal', 'Patient Bal', 'Allowed Amount']\n",
    "for col in cols:\n",
    "  df[col] = pd.to_numeric(df[col].apply(lambda x: x.replace('$','')).apply(lambda x: x.replace(' ','')).apply(lambda x: x.replace(',','')).apply(lambda x: x.replace('(','')).apply(lambda x: x.replace(')','')))"
   ]
  },
  {
   "cell_type": "code",
   "execution_count": 6,
   "metadata": {},
   "outputs": [],
   "source": [
    "cols = ['Date of Service', 'Date of Entry', 'Payment Post Date', 'First Billed Date']\n",
    "for col in cols:\n",
    "  df[col] = pd.to_datetime(df[col], errors='coerce')"
   ]
  },
  {
   "cell_type": "code",
   "execution_count": 7,
   "metadata": {},
   "outputs": [],
   "source": [
    "cols = ['Ticket Number', 'Carrier Code', 'FinancialClass', 'CPT', 'NPI', 'Ordering Clinic', 'Denied Code', 'Provider Profile']\n",
    "for col in cols:\n",
    "  df[col] = df[col].astype('str')"
   ]
  },
  {
   "cell_type": "code",
   "execution_count": 8,
   "metadata": {},
   "outputs": [],
   "source": [
    "def checkStatus(row):\n",
    "  if(row['Denied Code'].strip() == '-'  and row['Payment Post Date'].date() > row['Date of Service'].date()):\n",
    "    return True\n",
    "  elif(row['Denied Code'].strip() != '-' and row['Payment Post Date'].date() > row['Date of Service'].date()):\n",
    "    return False\n",
    "  else:\n",
    "    return None\n",
    "df['accepted'] = df.apply(lambda row: checkStatus(row), axis=1)"
   ]
  },
  {
   "cell_type": "code",
   "execution_count": 9,
   "metadata": {},
   "outputs": [
    {
     "data": {
      "text/html": [
       "<div>\n",
       "<style scoped>\n",
       "    .dataframe tbody tr th:only-of-type {\n",
       "        vertical-align: middle;\n",
       "    }\n",
       "\n",
       "    .dataframe tbody tr th {\n",
       "        vertical-align: top;\n",
       "    }\n",
       "\n",
       "    .dataframe thead th {\n",
       "        text-align: right;\n",
       "    }\n",
       "</style>\n",
       "<table border=\"1\" class=\"dataframe\">\n",
       "  <thead>\n",
       "    <tr style=\"text-align: right;\">\n",
       "      <th></th>\n",
       "      <th>Ticket Number</th>\n",
       "      <th>Carrier Code</th>\n",
       "      <th>FinancialClass</th>\n",
       "      <th>CPT</th>\n",
       "      <th>NPI</th>\n",
       "      <th>Ordering Clinic</th>\n",
       "      <th>Denied Code</th>\n",
       "      <th>Provider Profile</th>\n",
       "      <th>accepted</th>\n",
       "    </tr>\n",
       "  </thead>\n",
       "  <tbody>\n",
       "    <tr>\n",
       "      <td>count</td>\n",
       "      <td>10357</td>\n",
       "      <td>10357</td>\n",
       "      <td>10357</td>\n",
       "      <td>10357</td>\n",
       "      <td>10357</td>\n",
       "      <td>10357</td>\n",
       "      <td>10357</td>\n",
       "      <td>10357</td>\n",
       "      <td>6798</td>\n",
       "    </tr>\n",
       "    <tr>\n",
       "      <td>unique</td>\n",
       "      <td>10357</td>\n",
       "      <td>339</td>\n",
       "      <td>9</td>\n",
       "      <td>42</td>\n",
       "      <td>1437</td>\n",
       "      <td>1058</td>\n",
       "      <td>55</td>\n",
       "      <td>2</td>\n",
       "      <td>2</td>\n",
       "    </tr>\n",
       "    <tr>\n",
       "      <td>top</td>\n",
       "      <td>318435</td>\n",
       "      <td>AETLIF-E</td>\n",
       "      <td>CT - CONTRACTED</td>\n",
       "      <td>81420</td>\n",
       "      <td>1669532347</td>\n",
       "      <td>MOORE OB/GYN</td>\n",
       "      <td>-</td>\n",
       "      <td>NTINC</td>\n",
       "      <td>False</td>\n",
       "    </tr>\n",
       "    <tr>\n",
       "      <td>freq</td>\n",
       "      <td>1</td>\n",
       "      <td>965</td>\n",
       "      <td>5093</td>\n",
       "      <td>1710</td>\n",
       "      <td>146</td>\n",
       "      <td>146</td>\n",
       "      <td>6298</td>\n",
       "      <td>10246</td>\n",
       "      <td>4057</td>\n",
       "    </tr>\n",
       "  </tbody>\n",
       "</table>\n",
       "</div>"
      ],
      "text/plain": [
       "       Ticket Number Carrier Code   FinancialClass    CPT         NPI  \\\n",
       "count          10357        10357            10357  10357       10357   \n",
       "unique         10357          339                9     42        1437   \n",
       "top           318435     AETLIF-E  CT - CONTRACTED  81420  1669532347   \n",
       "freq               1          965             5093   1710         146   \n",
       "\n",
       "       Ordering Clinic Denied Code Provider Profile accepted  \n",
       "count            10357       10357            10357     6798  \n",
       "unique            1058          55                2        2  \n",
       "top       MOORE OB/GYN           -            NTINC    False  \n",
       "freq               146        6298            10246     4057  "
      ]
     },
     "execution_count": 9,
     "metadata": {},
     "output_type": "execute_result"
    }
   ],
   "source": [
    "df.describe(include=['object'])"
   ]
  },
  {
   "cell_type": "code",
   "execution_count": 10,
   "metadata": {},
   "outputs": [],
   "source": [
    "df.columns = df.columns.str.replace(' ', '')"
   ]
  },
  {
   "cell_type": "code",
   "execution_count": 11,
   "metadata": {},
   "outputs": [],
   "source": [
    "df=df.rename(columns={\"DateofService\": \"DateOfService\"})"
   ]
  },
  {
   "cell_type": "code",
   "execution_count": 12,
   "metadata": {},
   "outputs": [
    {
     "data": {
      "text/html": [
       "<div>\n",
       "<style scoped>\n",
       "    .dataframe tbody tr th:only-of-type {\n",
       "        vertical-align: middle;\n",
       "    }\n",
       "\n",
       "    .dataframe tbody tr th {\n",
       "        vertical-align: top;\n",
       "    }\n",
       "\n",
       "    .dataframe thead th {\n",
       "        text-align: right;\n",
       "    }\n",
       "</style>\n",
       "<table border=\"1\" class=\"dataframe\">\n",
       "  <thead>\n",
       "    <tr style=\"text-align: right;\">\n",
       "      <th></th>\n",
       "      <th>TicketNumber</th>\n",
       "      <th>DateOfService</th>\n",
       "      <th>CarrierCode</th>\n",
       "      <th>Charges</th>\n",
       "      <th>Payments</th>\n",
       "      <th>InsurancePayment</th>\n",
       "      <th>PatientPayment</th>\n",
       "      <th>Writeoffs</th>\n",
       "      <th>FinancialClass</th>\n",
       "      <th>CPT</th>\n",
       "      <th>...</th>\n",
       "      <th>NPI</th>\n",
       "      <th>OrderingClinic</th>\n",
       "      <th>DeniedCode</th>\n",
       "      <th>FirstBilledDate</th>\n",
       "      <th>ProviderProfile</th>\n",
       "      <th>InsuranceBal</th>\n",
       "      <th>PatientBal</th>\n",
       "      <th>AllowedAmount</th>\n",
       "      <th>CaseCount</th>\n",
       "      <th>accepted</th>\n",
       "    </tr>\n",
       "  </thead>\n",
       "  <tbody>\n",
       "    <tr>\n",
       "      <td>0</td>\n",
       "      <td>104452</td>\n",
       "      <td>2019-01-02</td>\n",
       "      <td>CFHP-E2</td>\n",
       "      <td>3900.0</td>\n",
       "      <td>0.0</td>\n",
       "      <td>0.0</td>\n",
       "      <td>0.0</td>\n",
       "      <td>0.0</td>\n",
       "      <td>NC - NON-CONTRACTED</td>\n",
       "      <td>81507</td>\n",
       "      <td>...</td>\n",
       "      <td>1316428238</td>\n",
       "      <td>ALAMO WOMEN'S OBGYN</td>\n",
       "      <td>197</td>\n",
       "      <td>2019-01-08</td>\n",
       "      <td>NTINC</td>\n",
       "      <td>0.0</td>\n",
       "      <td>3900.0</td>\n",
       "      <td>0.0</td>\n",
       "      <td>1</td>\n",
       "      <td>False</td>\n",
       "    </tr>\n",
       "    <tr>\n",
       "      <td>1</td>\n",
       "      <td>104453</td>\n",
       "      <td>2019-01-02</td>\n",
       "      <td>CFHP-E2</td>\n",
       "      <td>3900.0</td>\n",
       "      <td>0.0</td>\n",
       "      <td>0.0</td>\n",
       "      <td>0.0</td>\n",
       "      <td>0.0</td>\n",
       "      <td>NC - NON-CONTRACTED</td>\n",
       "      <td>81507</td>\n",
       "      <td>...</td>\n",
       "      <td>1316428238</td>\n",
       "      <td>ALAMO WOMEN'S OBGYN</td>\n",
       "      <td>197</td>\n",
       "      <td>2019-01-08</td>\n",
       "      <td>NTINC</td>\n",
       "      <td>0.0</td>\n",
       "      <td>3900.0</td>\n",
       "      <td>0.0</td>\n",
       "      <td>1</td>\n",
       "      <td>False</td>\n",
       "    </tr>\n",
       "    <tr>\n",
       "      <td>2</td>\n",
       "      <td>104454</td>\n",
       "      <td>2019-01-02</td>\n",
       "      <td>NCS</td>\n",
       "      <td>795.0</td>\n",
       "      <td>249.0</td>\n",
       "      <td>0.0</td>\n",
       "      <td>249.0</td>\n",
       "      <td>546.0</td>\n",
       "      <td>SP - SELF PAY</td>\n",
       "      <td>99999</td>\n",
       "      <td>...</td>\n",
       "      <td>1699760116</td>\n",
       "      <td>COMPREHENSIVE WOMEN'S HEALTHCARE</td>\n",
       "      <td>-</td>\n",
       "      <td>NaT</td>\n",
       "      <td>NTINC</td>\n",
       "      <td>0.0</td>\n",
       "      <td>0.0</td>\n",
       "      <td>0.0</td>\n",
       "      <td>1</td>\n",
       "      <td>True</td>\n",
       "    </tr>\n",
       "    <tr>\n",
       "      <td>3</td>\n",
       "      <td>104496</td>\n",
       "      <td>2019-01-02</td>\n",
       "      <td>AETLIF-E</td>\n",
       "      <td>3900.0</td>\n",
       "      <td>0.0</td>\n",
       "      <td>0.0</td>\n",
       "      <td>0.0</td>\n",
       "      <td>0.0</td>\n",
       "      <td>CT - CONTRACTED</td>\n",
       "      <td>81420</td>\n",
       "      <td>...</td>\n",
       "      <td>1609216597</td>\n",
       "      <td>PEACHTREE WOMEN'S CLINIC - NORTHSIDE</td>\n",
       "      <td>-</td>\n",
       "      <td>2019-01-08</td>\n",
       "      <td>NTINC</td>\n",
       "      <td>3900.0</td>\n",
       "      <td>0.0</td>\n",
       "      <td>749.0</td>\n",
       "      <td>1</td>\n",
       "      <td>True</td>\n",
       "    </tr>\n",
       "    <tr>\n",
       "      <td>4</td>\n",
       "      <td>104497</td>\n",
       "      <td>2019-01-02</td>\n",
       "      <td>AETLIF-E</td>\n",
       "      <td>3900.0</td>\n",
       "      <td>0.0</td>\n",
       "      <td>0.0</td>\n",
       "      <td>0.0</td>\n",
       "      <td>0.0</td>\n",
       "      <td>CT - CONTRACTED</td>\n",
       "      <td>81420</td>\n",
       "      <td>...</td>\n",
       "      <td>1609216597</td>\n",
       "      <td>PEACHTREE WOMEN'S CLINIC - NORTHSIDE</td>\n",
       "      <td>-</td>\n",
       "      <td>2019-01-08</td>\n",
       "      <td>NTINC</td>\n",
       "      <td>3900.0</td>\n",
       "      <td>0.0</td>\n",
       "      <td>749.0</td>\n",
       "      <td>1</td>\n",
       "      <td>True</td>\n",
       "    </tr>\n",
       "  </tbody>\n",
       "</table>\n",
       "<p>5 rows × 22 columns</p>\n",
       "</div>"
      ],
      "text/plain": [
       "  TicketNumber DateOfService CarrierCode  Charges  Payments  InsurancePayment  \\\n",
       "0       104452    2019-01-02     CFHP-E2   3900.0       0.0               0.0   \n",
       "1       104453    2019-01-02     CFHP-E2   3900.0       0.0               0.0   \n",
       "2       104454    2019-01-02         NCS    795.0     249.0               0.0   \n",
       "3       104496    2019-01-02    AETLIF-E   3900.0       0.0               0.0   \n",
       "4       104497    2019-01-02    AETLIF-E   3900.0       0.0               0.0   \n",
       "\n",
       "   PatientPayment  Writeoffs       FinancialClass    CPT  ...         NPI  \\\n",
       "0             0.0        0.0  NC - NON-CONTRACTED  81507  ...  1316428238   \n",
       "1             0.0        0.0  NC - NON-CONTRACTED  81507  ...  1316428238   \n",
       "2           249.0      546.0        SP - SELF PAY  99999  ...  1699760116   \n",
       "3             0.0        0.0      CT - CONTRACTED  81420  ...  1609216597   \n",
       "4             0.0        0.0      CT - CONTRACTED  81420  ...  1609216597   \n",
       "\n",
       "                         OrderingClinic DeniedCode FirstBilledDate  \\\n",
       "0                   ALAMO WOMEN'S OBGYN        197      2019-01-08   \n",
       "1                   ALAMO WOMEN'S OBGYN        197      2019-01-08   \n",
       "2      COMPREHENSIVE WOMEN'S HEALTHCARE          -             NaT   \n",
       "3  PEACHTREE WOMEN'S CLINIC - NORTHSIDE          -      2019-01-08   \n",
       "4  PEACHTREE WOMEN'S CLINIC - NORTHSIDE          -      2019-01-08   \n",
       "\n",
       "  ProviderProfile InsuranceBal PatientBal  AllowedAmount  CaseCount  accepted  \n",
       "0           NTINC          0.0     3900.0            0.0          1     False  \n",
       "1           NTINC          0.0     3900.0            0.0          1     False  \n",
       "2           NTINC          0.0        0.0            0.0          1      True  \n",
       "3           NTINC       3900.0        0.0          749.0          1      True  \n",
       "4           NTINC       3900.0        0.0          749.0          1      True  \n",
       "\n",
       "[5 rows x 22 columns]"
      ]
     },
     "execution_count": 12,
     "metadata": {},
     "output_type": "execute_result"
    }
   ],
   "source": [
    "df.head()"
   ]
  },
  {
   "cell_type": "code",
   "execution_count": 13,
   "metadata": {},
   "outputs": [
    {
     "data": {
      "text/html": [
       "<div>\n",
       "<style scoped>\n",
       "    .dataframe tbody tr th:only-of-type {\n",
       "        vertical-align: middle;\n",
       "    }\n",
       "\n",
       "    .dataframe tbody tr th {\n",
       "        vertical-align: top;\n",
       "    }\n",
       "\n",
       "    .dataframe thead th {\n",
       "        text-align: right;\n",
       "    }\n",
       "</style>\n",
       "<table border=\"1\" class=\"dataframe\">\n",
       "  <thead>\n",
       "    <tr style=\"text-align: right;\">\n",
       "      <th></th>\n",
       "      <th>Charges</th>\n",
       "      <th>Payments</th>\n",
       "      <th>InsurancePayment</th>\n",
       "      <th>PatientPayment</th>\n",
       "      <th>Writeoffs</th>\n",
       "      <th>InsuranceBal</th>\n",
       "      <th>PatientBal</th>\n",
       "      <th>AllowedAmount</th>\n",
       "      <th>CaseCount</th>\n",
       "    </tr>\n",
       "  </thead>\n",
       "  <tbody>\n",
       "    <tr>\n",
       "      <td>count</td>\n",
       "      <td>10357.000000</td>\n",
       "      <td>10357.000000</td>\n",
       "      <td>10357.000000</td>\n",
       "      <td>10357.000000</td>\n",
       "      <td>10357.000000</td>\n",
       "      <td>10357.000000</td>\n",
       "      <td>10357.000000</td>\n",
       "      <td>10357.000000</td>\n",
       "      <td>10357.0</td>\n",
       "    </tr>\n",
       "    <tr>\n",
       "      <td>mean</td>\n",
       "      <td>1602.650574</td>\n",
       "      <td>44.679865</td>\n",
       "      <td>41.129217</td>\n",
       "      <td>3.550648</td>\n",
       "      <td>493.463687</td>\n",
       "      <td>707.961028</td>\n",
       "      <td>355.345011</td>\n",
       "      <td>374.690578</td>\n",
       "      <td>1.0</td>\n",
       "    </tr>\n",
       "    <tr>\n",
       "      <td>std</td>\n",
       "      <td>1882.231263</td>\n",
       "      <td>211.645956</td>\n",
       "      <td>208.343187</td>\n",
       "      <td>40.978363</td>\n",
       "      <td>1215.058115</td>\n",
       "      <td>1478.907449</td>\n",
       "      <td>1066.710826</td>\n",
       "      <td>1006.419773</td>\n",
       "      <td>0.0</td>\n",
       "    </tr>\n",
       "    <tr>\n",
       "      <td>min</td>\n",
       "      <td>10.000000</td>\n",
       "      <td>0.000000</td>\n",
       "      <td>0.000000</td>\n",
       "      <td>0.000000</td>\n",
       "      <td>0.000000</td>\n",
       "      <td>0.000000</td>\n",
       "      <td>0.000000</td>\n",
       "      <td>0.000000</td>\n",
       "      <td>1.0</td>\n",
       "    </tr>\n",
       "    <tr>\n",
       "      <td>25%</td>\n",
       "      <td>175.000000</td>\n",
       "      <td>0.000000</td>\n",
       "      <td>0.000000</td>\n",
       "      <td>0.000000</td>\n",
       "      <td>0.000000</td>\n",
       "      <td>0.000000</td>\n",
       "      <td>0.000000</td>\n",
       "      <td>0.000000</td>\n",
       "      <td>1.0</td>\n",
       "    </tr>\n",
       "    <tr>\n",
       "      <td>50%</td>\n",
       "      <td>250.000000</td>\n",
       "      <td>0.000000</td>\n",
       "      <td>0.000000</td>\n",
       "      <td>0.000000</td>\n",
       "      <td>0.000000</td>\n",
       "      <td>0.000000</td>\n",
       "      <td>0.000000</td>\n",
       "      <td>0.000000</td>\n",
       "      <td>1.0</td>\n",
       "    </tr>\n",
       "    <tr>\n",
       "      <td>75%</td>\n",
       "      <td>3900.000000</td>\n",
       "      <td>0.000000</td>\n",
       "      <td>0.000000</td>\n",
       "      <td>0.000000</td>\n",
       "      <td>105.000000</td>\n",
       "      <td>250.000000</td>\n",
       "      <td>112.300000</td>\n",
       "      <td>208.090000</td>\n",
       "      <td>1.0</td>\n",
       "    </tr>\n",
       "    <tr>\n",
       "      <td>max</td>\n",
       "      <td>14697.000000</td>\n",
       "      <td>4600.000000</td>\n",
       "      <td>4600.000000</td>\n",
       "      <td>1590.000000</td>\n",
       "      <td>12737.000000</td>\n",
       "      <td>12737.000000</td>\n",
       "      <td>14697.000000</td>\n",
       "      <td>7200.000000</td>\n",
       "      <td>1.0</td>\n",
       "    </tr>\n",
       "  </tbody>\n",
       "</table>\n",
       "</div>"
      ],
      "text/plain": [
       "            Charges      Payments  InsurancePayment  PatientPayment  \\\n",
       "count  10357.000000  10357.000000      10357.000000    10357.000000   \n",
       "mean    1602.650574     44.679865         41.129217        3.550648   \n",
       "std     1882.231263    211.645956        208.343187       40.978363   \n",
       "min       10.000000      0.000000          0.000000        0.000000   \n",
       "25%      175.000000      0.000000          0.000000        0.000000   \n",
       "50%      250.000000      0.000000          0.000000        0.000000   \n",
       "75%     3900.000000      0.000000          0.000000        0.000000   \n",
       "max    14697.000000   4600.000000       4600.000000     1590.000000   \n",
       "\n",
       "          Writeoffs  InsuranceBal    PatientBal  AllowedAmount  CaseCount  \n",
       "count  10357.000000  10357.000000  10357.000000   10357.000000    10357.0  \n",
       "mean     493.463687    707.961028    355.345011     374.690578        1.0  \n",
       "std     1215.058115   1478.907449   1066.710826    1006.419773        0.0  \n",
       "min        0.000000      0.000000      0.000000       0.000000        1.0  \n",
       "25%        0.000000      0.000000      0.000000       0.000000        1.0  \n",
       "50%        0.000000      0.000000      0.000000       0.000000        1.0  \n",
       "75%      105.000000    250.000000    112.300000     208.090000        1.0  \n",
       "max    12737.000000  12737.000000  14697.000000    7200.000000        1.0  "
      ]
     },
     "execution_count": 13,
     "metadata": {},
     "output_type": "execute_result"
    }
   ],
   "source": [
    "df.describe()"
   ]
  },
  {
   "cell_type": "code",
   "execution_count": null,
   "metadata": {},
   "outputs": [],
   "source": []
  },
  {
   "cell_type": "code",
   "execution_count": 14,
   "metadata": {},
   "outputs": [
    {
     "data": {
      "text/html": [
       "<div>\n",
       "<style scoped>\n",
       "    .dataframe tbody tr th:only-of-type {\n",
       "        vertical-align: middle;\n",
       "    }\n",
       "\n",
       "    .dataframe tbody tr th {\n",
       "        vertical-align: top;\n",
       "    }\n",
       "\n",
       "    .dataframe thead th {\n",
       "        text-align: right;\n",
       "    }\n",
       "</style>\n",
       "<table border=\"1\" class=\"dataframe\">\n",
       "  <thead>\n",
       "    <tr style=\"text-align: right;\">\n",
       "      <th></th>\n",
       "      <th>DateOfService</th>\n",
       "      <th>FirstBilledDate</th>\n",
       "      <th>timedelta</th>\n",
       "    </tr>\n",
       "  </thead>\n",
       "  <tbody>\n",
       "    <tr>\n",
       "      <td>0</td>\n",
       "      <td>2019-01-02</td>\n",
       "      <td>2019-01-08</td>\n",
       "      <td>6</td>\n",
       "    </tr>\n",
       "    <tr>\n",
       "      <td>1</td>\n",
       "      <td>2019-01-02</td>\n",
       "      <td>2019-01-08</td>\n",
       "      <td>6</td>\n",
       "    </tr>\n",
       "    <tr>\n",
       "      <td>3</td>\n",
       "      <td>2019-01-02</td>\n",
       "      <td>2019-01-08</td>\n",
       "      <td>6</td>\n",
       "    </tr>\n",
       "    <tr>\n",
       "      <td>4</td>\n",
       "      <td>2019-01-02</td>\n",
       "      <td>2019-01-08</td>\n",
       "      <td>6</td>\n",
       "    </tr>\n",
       "    <tr>\n",
       "      <td>5</td>\n",
       "      <td>2019-01-02</td>\n",
       "      <td>2019-01-08</td>\n",
       "      <td>6</td>\n",
       "    </tr>\n",
       "  </tbody>\n",
       "</table>\n",
       "</div>"
      ],
      "text/plain": [
       "  DateOfService FirstBilledDate  timedelta\n",
       "0    2019-01-02      2019-01-08          6\n",
       "1    2019-01-02      2019-01-08          6\n",
       "3    2019-01-02      2019-01-08          6\n",
       "4    2019-01-02      2019-01-08          6\n",
       "5    2019-01-02      2019-01-08          6"
      ]
     },
     "execution_count": 14,
     "metadata": {},
     "output_type": "execute_result"
    }
   ],
   "source": [
    "df = df.dropna(subset=['FirstBilledDate'])\n",
    "df['timedelta'] = (df['FirstBilledDate'] - df['DateOfService']).dt.days.astype(int)\n",
    "df[['DateOfService', 'FirstBilledDate', 'timedelta']].head()"
   ]
  },
  {
   "cell_type": "code",
   "execution_count": null,
   "metadata": {},
   "outputs": [],
   "source": []
  },
  {
   "cell_type": "code",
   "execution_count": null,
   "metadata": {},
   "outputs": [],
   "source": []
  },
  {
   "cell_type": "code",
   "execution_count": null,
   "metadata": {},
   "outputs": [],
   "source": []
  },
  {
   "cell_type": "code",
   "execution_count": 15,
   "metadata": {},
   "outputs": [
    {
     "data": {
      "text/html": [
       "<div>\n",
       "<style scoped>\n",
       "    .dataframe tbody tr th:only-of-type {\n",
       "        vertical-align: middle;\n",
       "    }\n",
       "\n",
       "    .dataframe tbody tr th {\n",
       "        vertical-align: top;\n",
       "    }\n",
       "\n",
       "    .dataframe thead th {\n",
       "        text-align: right;\n",
       "    }\n",
       "</style>\n",
       "<table border=\"1\" class=\"dataframe\">\n",
       "  <thead>\n",
       "    <tr style=\"text-align: right;\">\n",
       "      <th></th>\n",
       "      <th>TicketNumber</th>\n",
       "      <th>CarrierCode</th>\n",
       "      <th>FinancialClass</th>\n",
       "      <th>CPT</th>\n",
       "      <th>NPI</th>\n",
       "      <th>OrderingClinic</th>\n",
       "      <th>DeniedCode</th>\n",
       "      <th>ProviderProfile</th>\n",
       "      <th>accepted</th>\n",
       "    </tr>\n",
       "  </thead>\n",
       "  <tbody>\n",
       "    <tr>\n",
       "      <td>count</td>\n",
       "      <td>10099</td>\n",
       "      <td>10099</td>\n",
       "      <td>10099</td>\n",
       "      <td>10099</td>\n",
       "      <td>10099</td>\n",
       "      <td>10099</td>\n",
       "      <td>10099</td>\n",
       "      <td>10099</td>\n",
       "      <td>6741</td>\n",
       "    </tr>\n",
       "    <tr>\n",
       "      <td>unique</td>\n",
       "      <td>10099</td>\n",
       "      <td>334</td>\n",
       "      <td>9</td>\n",
       "      <td>41</td>\n",
       "      <td>1315</td>\n",
       "      <td>994</td>\n",
       "      <td>55</td>\n",
       "      <td>2</td>\n",
       "      <td>2</td>\n",
       "    </tr>\n",
       "    <tr>\n",
       "      <td>top</td>\n",
       "      <td>150101</td>\n",
       "      <td>AETLIF-E</td>\n",
       "      <td>CT - CONTRACTED</td>\n",
       "      <td>81420</td>\n",
       "      <td>1669532347</td>\n",
       "      <td>MOORE OB/GYN</td>\n",
       "      <td>-</td>\n",
       "      <td>NTINC</td>\n",
       "      <td>False</td>\n",
       "    </tr>\n",
       "    <tr>\n",
       "      <td>freq</td>\n",
       "      <td>1</td>\n",
       "      <td>964</td>\n",
       "      <td>5078</td>\n",
       "      <td>1704</td>\n",
       "      <td>146</td>\n",
       "      <td>146</td>\n",
       "      <td>6040</td>\n",
       "      <td>9988</td>\n",
       "      <td>4057</td>\n",
       "    </tr>\n",
       "  </tbody>\n",
       "</table>\n",
       "</div>"
      ],
      "text/plain": [
       "       TicketNumber CarrierCode   FinancialClass    CPT         NPI  \\\n",
       "count         10099       10099            10099  10099       10099   \n",
       "unique        10099         334                9     41        1315   \n",
       "top          150101    AETLIF-E  CT - CONTRACTED  81420  1669532347   \n",
       "freq              1         964             5078   1704         146   \n",
       "\n",
       "       OrderingClinic DeniedCode ProviderProfile accepted  \n",
       "count           10099      10099           10099     6741  \n",
       "unique            994         55               2        2  \n",
       "top      MOORE OB/GYN          -           NTINC    False  \n",
       "freq              146       6040            9988     4057  "
      ]
     },
     "execution_count": 15,
     "metadata": {},
     "output_type": "execute_result"
    }
   ],
   "source": [
    "df.describe(include=['object'])"
   ]
  },
  {
   "cell_type": "code",
   "execution_count": 16,
   "metadata": {},
   "outputs": [],
   "source": [
    "df.to_csv(\"C:/Users/Laval/Downloads/MSCatUOM/data-science/project/data/Natera_last_week_process_data.csv\")"
   ]
  },
  {
   "cell_type": "code",
   "execution_count": null,
   "metadata": {},
   "outputs": [],
   "source": []
  },
  {
   "cell_type": "code",
   "execution_count": null,
   "metadata": {},
   "outputs": [],
   "source": []
  },
  {
   "cell_type": "code",
   "execution_count": null,
   "metadata": {},
   "outputs": [],
   "source": []
  },
  {
   "cell_type": "code",
   "execution_count": 17,
   "metadata": {},
   "outputs": [
    {
     "data": {
      "text/plain": [
       "(10099, 23)"
      ]
     },
     "execution_count": 17,
     "metadata": {},
     "output_type": "execute_result"
    }
   ],
   "source": [
    "df.shape"
   ]
  },
  {
   "cell_type": "code",
   "execution_count": 18,
   "metadata": {},
   "outputs": [
    {
     "data": {
      "text/plain": [
       "TicketNumber           0\n",
       "DateOfService          0\n",
       "CarrierCode            0\n",
       "Charges                0\n",
       "Payments               0\n",
       "InsurancePayment       0\n",
       "PatientPayment         0\n",
       "Writeoffs              0\n",
       "FinancialClass         0\n",
       "CPT                    0\n",
       "DateofEntry            0\n",
       "PaymentPostDate     3358\n",
       "NPI                    0\n",
       "OrderingClinic         0\n",
       "DeniedCode             0\n",
       "FirstBilledDate        0\n",
       "ProviderProfile        0\n",
       "InsuranceBal           0\n",
       "PatientBal             0\n",
       "AllowedAmount          0\n",
       "CaseCount              0\n",
       "accepted            3358\n",
       "timedelta              0\n",
       "dtype: int64"
      ]
     },
     "execution_count": 18,
     "metadata": {},
     "output_type": "execute_result"
    }
   ],
   "source": [
    "df.isnull().sum()"
   ]
  },
  {
   "cell_type": "code",
   "execution_count": 19,
   "metadata": {},
   "outputs": [],
   "source": [
    "charges = df['Charges']"
   ]
  },
  {
   "cell_type": "code",
   "execution_count": 20,
   "metadata": {},
   "outputs": [
    {
     "data": {
      "text/plain": [
       "<matplotlib.axes._subplots.AxesSubplot at 0x1cf10a3be48>"
      ]
     },
     "execution_count": 20,
     "metadata": {},
     "output_type": "execute_result"
    },
    {
     "data": {
      "image/png": "[encoded data removed]",
      "text/plain": [
       "<Figure size 432x288 with 1 Axes>"
      ]
     },
     "metadata": {
      "needs_background": "light"
     },
     "output_type": "display_data"
    }
   ],
   "source": [
    "charges.hist()"
   ]
  },
  {
   "cell_type": "code",
   "execution_count": 21,
   "metadata": {},
   "outputs": [
    {
     "data": {
      "text/plain": [
       "count    10099.000000\n",
       "mean      1611.784236\n",
       "std       1897.022051\n",
       "min         10.000000\n",
       "25%        175.000000\n",
       "50%        250.000000\n",
       "75%       3900.000000\n",
       "max      14697.000000\n",
       "Name: Charges, dtype: float64"
      ]
     },
     "execution_count": 21,
     "metadata": {},
     "output_type": "execute_result"
    }
   ],
   "source": [
    "charges.describe()"
   ]
  },
  {
   "cell_type": "code",
   "execution_count": 22,
   "metadata": {
    "scrolled": true
   },
   "outputs": [
    {
     "data": {
      "text/plain": [
       "<matplotlib.axes._subplots.AxesSubplot at 0x1cf10966a88>"
      ]
     },
     "execution_count": 22,
     "metadata": {},
     "output_type": "execute_result"
    },
    {
     "data": {
      "image/png": "[encoded data removed]",
      "text/plain": [
       "<Figure size 2160x1080 with 1 Axes>"
      ]
     },
     "metadata": {
      "needs_background": "light"
     },
     "output_type": "display_data"
    }
   ],
   "source": [
    "plt.figure(figsize=(30,15))\n",
    "sns.countplot(df['FinancialClass'])"
   ]
  },
  {
   "cell_type": "code",
   "execution_count": 23,
   "metadata": {},
   "outputs": [
    {
     "data": {
      "text/plain": [
       "<matplotlib.axes._subplots.AxesSubplot at 0x1cf10a3bf08>"
      ]
     },
     "execution_count": 23,
     "metadata": {},
     "output_type": "execute_result"
    },
    {
     "data": {
      "image/png": "[encoded data removed]",
      "text/plain": [
       "<Figure size 2160x1080 with 1 Axes>"
      ]
     },
     "metadata": {
      "needs_background": "light"
     },
     "output_type": "display_data"
    }
   ],
   "source": [
    "plt.figure(figsize=(30,15))\n",
    "sns.countplot(df['ProviderProfile'])"
   ]
  },
  {
   "cell_type": "code",
   "execution_count": 24,
   "metadata": {},
   "outputs": [
    {
     "data": {
      "text/plain": [
       "<matplotlib.axes._subplots.AxesSubplot at 0x1cf109dbc88>"
      ]
     },
     "execution_count": 24,
     "metadata": {},
     "output_type": "execute_result"
    },
    {
     "data": {
      "image/png": "[encoded data removed]",
      "text/plain": [
       "<Figure size 2160x1080 with 1 Axes>"
      ]
     },
     "metadata": {
      "needs_background": "light"
     },
     "output_type": "display_data"
    }
   ],
   "source": [
    "plt.figure(figsize=(30,15))\n",
    "sns.countplot(df['CPT'])"
   ]
  },
  {
   "cell_type": "code",
   "execution_count": 25,
   "metadata": {},
   "outputs": [
    {
     "data": {
      "text/plain": [
       "<matplotlib.axes._subplots.AxesSubplot at 0x1cf10a8bdc8>"
      ]
     },
     "execution_count": 25,
     "metadata": {},
     "output_type": "execute_result"
    },
    {
     "data": {
      "image/png": "[encoded data removed]",
      "text/plain": [
       "<Figure size 2160x1080 with 1 Axes>"
      ]
     },
     "metadata": {
      "needs_background": "light"
     },
     "output_type": "display_data"
    }
   ],
   "source": [
    "plt.figure(figsize=(30,15))\n",
    "sns.countplot(df['CarrierCode'])"
   ]
  },
  {
   "cell_type": "code",
   "execution_count": 26,
   "metadata": {},
   "outputs": [],
   "source": [
    "df = df.drop(['CaseCount', 'TicketNumber'], axis=1)"
   ]
  },
  {
   "cell_type": "code",
   "execution_count": 27,
   "metadata": {},
   "outputs": [
    {
     "data": {
      "text/html": [
       "<div>\n",
       "<style scoped>\n",
       "    .dataframe tbody tr th:only-of-type {\n",
       "        vertical-align: middle;\n",
       "    }\n",
       "\n",
       "    .dataframe tbody tr th {\n",
       "        vertical-align: top;\n",
       "    }\n",
       "\n",
       "    .dataframe thead th {\n",
       "        text-align: right;\n",
       "    }\n",
       "</style>\n",
       "<table border=\"1\" class=\"dataframe\">\n",
       "  <thead>\n",
       "    <tr style=\"text-align: right;\">\n",
       "      <th></th>\n",
       "      <th>DateOfService</th>\n",
       "      <th>CarrierCode</th>\n",
       "      <th>Charges</th>\n",
       "      <th>Payments</th>\n",
       "      <th>InsurancePayment</th>\n",
       "      <th>PatientPayment</th>\n",
       "      <th>Writeoffs</th>\n",
       "      <th>FinancialClass</th>\n",
       "      <th>CPT</th>\n",
       "      <th>DateofEntry</th>\n",
       "      <th>...</th>\n",
       "      <th>NPI</th>\n",
       "      <th>OrderingClinic</th>\n",
       "      <th>DeniedCode</th>\n",
       "      <th>FirstBilledDate</th>\n",
       "      <th>ProviderProfile</th>\n",
       "      <th>InsuranceBal</th>\n",
       "      <th>PatientBal</th>\n",
       "      <th>AllowedAmount</th>\n",
       "      <th>accepted</th>\n",
       "      <th>timedelta</th>\n",
       "    </tr>\n",
       "  </thead>\n",
       "  <tbody>\n",
       "    <tr>\n",
       "      <td>0</td>\n",
       "      <td>2019-01-02</td>\n",
       "      <td>CFHP-E2</td>\n",
       "      <td>3900.0</td>\n",
       "      <td>0.0</td>\n",
       "      <td>0.0</td>\n",
       "      <td>0.0</td>\n",
       "      <td>0.0</td>\n",
       "      <td>NC - NON-CONTRACTED</td>\n",
       "      <td>81507</td>\n",
       "      <td>2019-01-07</td>\n",
       "      <td>...</td>\n",
       "      <td>1316428238</td>\n",
       "      <td>ALAMO WOMEN'S OBGYN</td>\n",
       "      <td>197</td>\n",
       "      <td>2019-01-08</td>\n",
       "      <td>NTINC</td>\n",
       "      <td>0.0</td>\n",
       "      <td>3900.0</td>\n",
       "      <td>0.0</td>\n",
       "      <td>False</td>\n",
       "      <td>6</td>\n",
       "    </tr>\n",
       "    <tr>\n",
       "      <td>1</td>\n",
       "      <td>2019-01-02</td>\n",
       "      <td>CFHP-E2</td>\n",
       "      <td>3900.0</td>\n",
       "      <td>0.0</td>\n",
       "      <td>0.0</td>\n",
       "      <td>0.0</td>\n",
       "      <td>0.0</td>\n",
       "      <td>NC - NON-CONTRACTED</td>\n",
       "      <td>81507</td>\n",
       "      <td>2019-01-07</td>\n",
       "      <td>...</td>\n",
       "      <td>1316428238</td>\n",
       "      <td>ALAMO WOMEN'S OBGYN</td>\n",
       "      <td>197</td>\n",
       "      <td>2019-01-08</td>\n",
       "      <td>NTINC</td>\n",
       "      <td>0.0</td>\n",
       "      <td>3900.0</td>\n",
       "      <td>0.0</td>\n",
       "      <td>False</td>\n",
       "      <td>6</td>\n",
       "    </tr>\n",
       "    <tr>\n",
       "      <td>3</td>\n",
       "      <td>2019-01-02</td>\n",
       "      <td>AETLIF-E</td>\n",
       "      <td>3900.0</td>\n",
       "      <td>0.0</td>\n",
       "      <td>0.0</td>\n",
       "      <td>0.0</td>\n",
       "      <td>0.0</td>\n",
       "      <td>CT - CONTRACTED</td>\n",
       "      <td>81420</td>\n",
       "      <td>2019-01-07</td>\n",
       "      <td>...</td>\n",
       "      <td>1609216597</td>\n",
       "      <td>PEACHTREE WOMEN'S CLINIC - NORTHSIDE</td>\n",
       "      <td>-</td>\n",
       "      <td>2019-01-08</td>\n",
       "      <td>NTINC</td>\n",
       "      <td>3900.0</td>\n",
       "      <td>0.0</td>\n",
       "      <td>749.0</td>\n",
       "      <td>True</td>\n",
       "      <td>6</td>\n",
       "    </tr>\n",
       "    <tr>\n",
       "      <td>4</td>\n",
       "      <td>2019-01-02</td>\n",
       "      <td>AETLIF-E</td>\n",
       "      <td>3900.0</td>\n",
       "      <td>0.0</td>\n",
       "      <td>0.0</td>\n",
       "      <td>0.0</td>\n",
       "      <td>0.0</td>\n",
       "      <td>CT - CONTRACTED</td>\n",
       "      <td>81420</td>\n",
       "      <td>2019-01-07</td>\n",
       "      <td>...</td>\n",
       "      <td>1609216597</td>\n",
       "      <td>PEACHTREE WOMEN'S CLINIC - NORTHSIDE</td>\n",
       "      <td>-</td>\n",
       "      <td>2019-01-08</td>\n",
       "      <td>NTINC</td>\n",
       "      <td>3900.0</td>\n",
       "      <td>0.0</td>\n",
       "      <td>749.0</td>\n",
       "      <td>True</td>\n",
       "      <td>6</td>\n",
       "    </tr>\n",
       "    <tr>\n",
       "      <td>5</td>\n",
       "      <td>2019-01-02</td>\n",
       "      <td>AETLIF-E</td>\n",
       "      <td>4100.0</td>\n",
       "      <td>0.0</td>\n",
       "      <td>0.0</td>\n",
       "      <td>0.0</td>\n",
       "      <td>0.0</td>\n",
       "      <td>CT - CONTRACTED</td>\n",
       "      <td>81422</td>\n",
       "      <td>2019-01-07</td>\n",
       "      <td>...</td>\n",
       "      <td>1609216597</td>\n",
       "      <td>PEACHTREE WOMEN'S CLINIC - NORTHSIDE</td>\n",
       "      <td>96</td>\n",
       "      <td>2019-01-08</td>\n",
       "      <td>NTINC</td>\n",
       "      <td>0.0</td>\n",
       "      <td>4100.0</td>\n",
       "      <td>749.0</td>\n",
       "      <td>False</td>\n",
       "      <td>6</td>\n",
       "    </tr>\n",
       "  </tbody>\n",
       "</table>\n",
       "<p>5 rows × 21 columns</p>\n",
       "</div>"
      ],
      "text/plain": [
       "  DateOfService CarrierCode  Charges  Payments  InsurancePayment  \\\n",
       "0    2019-01-02     CFHP-E2   3900.0       0.0               0.0   \n",
       "1    2019-01-02     CFHP-E2   3900.0       0.0               0.0   \n",
       "3    2019-01-02    AETLIF-E   3900.0       0.0               0.0   \n",
       "4    2019-01-02    AETLIF-E   3900.0       0.0               0.0   \n",
       "5    2019-01-02    AETLIF-E   4100.0       0.0               0.0   \n",
       "\n",
       "   PatientPayment  Writeoffs       FinancialClass    CPT DateofEntry  ...  \\\n",
       "0             0.0        0.0  NC - NON-CONTRACTED  81507  2019-01-07  ...   \n",
       "1             0.0        0.0  NC - NON-CONTRACTED  81507  2019-01-07  ...   \n",
       "3             0.0        0.0      CT - CONTRACTED  81420  2019-01-07  ...   \n",
       "4             0.0        0.0      CT - CONTRACTED  81420  2019-01-07  ...   \n",
       "5             0.0        0.0      CT - CONTRACTED  81422  2019-01-07  ...   \n",
       "\n",
       "          NPI                        OrderingClinic DeniedCode  \\\n",
       "0  1316428238                   ALAMO WOMEN'S OBGYN        197   \n",
       "1  1316428238                   ALAMO WOMEN'S OBGYN        197   \n",
       "3  1609216597  PEACHTREE WOMEN'S CLINIC - NORTHSIDE          -   \n",
       "4  1609216597  PEACHTREE WOMEN'S CLINIC - NORTHSIDE          -   \n",
       "5  1609216597  PEACHTREE WOMEN'S CLINIC - NORTHSIDE         96   \n",
       "\n",
       "  FirstBilledDate ProviderProfile InsuranceBal  PatientBal  AllowedAmount  \\\n",
       "0      2019-01-08           NTINC          0.0      3900.0            0.0   \n",
       "1      2019-01-08           NTINC          0.0      3900.0            0.0   \n",
       "3      2019-01-08           NTINC       3900.0         0.0          749.0   \n",
       "4      2019-01-08           NTINC       3900.0         0.0          749.0   \n",
       "5      2019-01-08           NTINC          0.0      4100.0          749.0   \n",
       "\n",
       "   accepted timedelta  \n",
       "0     False         6  \n",
       "1     False         6  \n",
       "3      True         6  \n",
       "4      True         6  \n",
       "5     False         6  \n",
       "\n",
       "[5 rows x 21 columns]"
      ]
     },
     "execution_count": 27,
     "metadata": {},
     "output_type": "execute_result"
    }
   ],
   "source": [
    "df.head()"
   ]
  },
  {
   "cell_type": "code",
   "execution_count": null,
   "metadata": {},
   "outputs": [],
   "source": []
  },
  {
   "cell_type": "code",
   "execution_count": 28,
   "metadata": {},
   "outputs": [
    {
     "data": {
      "text/plain": [
       "0    3900.0\n",
       "1    3900.0\n",
       "3    3900.0\n",
       "4    3900.0\n",
       "5    4100.0\n",
       "Name: Charges, dtype: float64"
      ]
     },
     "execution_count": 28,
     "metadata": {},
     "output_type": "execute_result"
    }
   ],
   "source": [
    "charges.head()"
   ]
  },
  {
   "cell_type": "code",
   "execution_count": 29,
   "metadata": {},
   "outputs": [
    {
     "data": {
      "text/plain": [
       "<matplotlib.axes._subplots.AxesSubplot at 0x1cf116e6448>"
      ]
     },
     "execution_count": 29,
     "metadata": {},
     "output_type": "execute_result"
    },
    {
     "data": {
      "image/png": "[encoded data removed]",
      "text/plain": [
       "<Figure size 432x288 with 1 Axes>"
      ]
     },
     "metadata": {
      "needs_background": "light"
     },
     "output_type": "display_data"
    }
   ],
   "source": [
    "charges.plot(kind='box', title='charges box plot')"
   ]
  },
  {
   "cell_type": "code",
   "execution_count": 30,
   "metadata": {},
   "outputs": [
    {
     "data": {
      "text/plain": [
       "<matplotlib.axes._subplots.AxesSubplot at 0x1cf118509c8>"
      ]
     },
     "execution_count": 30,
     "metadata": {},
     "output_type": "execute_result"
    },
    {
     "data": {
      "image/png": "[encoded data removed]",
      "text/plain": [
       "<Figure size 432x288 with 1 Axes>"
      ]
     },
     "metadata": {
      "needs_background": "light"
     },
     "output_type": "display_data"
    }
   ],
   "source": [
    "charges.plot(kind='hist', title='charges hist plot')"
   ]
  },
  {
   "cell_type": "code",
   "execution_count": 31,
   "metadata": {},
   "outputs": [
    {
     "data": {
      "text/plain": [
       "<matplotlib.axes._subplots.AxesSubplot at 0x1cf11702708>"
      ]
     },
     "execution_count": 31,
     "metadata": {},
     "output_type": "execute_result"
    },
    {
     "data": {
      "image/png": "[encoded data removed]",
      "text/plain": [
       "<Figure size 432x288 with 1 Axes>"
      ]
     },
     "metadata": {
      "needs_background": "light"
     },
     "output_type": "display_data"
    }
   ],
   "source": [
    "charges.plot(kind='kde', title='charges kde plot',xlim=(0, 6500))"
   ]
  },
  {
   "cell_type": "code",
   "execution_count": 32,
   "metadata": {},
   "outputs": [
    {
     "data": {
      "image/png": "[encoded data removed]",
      "text/plain": [
       "<Figure size 432x288 with 1 Axes>"
      ]
     },
     "metadata": {
      "needs_background": "light"
     },
     "output_type": "display_data"
    }
   ],
   "source": [
    "fontsize = 10\n",
    "\n",
    "fig, axes = plt.subplots()\n",
    "# plot violin. 'Scenario' is according to x axis, \n",
    "# 'LMP' is y axis, data is your dataframe. ax - is axes instance\n",
    "sns.violinplot('PatientBal','ProviderProfile', data=df, ax = axes)\n",
    "axes.set_title('provider profile vs Patient Balance')\n",
    "\n",
    "axes.yaxis.grid(True)\n",
    "axes.set_xlabel('PatientBal ($)')\n",
    "axes.set_ylabel('ProviderProfile')\n",
    "\n",
    "plt.show()"
   ]
  },
  {
   "cell_type": "code",
   "execution_count": null,
   "metadata": {},
   "outputs": [],
   "source": []
  },
  {
   "cell_type": "code",
   "execution_count": 33,
   "metadata": {},
   "outputs": [
    {
     "data": {
      "image/png": "[encoded data removed]",
      "text/plain": [
       "<Figure size 432x288 with 1 Axes>"
      ]
     },
     "metadata": {
      "needs_background": "light"
     },
     "output_type": "display_data"
    }
   ],
   "source": [
    "fontsize = 10\n",
    "\n",
    "fig, axes = plt.subplots()\n",
    "# plot violin. 'Scenario' is according to x axis, \n",
    "# 'LMP' is y axis, data is your dataframe. ax - is axes instance\n",
    "sns.violinplot('PatientBal','OrderingClinic', data=df, ax = axes)\n",
    "axes.set_title('provider profile vs Patient Balance')\n",
    "\n",
    "axes.yaxis.grid(True)\n",
    "axes.set_xlabel('PatientBal ($)')\n",
    "axes.set_ylabel('ProviderProfile')\n",
    "\n",
    "plt.show()"
   ]
  },
  {
   "cell_type": "code",
   "execution_count": null,
   "metadata": {},
   "outputs": [],
   "source": []
  },
  {
   "cell_type": "code",
   "execution_count": null,
   "metadata": {},
   "outputs": [],
   "source": []
  },
  {
   "cell_type": "code",
   "execution_count": null,
   "metadata": {},
   "outputs": [],
   "source": []
  },
  {
   "cell_type": "code",
   "execution_count": null,
   "metadata": {},
   "outputs": [],
   "source": []
  },
  {
   "cell_type": "code",
   "execution_count": null,
   "metadata": {},
   "outputs": [],
   "source": []
  },
  {
   "cell_type": "code",
   "execution_count": null,
   "metadata": {},
   "outputs": [],
   "source": []
  },
  {
   "cell_type": "code",
   "execution_count": null,
   "metadata": {},
   "outputs": [],
   "source": []
  },
  {
   "cell_type": "code",
   "execution_count": null,
   "metadata": {},
   "outputs": [],
   "source": []
  },
  {
   "cell_type": "code",
   "execution_count": null,
   "metadata": {},
   "outputs": [],
   "source": []
  },
  {
   "cell_type": "code",
   "execution_count": 34,
   "metadata": {},
   "outputs": [
    {
     "ename": "ValueError",
     "evalue": "Could not interpret input 'ProviderProfile'",
     "output_type": "error",
     "traceback": [
      "\u001b[1;31m---------------------------------------------------------------------------\u001b[0m",
      "\u001b[1;31mValueError\u001b[0m                                Traceback (most recent call last)",
      "\u001b[1;32m<ipython-input-34-3b99e95941b3>\u001b[0m in \u001b[0;36m<module>\u001b[1;34m\u001b[0m\n\u001b[1;32m----> 1\u001b[1;33m \u001b[0max\u001b[0m \u001b[1;33m=\u001b[0m \u001b[0msns\u001b[0m\u001b[1;33m.\u001b[0m\u001b[0mviolinplot\u001b[0m\u001b[1;33m(\u001b[0m\u001b[0mx\u001b[0m\u001b[1;33m=\u001b[0m\u001b[1;34m\"ProviderProfile\"\u001b[0m\u001b[1;33m,\u001b[0m \u001b[0my\u001b[0m\u001b[1;33m=\u001b[0m\u001b[1;34m\"accepted\"\u001b[0m\u001b[1;33m,\u001b[0m \u001b[0minner\u001b[0m\u001b[1;33m=\u001b[0m\u001b[1;34m'quartile'\u001b[0m\u001b[1;33m,\u001b[0m \u001b[0mdata\u001b[0m\u001b[1;33m=\u001b[0m\u001b[0mcharges\u001b[0m\u001b[1;33m)\u001b[0m\u001b[1;33m\u001b[0m\u001b[1;33m\u001b[0m\u001b[0m\n\u001b[0m\u001b[0;32m      2\u001b[0m \u001b[0max\u001b[0m\u001b[1;33m.\u001b[0m\u001b[0mset_title\u001b[0m\u001b[1;33m(\u001b[0m\u001b[1;34m'Distribution of tips'\u001b[0m\u001b[1;33m,\u001b[0m \u001b[0mfontsize\u001b[0m\u001b[1;33m=\u001b[0m\u001b[1;36m16\u001b[0m\u001b[1;33m)\u001b[0m\u001b[1;33m;\u001b[0m\u001b[1;33m\u001b[0m\u001b[1;33m\u001b[0m\u001b[0m\n",
      "\u001b[1;32m~\\Anaconda3\\lib\\site-packages\\seaborn\\categorical.py\u001b[0m in \u001b[0;36mviolinplot\u001b[1;34m(x, y, hue, data, order, hue_order, bw, cut, scale, scale_hue, gridsize, width, inner, split, dodge, orient, linewidth, color, palette, saturation, ax, **kwargs)\u001b[0m\n\u001b[0;32m   2385\u001b[0m                              \u001b[0mbw\u001b[0m\u001b[1;33m,\u001b[0m \u001b[0mcut\u001b[0m\u001b[1;33m,\u001b[0m \u001b[0mscale\u001b[0m\u001b[1;33m,\u001b[0m \u001b[0mscale_hue\u001b[0m\u001b[1;33m,\u001b[0m \u001b[0mgridsize\u001b[0m\u001b[1;33m,\u001b[0m\u001b[1;33m\u001b[0m\u001b[1;33m\u001b[0m\u001b[0m\n\u001b[0;32m   2386\u001b[0m                              \u001b[0mwidth\u001b[0m\u001b[1;33m,\u001b[0m \u001b[0minner\u001b[0m\u001b[1;33m,\u001b[0m \u001b[0msplit\u001b[0m\u001b[1;33m,\u001b[0m \u001b[0mdodge\u001b[0m\u001b[1;33m,\u001b[0m \u001b[0morient\u001b[0m\u001b[1;33m,\u001b[0m \u001b[0mlinewidth\u001b[0m\u001b[1;33m,\u001b[0m\u001b[1;33m\u001b[0m\u001b[1;33m\u001b[0m\u001b[0m\n\u001b[1;32m-> 2387\u001b[1;33m                              color, palette, saturation)\n\u001b[0m\u001b[0;32m   2388\u001b[0m \u001b[1;33m\u001b[0m\u001b[0m\n\u001b[0;32m   2389\u001b[0m     \u001b[1;32mif\u001b[0m \u001b[0max\u001b[0m \u001b[1;32mis\u001b[0m \u001b[1;32mNone\u001b[0m\u001b[1;33m:\u001b[0m\u001b[1;33m\u001b[0m\u001b[1;33m\u001b[0m\u001b[0m\n",
      "\u001b[1;32m~\\Anaconda3\\lib\\site-packages\\seaborn\\categorical.py\u001b[0m in \u001b[0;36m__init__\u001b[1;34m(self, x, y, hue, data, order, hue_order, bw, cut, scale, scale_hue, gridsize, width, inner, split, dodge, orient, linewidth, color, palette, saturation)\u001b[0m\n\u001b[0;32m    560\u001b[0m                  color, palette, saturation):\n\u001b[0;32m    561\u001b[0m \u001b[1;33m\u001b[0m\u001b[0m\n\u001b[1;32m--> 562\u001b[1;33m         \u001b[0mself\u001b[0m\u001b[1;33m.\u001b[0m\u001b[0mestablish_variables\u001b[0m\u001b[1;33m(\u001b[0m\u001b[0mx\u001b[0m\u001b[1;33m,\u001b[0m \u001b[0my\u001b[0m\u001b[1;33m,\u001b[0m \u001b[0mhue\u001b[0m\u001b[1;33m,\u001b[0m \u001b[0mdata\u001b[0m\u001b[1;33m,\u001b[0m \u001b[0morient\u001b[0m\u001b[1;33m,\u001b[0m \u001b[0morder\u001b[0m\u001b[1;33m,\u001b[0m \u001b[0mhue_order\u001b[0m\u001b[1;33m)\u001b[0m\u001b[1;33m\u001b[0m\u001b[1;33m\u001b[0m\u001b[0m\n\u001b[0m\u001b[0;32m    563\u001b[0m         \u001b[0mself\u001b[0m\u001b[1;33m.\u001b[0m\u001b[0mestablish_colors\u001b[0m\u001b[1;33m(\u001b[0m\u001b[0mcolor\u001b[0m\u001b[1;33m,\u001b[0m \u001b[0mpalette\u001b[0m\u001b[1;33m,\u001b[0m \u001b[0msaturation\u001b[0m\u001b[1;33m)\u001b[0m\u001b[1;33m\u001b[0m\u001b[1;33m\u001b[0m\u001b[0m\n\u001b[0;32m    564\u001b[0m         \u001b[0mself\u001b[0m\u001b[1;33m.\u001b[0m\u001b[0mestimate_densities\u001b[0m\u001b[1;33m(\u001b[0m\u001b[0mbw\u001b[0m\u001b[1;33m,\u001b[0m \u001b[0mcut\u001b[0m\u001b[1;33m,\u001b[0m \u001b[0mscale\u001b[0m\u001b[1;33m,\u001b[0m \u001b[0mscale_hue\u001b[0m\u001b[1;33m,\u001b[0m \u001b[0mgridsize\u001b[0m\u001b[1;33m)\u001b[0m\u001b[1;33m\u001b[0m\u001b[1;33m\u001b[0m\u001b[0m\n",
      "\u001b[1;32m~\\Anaconda3\\lib\\site-packages\\seaborn\\categorical.py\u001b[0m in \u001b[0;36mestablish_variables\u001b[1;34m(self, x, y, hue, data, orient, order, hue_order, units)\u001b[0m\n\u001b[0;32m    153\u001b[0m                 \u001b[1;32mif\u001b[0m \u001b[0misinstance\u001b[0m\u001b[1;33m(\u001b[0m\u001b[0minput\u001b[0m\u001b[1;33m,\u001b[0m \u001b[0mstring_types\u001b[0m\u001b[1;33m)\u001b[0m\u001b[1;33m:\u001b[0m\u001b[1;33m\u001b[0m\u001b[1;33m\u001b[0m\u001b[0m\n\u001b[0;32m    154\u001b[0m                     \u001b[0merr\u001b[0m \u001b[1;33m=\u001b[0m \u001b[1;34m\"Could not interpret input '{}'\"\u001b[0m\u001b[1;33m.\u001b[0m\u001b[0mformat\u001b[0m\u001b[1;33m(\u001b[0m\u001b[0minput\u001b[0m\u001b[1;33m)\u001b[0m\u001b[1;33m\u001b[0m\u001b[1;33m\u001b[0m\u001b[0m\n\u001b[1;32m--> 155\u001b[1;33m                     \u001b[1;32mraise\u001b[0m \u001b[0mValueError\u001b[0m\u001b[1;33m(\u001b[0m\u001b[0merr\u001b[0m\u001b[1;33m)\u001b[0m\u001b[1;33m\u001b[0m\u001b[1;33m\u001b[0m\u001b[0m\n\u001b[0m\u001b[0;32m    156\u001b[0m \u001b[1;33m\u001b[0m\u001b[0m\n\u001b[0;32m    157\u001b[0m             \u001b[1;31m# Figure out the plotting orientation\u001b[0m\u001b[1;33m\u001b[0m\u001b[1;33m\u001b[0m\u001b[1;33m\u001b[0m\u001b[0m\n",
      "\u001b[1;31mValueError\u001b[0m: Could not interpret input 'ProviderProfile'"
     ]
    }
   ],
   "source": [
    "ax = sns.violinplot(x=\"ProviderProfile\", y=\"accepted\", inner='quartile', data=charges)\n",
    "ax.set_title('Distribution of tips', fontsize=16);\n"
   ]
  },
  {
   "cell_type": "code",
   "execution_count": null,
   "metadata": {},
   "outputs": [],
   "source": []
  },
  {
   "cell_type": "code",
   "execution_count": null,
   "metadata": {},
   "outputs": [],
   "source": []
  },
  {
   "cell_type": "code",
   "execution_count": null,
   "metadata": {},
   "outputs": [],
   "source": []
  },
  {
   "cell_type": "code",
   "execution_count": null,
   "metadata": {},
   "outputs": [],
   "source": []
  },
  {
   "cell_type": "code",
   "execution_count": null,
   "metadata": {},
   "outputs": [],
   "source": []
  },
  {
   "cell_type": "code",
   "execution_count": null,
   "metadata": {},
   "outputs": [],
   "source": []
  },
  {
   "cell_type": "code",
   "execution_count": null,
   "metadata": {},
   "outputs": [],
   "source": []
  },
  {
   "cell_type": "code",
   "execution_count": null,
   "metadata": {},
   "outputs": [],
   "source": []
  },
  {
   "cell_type": "code",
   "execution_count": null,
   "metadata": {},
   "outputs": [],
   "source": []
  },
  {
   "cell_type": "code",
   "execution_count": null,
   "metadata": {},
   "outputs": [],
   "source": []
  },
  {
   "cell_type": "code",
   "execution_count": null,
   "metadata": {},
   "outputs": [],
   "source": []
  },
  {
   "cell_type": "code",
   "execution_count": null,
   "metadata": {},
   "outputs": [],
   "source": [
    "timedelta=df['timedelta']\n",
    "timedelta.plot(kind='kde', title='timedelta kde plot')"
   ]
  },
  {
   "cell_type": "code",
   "execution_count": null,
   "metadata": {},
   "outputs": [],
   "source": [
    "timedelta.plot(kind='box', title='timedelta box plot')"
   ]
  },
  {
   "cell_type": "code",
   "execution_count": null,
   "metadata": {},
   "outputs": [],
   "source": []
  },
  {
   "cell_type": "code",
   "execution_count": null,
   "metadata": {},
   "outputs": [],
   "source": [
    "payments=df['Payments']"
   ]
  },
  {
   "cell_type": "code",
   "execution_count": null,
   "metadata": {},
   "outputs": [],
   "source": [
    "payments.plot(kind='box', title='payments box plot')"
   ]
  },
  {
   "cell_type": "code",
   "execution_count": null,
   "metadata": {},
   "outputs": [],
   "source": []
  },
  {
   "cell_type": "code",
   "execution_count": null,
   "metadata": {},
   "outputs": [],
   "source": [
    "payments.plot(kind='kde', title='payments box plot')"
   ]
  },
  {
   "cell_type": "code",
   "execution_count": null,
   "metadata": {},
   "outputs": [],
   "source": [
    "financialClass=df['FinancialClass']"
   ]
  },
  {
   "cell_type": "code",
   "execution_count": null,
   "metadata": {},
   "outputs": [],
   "source": [
    "payments.plot(kind='hist',bins=25, title='payments hist plot')"
   ]
  },
  {
   "cell_type": "code",
   "execution_count": null,
   "metadata": {},
   "outputs": [],
   "source": []
  },
  {
   "cell_type": "code",
   "execution_count": null,
   "metadata": {},
   "outputs": [],
   "source": []
  },
  {
   "cell_type": "code",
   "execution_count": null,
   "metadata": {},
   "outputs": [],
   "source": []
  },
  {
   "cell_type": "code",
   "execution_count": null,
   "metadata": {},
   "outputs": [],
   "source": []
  },
  {
   "cell_type": "code",
   "execution_count": null,
   "metadata": {},
   "outputs": [],
   "source": [
    "plt.figure(figsize=(20,12))\n",
    "sns.scatterplot(x=charges, y=payments, hue=financialClass,data=df)"
   ]
  },
  {
   "cell_type": "code",
   "execution_count": null,
   "metadata": {},
   "outputs": [],
   "source": [
    "df_cov = df.cov()"
   ]
  },
  {
   "cell_type": "code",
   "execution_count": null,
   "metadata": {},
   "outputs": [],
   "source": [
    "df_cov"
   ]
  },
  {
   "cell_type": "code",
   "execution_count": null,
   "metadata": {},
   "outputs": [],
   "source": [
    "df_cor= df.corr()\n",
    "df_cor"
   ]
  },
  {
   "cell_type": "code",
   "execution_count": null,
   "metadata": {},
   "outputs": [],
   "source": [
    "plt.figure(figsize=(12,10))\n",
    "sns.heatmap(df_cor,annot=True)"
   ]
  },
  {
   "cell_type": "code",
   "execution_count": null,
   "metadata": {},
   "outputs": [],
   "source": [
    "boxplot = df.boxplot(grid=False, rot=90, fontsize=10)\n",
    "plot_val= ['Charges','Payments', 'InsurancePayment', 'PatientPayment', 'InsuranceBal', 'PatientBal','AllowedAmount']\n",
    "df[plot_val].plot(kind='box')"
   ]
  },
  {
   "cell_type": "code",
   "execution_count": null,
   "metadata": {
    "scrolled": true
   },
   "outputs": [],
   "source": [
    "fig = plt.figure(figsize = (15,20))\n",
    "ax = fig.gca()\n",
    "   \n",
    "histplot = df.hist(ax = ax)"
   ]
  }
 ],
 "metadata": {
  "kernelspec": {
   "display_name": "Python 3",
   "language": "python",
   "name": "python3"
  },
  "language_info": {
   "codemirror_mode": {
    "name": "ipython",
    "version": 3
   },
   "file_extension": ".py",
   "mimetype": "text/x-python",
   "name": "python",
   "nbconvert_exporter": "python",
   "pygments_lexer": "ipython3",
   "version": "3.7.4"
  }
 },
 "nbformat": 4,
 "nbformat_minor": 2
}
