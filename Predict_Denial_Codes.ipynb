{
 "cells": [
  {
   "cell_type": "code",
   "execution_count": 25,
   "metadata": {},
   "outputs": [],
   "source": [
    "import numpy as np\n",
    "import pandas as pd\n",
    "from sklearn.model_selection import train_test_split\n",
    "from sklearn import  preprocessing # used for label encoding and imputing NaNs"
   ]
  },
  {
   "cell_type": "code",
   "execution_count": 26,
   "metadata": {},
   "outputs": [
    {
     "data": {
      "text/html": [
       "<div>\n",
       "<style scoped>\n",
       "    .dataframe tbody tr th:only-of-type {\n",
       "        vertical-align: middle;\n",
       "    }\n",
       "\n",
       "    .dataframe tbody tr th {\n",
       "        vertical-align: top;\n",
       "    }\n",
       "\n",
       "    .dataframe thead th {\n",
       "        text-align: right;\n",
       "    }\n",
       "</style>\n",
       "<table border=\"1\" class=\"dataframe\">\n",
       "  <thead>\n",
       "    <tr style=\"text-align: right;\">\n",
       "      <th></th>\n",
       "      <th>Ticket Number</th>\n",
       "      <th>DateOfService</th>\n",
       "      <th>CarrierCode</th>\n",
       "      <th>Charges</th>\n",
       "      <th>Payments</th>\n",
       "      <th>InsurancePayment</th>\n",
       "      <th>PatientPayment</th>\n",
       "      <th>Writeoffs</th>\n",
       "      <th>InsuranceBal</th>\n",
       "      <th>PatientBal</th>\n",
       "      <th>...</th>\n",
       "      <th>CPT</th>\n",
       "      <th>DateOfEntry</th>\n",
       "      <th>PaymentPostDate</th>\n",
       "      <th>NPI</th>\n",
       "      <th>OrderingClinic</th>\n",
       "      <th>DeniedCode</th>\n",
       "      <th>FirstBilledDate</th>\n",
       "      <th>ProviderProfile</th>\n",
       "      <th>CaseCount</th>\n",
       "      <th>accepted</th>\n",
       "    </tr>\n",
       "  </thead>\n",
       "  <tbody>\n",
       "    <tr>\n",
       "      <th>0</th>\n",
       "      <td>104452</td>\n",
       "      <td>2019-01-02</td>\n",
       "      <td>CFHP-E2</td>\n",
       "      <td>3900</td>\n",
       "      <td>0.0</td>\n",
       "      <td>0.0</td>\n",
       "      <td>0.0</td>\n",
       "      <td>0.0</td>\n",
       "      <td>0.0</td>\n",
       "      <td>3900.0</td>\n",
       "      <td>...</td>\n",
       "      <td>81507</td>\n",
       "      <td>1/7/2019</td>\n",
       "      <td>1/22/2019</td>\n",
       "      <td>1316428238</td>\n",
       "      <td>ALAMO WOMEN'S OBGYN</td>\n",
       "      <td>197</td>\n",
       "      <td>2019-01-08</td>\n",
       "      <td>NTINC</td>\n",
       "      <td>1</td>\n",
       "      <td>False</td>\n",
       "    </tr>\n",
       "    <tr>\n",
       "      <th>1</th>\n",
       "      <td>104453</td>\n",
       "      <td>2019-01-02</td>\n",
       "      <td>CFHP-E2</td>\n",
       "      <td>3900</td>\n",
       "      <td>0.0</td>\n",
       "      <td>0.0</td>\n",
       "      <td>0.0</td>\n",
       "      <td>0.0</td>\n",
       "      <td>0.0</td>\n",
       "      <td>3900.0</td>\n",
       "      <td>...</td>\n",
       "      <td>81507</td>\n",
       "      <td>1/7/2019</td>\n",
       "      <td>1/24/2019</td>\n",
       "      <td>1316428238</td>\n",
       "      <td>ALAMO WOMEN'S OBGYN</td>\n",
       "      <td>197</td>\n",
       "      <td>2019-01-08</td>\n",
       "      <td>NTINC</td>\n",
       "      <td>1</td>\n",
       "      <td>False</td>\n",
       "    </tr>\n",
       "    <tr>\n",
       "      <th>2</th>\n",
       "      <td>104454</td>\n",
       "      <td>2019-01-02</td>\n",
       "      <td>NCS</td>\n",
       "      <td>795</td>\n",
       "      <td>249.0</td>\n",
       "      <td>0.0</td>\n",
       "      <td>249.0</td>\n",
       "      <td>546.0</td>\n",
       "      <td>0.0</td>\n",
       "      <td>0.0</td>\n",
       "      <td>...</td>\n",
       "      <td>99999</td>\n",
       "      <td>1/7/2019</td>\n",
       "      <td>2/10/2019</td>\n",
       "      <td>1699760116</td>\n",
       "      <td>COMPREHENSIVE WOMEN'S HEALTHCARE</td>\n",
       "      <td>-</td>\n",
       "      <td>NaT</td>\n",
       "      <td>NTINC</td>\n",
       "      <td>1</td>\n",
       "      <td>True</td>\n",
       "    </tr>\n",
       "    <tr>\n",
       "      <th>3</th>\n",
       "      <td>104496</td>\n",
       "      <td>2019-01-02</td>\n",
       "      <td>AETLIF-E</td>\n",
       "      <td>3900</td>\n",
       "      <td>0.0</td>\n",
       "      <td>0.0</td>\n",
       "      <td>0.0</td>\n",
       "      <td>0.0</td>\n",
       "      <td>3900.0</td>\n",
       "      <td>0.0</td>\n",
       "      <td>...</td>\n",
       "      <td>81420</td>\n",
       "      <td>1/7/2019</td>\n",
       "      <td>1/28/2019</td>\n",
       "      <td>1609216597</td>\n",
       "      <td>PEACHTREE WOMEN'S CLINIC - NORTHSIDE</td>\n",
       "      <td>-</td>\n",
       "      <td>2019-01-08</td>\n",
       "      <td>NTINC</td>\n",
       "      <td>1</td>\n",
       "      <td>True</td>\n",
       "    </tr>\n",
       "    <tr>\n",
       "      <th>4</th>\n",
       "      <td>104497</td>\n",
       "      <td>2019-01-02</td>\n",
       "      <td>AETLIF-E</td>\n",
       "      <td>3900</td>\n",
       "      <td>0.0</td>\n",
       "      <td>0.0</td>\n",
       "      <td>0.0</td>\n",
       "      <td>0.0</td>\n",
       "      <td>3900.0</td>\n",
       "      <td>0.0</td>\n",
       "      <td>...</td>\n",
       "      <td>81420</td>\n",
       "      <td>1/7/2019</td>\n",
       "      <td>1/30/2019</td>\n",
       "      <td>1609216597</td>\n",
       "      <td>PEACHTREE WOMEN'S CLINIC - NORTHSIDE</td>\n",
       "      <td>-</td>\n",
       "      <td>2019-01-08</td>\n",
       "      <td>NTINC</td>\n",
       "      <td>1</td>\n",
       "      <td>True</td>\n",
       "    </tr>\n",
       "  </tbody>\n",
       "</table>\n",
       "<p>5 rows × 22 columns</p>\n",
       "</div>"
      ],
      "text/plain": [
       "   Ticket Number DateOfService CarrierCode  Charges  Payments  \\\n",
       "0         104452    2019-01-02     CFHP-E2     3900       0.0   \n",
       "1         104453    2019-01-02     CFHP-E2     3900       0.0   \n",
       "2         104454    2019-01-02         NCS      795     249.0   \n",
       "3         104496    2019-01-02    AETLIF-E     3900       0.0   \n",
       "4         104497    2019-01-02    AETLIF-E     3900       0.0   \n",
       "\n",
       "   InsurancePayment  PatientPayment  Writeoffs  InsuranceBal  PatientBal  ...  \\\n",
       "0               0.0             0.0        0.0           0.0      3900.0  ...   \n",
       "1               0.0             0.0        0.0           0.0      3900.0  ...   \n",
       "2               0.0           249.0      546.0           0.0         0.0  ...   \n",
       "3               0.0             0.0        0.0        3900.0         0.0  ...   \n",
       "4               0.0             0.0        0.0        3900.0         0.0  ...   \n",
       "\n",
       "     CPT DateOfEntry PaymentPostDate         NPI  \\\n",
       "0  81507    1/7/2019       1/22/2019  1316428238   \n",
       "1  81507    1/7/2019       1/24/2019  1316428238   \n",
       "2  99999    1/7/2019       2/10/2019  1699760116   \n",
       "3  81420    1/7/2019       1/28/2019  1609216597   \n",
       "4  81420    1/7/2019       1/30/2019  1609216597   \n",
       "\n",
       "                         OrderingClinic  DeniedCode FirstBilledDate  \\\n",
       "0                   ALAMO WOMEN'S OBGYN         197      2019-01-08   \n",
       "1                   ALAMO WOMEN'S OBGYN         197      2019-01-08   \n",
       "2      COMPREHENSIVE WOMEN'S HEALTHCARE           -             NaT   \n",
       "3  PEACHTREE WOMEN'S CLINIC - NORTHSIDE           -      2019-01-08   \n",
       "4  PEACHTREE WOMEN'S CLINIC - NORTHSIDE           -      2019-01-08   \n",
       "\n",
       "  ProviderProfile CaseCount accepted  \n",
       "0           NTINC         1    False  \n",
       "1           NTINC         1    False  \n",
       "2           NTINC         1     True  \n",
       "3           NTINC         1     True  \n",
       "4           NTINC         1     True  \n",
       "\n",
       "[5 rows x 22 columns]"
      ]
     },
     "execution_count": 26,
     "metadata": {},
     "output_type": "execute_result"
    }
   ],
   "source": [
    "claimsdata = pd.read_csv(\"processedData.csv\", parse_dates=['DateOfService', 'FirstBilledDate'])\n",
    "claimsdata.head()"
   ]
  },
  {
   "cell_type": "code",
   "execution_count": 27,
   "metadata": {},
   "outputs": [],
   "source": [
    "claimsdata = claimsdata.loc[claimsdata['accepted'] == False]"
   ]
  },
  {
   "cell_type": "code",
   "execution_count": 28,
   "metadata": {},
   "outputs": [
    {
     "data": {
      "text/plain": [
       "(13661, 22)"
      ]
     },
     "execution_count": 28,
     "metadata": {},
     "output_type": "execute_result"
    }
   ],
   "source": [
    "claimsdata.shape"
   ]
  },
  {
   "cell_type": "code",
   "execution_count": 29,
   "metadata": {},
   "outputs": [
    {
     "data": {
      "text/plain": [
       "array(['197', '96', '27', '242', '50', '109', '204', '16', '31', '24',\n",
       "       '56', '15', '55', '279', '252', '170', 'A1', '256', '133', '198',\n",
       "       '39', 'B11', '23', '8', '272', '182', '131', '18', '97', '167',\n",
       "       '231', '222', '216', '234', '5', '200', '226', '129', '206', '208',\n",
       "       '22', '4', '257', '177', '163', 'B22', '95', '33', '227', 'B5',\n",
       "       'B7', '26', '243', '104', '140', '185', '62', '119', '49', '11',\n",
       "       '102', '250', '9', 'P14', '183', '166', 'N52', '151', '10', '150',\n",
       "       '284', '239', 'B15', '288', '181', 'B97', '148', '146', '32'],\n",
       "      dtype=object)"
      ]
     },
     "execution_count": 29,
     "metadata": {},
     "output_type": "execute_result"
    }
   ],
   "source": [
    "claimsdata.DeniedCode.unique() #Multiclass Clasification"
   ]
  },
  {
   "cell_type": "code",
   "execution_count": 30,
   "metadata": {},
   "outputs": [
    {
     "data": {
      "text/plain": [
       "197    4091\n",
       "55     1725\n",
       "96     1344\n",
       "252     974\n",
       "16      943\n",
       "204     566\n",
       "97      415\n",
       "27      329\n",
       "109     260\n",
       "A1      239\n",
       "256     224\n",
       "133     205\n",
       "4       201\n",
       "231     186\n",
       "50      183\n",
       "198     127\n",
       "15      117\n",
       "B11     113\n",
       "23      112\n",
       "P14     104\n",
       "31       93\n",
       "272      86\n",
       "39       84\n",
       "24       63\n",
       "222      60\n",
       "242      58\n",
       "216      50\n",
       "185      47\n",
       "182      42\n",
       "11       42\n",
       "243      40\n",
       "B22      38\n",
       "8        33\n",
       "49       32\n",
       "279      32\n",
       "22       29\n",
       "177      27\n",
       "B5       26\n",
       "18       25\n",
       "26       23\n",
       "227      22\n",
       "B7       19\n",
       "56       18\n",
       "95       18\n",
       "146      17\n",
       "10       16\n",
       "119      16\n",
       "166      14\n",
       "226      12\n",
       "B97      12\n",
       "167      10\n",
       "206      10\n",
       "250       9\n",
       "62        6\n",
       "N52       6\n",
       "234       6\n",
       "200       6\n",
       "131       5\n",
       "170       5\n",
       "181       4\n",
       "9         4\n",
       "5         4\n",
       "284       3\n",
       "150       3\n",
       "151       3\n",
       "102       3\n",
       "129       3\n",
       "183       2\n",
       "239       2\n",
       "288       2\n",
       "148       2\n",
       "140       2\n",
       "32        2\n",
       "B15       2\n",
       "163       1\n",
       "208       1\n",
       "257       1\n",
       "104       1\n",
       "33        1\n",
       "Name: DeniedCode, dtype: int64"
      ]
     },
     "execution_count": 30,
     "metadata": {},
     "output_type": "execute_result"
    }
   ],
   "source": [
    "pd.set_option('display.max_rows', 500)\n",
    "pd.value_counts(claimsdata.DeniedCode) #imbalance"
   ]
  },
  {
   "cell_type": "code",
   "execution_count": 31,
   "metadata": {},
   "outputs": [
    {
     "name": "stdout",
     "output_type": "stream",
     "text": [
      "[Index(['B7', '56', '95', '146', '10', '119', '166', '226', 'B97', '167', '206',\n",
      "       '250', '62', 'N52', '234', '200', '131', '170', '181', '9', '5', '284',\n",
      "       '150', '151', '102', '129', '183', '239', '288', '148', '140', '32',\n",
      "       'B15', '163', '208', '257', '104', '33'],\n",
      "      dtype='object'), Index(['22', '177', 'B5', '18', '26', '227'], dtype='object'), Index(['243', 'B22', '8', '49', '279'], dtype='object'), Index(['216', '185', '182', '11'], dtype='object'), Index(['24', '222', '242'], dtype='object'), Index(['31', '272', '39'], dtype='object')]\n"
     ]
    }
   ],
   "source": [
    "# Anything that occurs less than this will be replaced\n",
    "thresholds = [20,30,40,50,70,100]\n",
    "\n",
    "indexarr = [None,None,None,None,None,None]\n",
    "value_counts = claimsdata['DeniedCode'].value_counts() # DenialCode column \n",
    "for i in range (6):\n",
    "    to_replace = value_counts[value_counts <= thresholds[i]].index\n",
    "    indexarr[i]=to_replace\n",
    "    claimsdata['DeniedCode'].replace(to_replace, 'other-category-'+str(i+1), inplace=True)\n",
    "    value_counts = claimsdata['DeniedCode'].value_counts() # DenialCode column \n",
    "print(indexarr)"
   ]
  },
  {
   "cell_type": "code",
   "execution_count": 32,
   "metadata": {},
   "outputs": [
    {
     "data": {
      "image/png": "[encoded data removed]",
      "text/plain": [
       "<Figure size 576x432 with 1 Axes>"
      ]
     },
     "metadata": {
      "needs_background": "light"
     },
     "output_type": "display_data"
    }
   ],
   "source": [
    "import matplotlib.pyplot as plt\n",
    "fig = plt.figure(figsize=(8,6))\n",
    "claimsdata['DeniedCode'].value_counts().plot.bar(ylim=0)\n",
    "plt.show()\n",
    "\n",
    "#imbalanced"
   ]
  },
  {
   "cell_type": "markdown",
   "metadata": {},
   "source": [
    "Goal: \n",
    "    high prediction accuracy: majority class\n",
    "    reasonable accuracy: minority classes"
   ]
  },
  {
   "cell_type": "code",
   "execution_count": 33,
   "metadata": {},
   "outputs": [
    {
     "data": {
      "text/plain": [
       "197                 4091\n",
       "55                  1725\n",
       "96                  1344\n",
       "252                  974\n",
       "16                   943\n",
       "204                  566\n",
       "97                   415\n",
       "27                   329\n",
       "other-category-6     263\n",
       "109                  260\n",
       "other-category-1     251\n",
       "A1                   239\n",
       "256                  224\n",
       "133                  205\n",
       "4                    201\n",
       "231                  186\n",
       "50                   183\n",
       "other-category-5     181\n",
       "other-category-4     181\n",
       "other-category-3     175\n",
       "other-category-2     152\n",
       "198                  127\n",
       "15                   117\n",
       "B11                  113\n",
       "23                   112\n",
       "P14                  104\n",
       "Name: DeniedCode, dtype: int64"
      ]
     },
     "execution_count": 33,
     "metadata": {},
     "output_type": "execute_result"
    }
   ],
   "source": [
    "claimsdata['DeniedCode'].value_counts()"
   ]
  },
  {
   "cell_type": "code",
   "execution_count": 34,
   "metadata": {},
   "outputs": [
    {
     "data": {
      "text/html": [
       "<div>\n",
       "<style scoped>\n",
       "    .dataframe tbody tr th:only-of-type {\n",
       "        vertical-align: middle;\n",
       "    }\n",
       "\n",
       "    .dataframe tbody tr th {\n",
       "        vertical-align: top;\n",
       "    }\n",
       "\n",
       "    .dataframe thead th {\n",
       "        text-align: right;\n",
       "    }\n",
       "</style>\n",
       "<table border=\"1\" class=\"dataframe\">\n",
       "  <thead>\n",
       "    <tr style=\"text-align: right;\">\n",
       "      <th></th>\n",
       "      <th>DateOfService</th>\n",
       "      <th>FirstBilledDate</th>\n",
       "      <th>timedelta</th>\n",
       "    </tr>\n",
       "  </thead>\n",
       "  <tbody>\n",
       "    <tr>\n",
       "      <th>0</th>\n",
       "      <td>2019-01-02</td>\n",
       "      <td>2019-01-08</td>\n",
       "      <td>6</td>\n",
       "    </tr>\n",
       "    <tr>\n",
       "      <th>1</th>\n",
       "      <td>2019-01-02</td>\n",
       "      <td>2019-01-08</td>\n",
       "      <td>6</td>\n",
       "    </tr>\n",
       "    <tr>\n",
       "      <th>5</th>\n",
       "      <td>2019-01-02</td>\n",
       "      <td>2019-01-08</td>\n",
       "      <td>6</td>\n",
       "    </tr>\n",
       "    <tr>\n",
       "      <th>6</th>\n",
       "      <td>2019-01-02</td>\n",
       "      <td>2019-01-08</td>\n",
       "      <td>6</td>\n",
       "    </tr>\n",
       "    <tr>\n",
       "      <th>9</th>\n",
       "      <td>2019-01-02</td>\n",
       "      <td>2019-01-08</td>\n",
       "      <td>6</td>\n",
       "    </tr>\n",
       "  </tbody>\n",
       "</table>\n",
       "</div>"
      ],
      "text/plain": [
       "  DateOfService FirstBilledDate  timedelta\n",
       "0    2019-01-02      2019-01-08          6\n",
       "1    2019-01-02      2019-01-08          6\n",
       "5    2019-01-02      2019-01-08          6\n",
       "6    2019-01-02      2019-01-08          6\n",
       "9    2019-01-02      2019-01-08          6"
      ]
     },
     "execution_count": 34,
     "metadata": {},
     "output_type": "execute_result"
    }
   ],
   "source": [
    "#derived variable timedelta\n",
    "claimsdata = claimsdata.dropna(subset=['FirstBilledDate']) #dropping down those records there is only few\n",
    "claimsdata['timedelta'] = (claimsdata['FirstBilledDate'] - claimsdata['DateOfService']).dt.days.astype(int)\n",
    "claimsdata[['DateOfService', 'FirstBilledDate', 'timedelta']].head()"
   ]
  },
  {
   "cell_type": "code",
   "execution_count": 35,
   "metadata": {},
   "outputs": [],
   "source": [
    "#Encoding categorical features\n",
    "#naive approach and assign a numeric value to each categorical feature\n",
    "#LabelEncoder()\n",
    "\n",
    "claimsdata['NPI'] = claimsdata['NPI'].astype('object')\n",
    "for c in claimsdata.columns:\n",
    "    if (claimsdata[c].dtype == 'object' and c!='DeniedCode'):\n",
    "        lbl = preprocessing.LabelEncoder()\n",
    "        lbl.fit(list(claimsdata[c].values)) \n",
    "        claimsdata[c] = lbl.transform(list(claimsdata[c].values))"
   ]
  },
  {
   "cell_type": "code",
   "execution_count": 36,
   "metadata": {},
   "outputs": [
    {
     "name": "stdout",
     "output_type": "stream",
     "text": [
      "<class 'pandas.core.frame.DataFrame'>\n",
      "Int64Index: 13661 entries, 0 to 22695\n",
      "Data columns (total 23 columns):\n",
      " #   Column            Non-Null Count  Dtype         \n",
      "---  ------            --------------  -----         \n",
      " 0   Ticket Number     13661 non-null  int64         \n",
      " 1   DateOfService     13661 non-null  datetime64[ns]\n",
      " 2   CarrierCode       13661 non-null  int64         \n",
      " 3   Charges           13661 non-null  int64         \n",
      " 4   Payments          13661 non-null  float64       \n",
      " 5   InsurancePayment  13661 non-null  float64       \n",
      " 6   PatientPayment    13661 non-null  float64       \n",
      " 7   Writeoffs         13661 non-null  float64       \n",
      " 8   InsuranceBal      13661 non-null  float64       \n",
      " 9   PatientBal        13661 non-null  float64       \n",
      " 10  AllowedAmount     13661 non-null  float64       \n",
      " 11  FinancialClass    13661 non-null  int64         \n",
      " 12  CPT               13661 non-null  int64         \n",
      " 13  DateOfEntry       13661 non-null  int64         \n",
      " 14  PaymentPostDate   13661 non-null  int64         \n",
      " 15  NPI               13661 non-null  int64         \n",
      " 16  OrderingClinic    13661 non-null  int64         \n",
      " 17  DeniedCode        13661 non-null  object        \n",
      " 18  FirstBilledDate   13661 non-null  datetime64[ns]\n",
      " 19  ProviderProfile   13661 non-null  int64         \n",
      " 20  CaseCount         13661 non-null  int64         \n",
      " 21  accepted          13661 non-null  bool          \n",
      " 22  timedelta         13661 non-null  int32         \n",
      "dtypes: bool(1), datetime64[ns](2), float64(7), int32(1), int64(11), object(1)\n",
      "memory usage: 2.4+ MB\n"
     ]
    }
   ],
   "source": [
    "claimsdata.info()"
   ]
  },
  {
   "cell_type": "code",
   "execution_count": 37,
   "metadata": {},
   "outputs": [],
   "source": [
    "#Remove unwanted columns\n",
    "X_claims = claimsdata.drop(['Ticket Number', 'CaseCount', 'DateOfService', 'FirstBilledDate', 'DeniedCode', 'PaymentPostDate', 'DateOfEntry', 'accepted'], axis=1)\n",
    "y_claims = claimsdata['DeniedCode']\n",
    "#split into train data and test data\n",
    "X_train, X_test, y_train, y_test = train_test_split(X_claims, y_claims, test_size = 0.20)"
   ]
  },
  {
   "cell_type": "code",
   "execution_count": 38,
   "metadata": {},
   "outputs": [
    {
     "name": "stdout",
     "output_type": "stream",
     "text": [
      "<class 'pandas.core.frame.DataFrame'>\n",
      "Int64Index: 13661 entries, 0 to 22695\n",
      "Data columns (total 15 columns):\n",
      " #   Column            Non-Null Count  Dtype  \n",
      "---  ------            --------------  -----  \n",
      " 0   CarrierCode       13661 non-null  int64  \n",
      " 1   Charges           13661 non-null  int64  \n",
      " 2   Payments          13661 non-null  float64\n",
      " 3   InsurancePayment  13661 non-null  float64\n",
      " 4   PatientPayment    13661 non-null  float64\n",
      " 5   Writeoffs         13661 non-null  float64\n",
      " 6   InsuranceBal      13661 non-null  float64\n",
      " 7   PatientBal        13661 non-null  float64\n",
      " 8   AllowedAmount     13661 non-null  float64\n",
      " 9   FinancialClass    13661 non-null  int64  \n",
      " 10  CPT               13661 non-null  int64  \n",
      " 11  NPI               13661 non-null  int64  \n",
      " 12  OrderingClinic    13661 non-null  int64  \n",
      " 13  ProviderProfile   13661 non-null  int64  \n",
      " 14  timedelta         13661 non-null  int32  \n",
      "dtypes: float64(7), int32(1), int64(7)\n",
      "memory usage: 1.6 MB\n"
     ]
    }
   ],
   "source": [
    "X_claims.info()"
   ]
  },
  {
   "cell_type": "code",
   "execution_count": 39,
   "metadata": {},
   "outputs": [
    {
     "data": {
      "text/plain": [
       "0.08635199414562751"
      ]
     },
     "execution_count": 39,
     "metadata": {},
     "output_type": "execute_result"
    }
   ],
   "source": [
    "from sklearn.naive_bayes import GaussianNB\n",
    "gnb = GaussianNB()\n",
    "gnb.fit(X_train,y_train)\n",
    "y_pred_test = gnb.predict(X_test)\n",
    "from sklearn.metrics import accuracy_score\n",
    "accuracy_score(y_test,y_pred_test)"
   ]
  },
  {
   "cell_type": "code",
   "execution_count": 40,
   "metadata": {},
   "outputs": [
    {
     "name": "stderr",
     "output_type": "stream",
     "text": [
      "C:\\Users\\Pubudu.C\\Anaconda3\\envs\\tensorflow_env\\lib\\site-packages\\sklearn\\linear_model\\_logistic.py:940: ConvergenceWarning: lbfgs failed to converge (status=1):\n",
      "STOP: TOTAL NO. of ITERATIONS REACHED LIMIT.\n",
      "\n",
      "Increase the number of iterations (max_iter) or scale the data as shown in:\n",
      "    https://scikit-learn.org/stable/modules/preprocessing.html\n",
      "Please also refer to the documentation for alternative solver options:\n",
      "    https://scikit-learn.org/stable/modules/linear_model.html#logistic-regression\n",
      "  extra_warning_msg=_LOGISTIC_SOLVER_CONVERGENCE_MSG)\n"
     ]
    },
    {
     "data": {
      "text/plain": [
       "0.33296743505305526"
      ]
     },
     "execution_count": 40,
     "metadata": {},
     "output_type": "execute_result"
    }
   ],
   "source": [
    "from sklearn.linear_model import LogisticRegression\n",
    "logreg = LogisticRegression()\n",
    "logreg.fit(X_train,y_train)\n",
    "logreg.score(X_test,y_test)\n",
    "y_pred = logreg.predict(X_test)\n",
    "from sklearn.metrics import accuracy_score\n",
    "accuracy_score(y_test,y_pred)"
   ]
  },
  {
   "cell_type": "code",
   "execution_count": 41,
   "metadata": {},
   "outputs": [
    {
     "data": {
      "text/plain": [
       "0.6106842297841201"
      ]
     },
     "execution_count": 41,
     "metadata": {},
     "output_type": "execute_result"
    }
   ],
   "source": [
    "from sklearn.neighbors import KNeighborsClassifier\n",
    "clf = KNeighborsClassifier(n_neighbors=3,algorithm='ball_tree')\n",
    "clf.fit(X_train,y_train)\n",
    "y_pred3 = clf.predict(X_test)\n",
    "accuracy_score(y_test,y_pred3)"
   ]
  },
  {
   "cell_type": "code",
   "execution_count": 42,
   "metadata": {},
   "outputs": [],
   "source": [
    "def run_decisionTree(X_train, X_test, y_train, y_test):\n",
    "    model = tree.DecisionTreeClassifier()\n",
    "    model.fit(X_train,y_train)\n",
    "    y_pred = model.predict(X_test)\n",
    "    print(\"Score: \", model.score(X_test, y_test))"
   ]
  },
  {
   "cell_type": "code",
   "execution_count": 43,
   "metadata": {},
   "outputs": [
    {
     "name": "stdout",
     "output_type": "stream",
     "text": [
      "selected features: 1\n",
      "Score:  0.6527625320160996\n",
      "\n",
      "selected features: 2\n",
      "Score:  0.7500914745700695\n",
      "\n",
      "selected features: 3\n",
      "Score:  0.752286864251738\n",
      "\n",
      "selected features: 4\n",
      "Score:  0.7954628613245518\n",
      "\n",
      "selected features: 5\n",
      "Score:  0.8111964873765093\n",
      "\n",
      "selected features: 6\n",
      "Score:  0.8294914013904134\n",
      "\n",
      "selected features: 7\n",
      "Score:  0.8280278082693011\n",
      "\n",
      "selected features: 8\n",
      "Score:  0.8236370289059641\n",
      "\n",
      "selected features: 9\n",
      "Score:  0.8880351262349067\n",
      "\n",
      "selected features: 10\n",
      "Score:  0.8865715331137943\n",
      "\n",
      "selected features: 11\n",
      "Score:  0.8990120746432492\n",
      "\n",
      "selected features: 12\n",
      "Score:  0.8993779729235273\n",
      "\n",
      "selected features: 13\n",
      "Score:  0.8986461763629711\n",
      "\n",
      "selected features: 14\n",
      "Score:  0.8990120746432492\n",
      "\n",
      "selected features: 15\n",
      "Score:  0.9015733626051957\n",
      "\n"
     ]
    }
   ],
   "source": [
    "from sklearn.ensemble import GradientBoostingClassifier\n",
    "from sklearn.feature_selection import RFE\n",
    "from sklearn import tree\n",
    "from sklearn.metrics import accuracy_score\n",
    "\n",
    "for index in range(1, 16):\n",
    "        decisionTreeRFELoop = RFE(tree.DecisionTreeClassifier(max_depth = 5),n_features_to_select = index)\n",
    "        decisionTreeRFELoop.fit(X_train,y_train)\n",
    "        X_train_DecisionTree_RFELoop = decisionTreeRFELoop.transform(X_train)\n",
    "        X_test_DecisionTree_RFELoop = decisionTreeRFELoop.transform(X_test)\n",
    "        print(\"selected features:\", index)\n",
    "        run_decisionTree(X_train_DecisionTree_RFELoop, X_test_DecisionTree_RFELoop, y_train, y_test)\n",
    "        print()"
   ]
  },
  {
   "cell_type": "code",
   "execution_count": 22,
   "metadata": {},
   "outputs": [],
   "source": [
    "#given data set is highly imbalanced"
   ]
  },
  {
   "cell_type": "code",
   "execution_count": 21,
   "metadata": {},
   "outputs": [],
   "source": [
    "#taking results categorizing many Deniedcodes together may not add much value to the business"
   ]
  },
  {
   "cell_type": "code",
   "execution_count": null,
   "metadata": {},
   "outputs": [],
   "source": [
    "#try with different models such as keras deep learning frameworks in future work"
   ]
  },
  {
   "cell_type": "code",
   "execution_count": null,
   "metadata": {},
   "outputs": [],
   "source": []
  },
  {
   "cell_type": "code",
   "execution_count": null,
   "metadata": {},
   "outputs": [],
   "source": []
  },
  {
   "cell_type": "code",
   "execution_count": null,
   "metadata": {},
   "outputs": [],
   "source": []
  },
  {
   "cell_type": "code",
   "execution_count": null,
   "metadata": {},
   "outputs": [],
   "source": []
  },
  {
   "cell_type": "code",
   "execution_count": null,
   "metadata": {},
   "outputs": [],
   "source": []
  },
  {
   "cell_type": "code",
   "execution_count": null,
   "metadata": {},
   "outputs": [],
   "source": []
  }
 ],
 "metadata": {
  "kernelspec": {
   "display_name": "Python 3",
   "language": "python",
   "name": "python3"
  },
  "language_info": {
   "codemirror_mode": {
    "name": "ipython",
    "version": 3
   },
   "file_extension": ".py",
   "mimetype": "text/x-python",
   "name": "python",
   "nbconvert_exporter": "python",
   "pygments_lexer": "ipython3",
   "version": "3.6.10"
  }
 },
 "nbformat": 4,
 "nbformat_minor": 4
}
