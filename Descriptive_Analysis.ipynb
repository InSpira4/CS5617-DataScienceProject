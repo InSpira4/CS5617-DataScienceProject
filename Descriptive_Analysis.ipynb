{
  "nbformat": 4,
  "nbformat_minor": 0,
  "metadata": {
    "colab": {
      "name": "Descriptive-Sugi.ipynb",
      "provenance": [],
      "toc_visible": true,
      "authorship_tag": "ABX9TyMuII21JS1pU/L8MEXMxMaS",
      "include_colab_link": true
    },
    "kernelspec": {
      "name": "python3",
      "display_name": "Python 3"
    }
  },
  "cells": [
    {
      "cell_type": "markdown",
      "metadata": {
        "id": "view-in-github",
        "colab_type": "text"
      },
      "source": [
        "<a href=\"https://colab.research.google.com/github/InSpira4/CS5617-DataScienceProject/blob/sugi/Descriptive_Analysis.ipynb\" target=\"_parent\"><img src=\"https://colab.research.google.com/assets/colab-badge.svg\" alt=\"Open In Colab\"/></a>"
      ]
    },
    {
      "cell_type": "code",
      "metadata": {
        "id": "7v1OS15nO0uP",
        "colab_type": "code",
        "outputId": "931efd77-9e53-427e-ad03-31b22f86dd01",
        "colab": {
          "base_uri": "https://localhost:8080/",
          "height": 122
        }
      },
      "source": [
        "from google.colab import drive\n",
        "drive.mount('/content/drive')"
      ],
      "execution_count": 2,
      "outputs": [
        {
          "output_type": "stream",
          "text": [
            "Go to this URL in a browser: https://accounts.google.com/o/oauth2/auth?client_id=947318989803-6bn6qk8qdgf4n4g3pfee6491hc0brc4i.apps.googleusercontent.com&redirect_uri=urn%3aietf%3awg%3aoauth%3a2.0%3aoob&response_type=code&scope=email%20https%3a%2f%2fwww.googleapis.com%2fauth%2fdocs.test%20https%3a%2f%2fwww.googleapis.com%2fauth%2fdrive%20https%3a%2f%2fwww.googleapis.com%2fauth%2fdrive.photos.readonly%20https%3a%2f%2fwww.googleapis.com%2fauth%2fpeopleapi.readonly\n",
            "\n",
            "Enter your authorization code:\n",
            "··········\n",
            "Mounted at /content/drive\n"
          ],
          "name": "stdout"
        }
      ]
    },
    {
      "cell_type": "code",
      "metadata": {
        "id": "QVO4AB2rgcyI",
        "colab_type": "code",
        "outputId": "5a352705-ffdb-4e34-9064-2bd0439bc614",
        "colab": {
          "base_uri": "https://localhost:8080/",
          "height": 394
        }
      },
      "source": [
        "import pandas as pd\n",
        "df = pd.read_csv('/content/drive/My Drive/Natera.csv');\n",
        "df.head()"
      ],
      "execution_count": 46,
      "outputs": [
        {
          "output_type": "execute_result",
          "data": {
            "text/html": [
              "<div>\n",
              "<style scoped>\n",
              "    .dataframe tbody tr th:only-of-type {\n",
              "        vertical-align: middle;\n",
              "    }\n",
              "\n",
              "    .dataframe tbody tr th {\n",
              "        vertical-align: top;\n",
              "    }\n",
              "\n",
              "    .dataframe thead th {\n",
              "        text-align: right;\n",
              "    }\n",
              "</style>\n",
              "<table border=\"1\" class=\"dataframe\">\n",
              "  <thead>\n",
              "    <tr style=\"text-align: right;\">\n",
              "      <th></th>\n",
              "      <th>Ticket Number</th>\n",
              "      <th>Date of Service</th>\n",
              "      <th>Carrier Code</th>\n",
              "      <th>Charges</th>\n",
              "      <th>Payments</th>\n",
              "      <th>Insurance Payment</th>\n",
              "      <th>Patient Payment</th>\n",
              "      <th>Writeoffs</th>\n",
              "      <th>FinancialClass</th>\n",
              "      <th>CPT</th>\n",
              "      <th>Date of Entry</th>\n",
              "      <th>Payment Post Date</th>\n",
              "      <th>NPI</th>\n",
              "      <th>Ordering Clinic</th>\n",
              "      <th>Denied Code</th>\n",
              "      <th>First Billed Date</th>\n",
              "      <th>Provider Profile</th>\n",
              "      <th>Insurance Bal</th>\n",
              "      <th>Patient Bal</th>\n",
              "      <th>Allowed Amount</th>\n",
              "      <th>Case Count</th>\n",
              "    </tr>\n",
              "  </thead>\n",
              "  <tbody>\n",
              "    <tr>\n",
              "      <th>0</th>\n",
              "      <td>104452</td>\n",
              "      <td>1/2/2019</td>\n",
              "      <td>CFHP-E2</td>\n",
              "      <td>$3,900.00</td>\n",
              "      <td>$0.00</td>\n",
              "      <td>$0.00</td>\n",
              "      <td>$0.00</td>\n",
              "      <td>$0.00</td>\n",
              "      <td>NC - NON-CONTRACTED</td>\n",
              "      <td>81507</td>\n",
              "      <td>1/7/2019</td>\n",
              "      <td>1/22/2019</td>\n",
              "      <td>1316428238</td>\n",
              "      <td>ALAMO WOMEN'S OBGYN</td>\n",
              "      <td>197</td>\n",
              "      <td>1/8/2019</td>\n",
              "      <td>NTINC</td>\n",
              "      <td>$0.00</td>\n",
              "      <td>$3,900.00</td>\n",
              "      <td>$0.00</td>\n",
              "      <td>1</td>\n",
              "    </tr>\n",
              "    <tr>\n",
              "      <th>1</th>\n",
              "      <td>104453</td>\n",
              "      <td>1/2/2019</td>\n",
              "      <td>CFHP-E2</td>\n",
              "      <td>$3,900.00</td>\n",
              "      <td>$0.00</td>\n",
              "      <td>$0.00</td>\n",
              "      <td>$0.00</td>\n",
              "      <td>$0.00</td>\n",
              "      <td>NC - NON-CONTRACTED</td>\n",
              "      <td>81507</td>\n",
              "      <td>1/7/2019</td>\n",
              "      <td>1/24/2019</td>\n",
              "      <td>1316428238</td>\n",
              "      <td>ALAMO WOMEN'S OBGYN</td>\n",
              "      <td>197</td>\n",
              "      <td>1/8/2019</td>\n",
              "      <td>NTINC</td>\n",
              "      <td>$0.00</td>\n",
              "      <td>$3,900.00</td>\n",
              "      <td>$0.00</td>\n",
              "      <td>1</td>\n",
              "    </tr>\n",
              "    <tr>\n",
              "      <th>2</th>\n",
              "      <td>104454</td>\n",
              "      <td>1/2/2019</td>\n",
              "      <td>NCS</td>\n",
              "      <td>$795.00</td>\n",
              "      <td>$249.00</td>\n",
              "      <td>$0.00</td>\n",
              "      <td>$249.00</td>\n",
              "      <td>$546.00</td>\n",
              "      <td>SP - SELF PAY</td>\n",
              "      <td>99999</td>\n",
              "      <td>1/7/2019</td>\n",
              "      <td>2/10/2019</td>\n",
              "      <td>1699760116</td>\n",
              "      <td>COMPREHENSIVE WOMEN'S HEALTHCARE</td>\n",
              "      <td>-</td>\n",
              "      <td>-</td>\n",
              "      <td>NTINC</td>\n",
              "      <td>$0.00</td>\n",
              "      <td>$0.00</td>\n",
              "      <td>$0.00</td>\n",
              "      <td>1</td>\n",
              "    </tr>\n",
              "    <tr>\n",
              "      <th>3</th>\n",
              "      <td>104496</td>\n",
              "      <td>1/2/2019</td>\n",
              "      <td>AETLIF-E</td>\n",
              "      <td>$3,900.00</td>\n",
              "      <td>$0.00</td>\n",
              "      <td>$0.00</td>\n",
              "      <td>$0.00</td>\n",
              "      <td>$0.00</td>\n",
              "      <td>CT - CONTRACTED</td>\n",
              "      <td>81420</td>\n",
              "      <td>1/7/2019</td>\n",
              "      <td>1/28/2019</td>\n",
              "      <td>1609216597</td>\n",
              "      <td>PEACHTREE WOMEN'S CLINIC - NORTHSIDE</td>\n",
              "      <td>-</td>\n",
              "      <td>1/8/2019</td>\n",
              "      <td>NTINC</td>\n",
              "      <td>$3,900.00</td>\n",
              "      <td>$0.00</td>\n",
              "      <td>$749.00</td>\n",
              "      <td>1</td>\n",
              "    </tr>\n",
              "    <tr>\n",
              "      <th>4</th>\n",
              "      <td>104497</td>\n",
              "      <td>1/2/2019</td>\n",
              "      <td>AETLIF-E</td>\n",
              "      <td>$3,900.00</td>\n",
              "      <td>$0.00</td>\n",
              "      <td>$0.00</td>\n",
              "      <td>$0.00</td>\n",
              "      <td>$0.00</td>\n",
              "      <td>CT - CONTRACTED</td>\n",
              "      <td>81420</td>\n",
              "      <td>1/7/2019</td>\n",
              "      <td>1/30/2019</td>\n",
              "      <td>1609216597</td>\n",
              "      <td>PEACHTREE WOMEN'S CLINIC - NORTHSIDE</td>\n",
              "      <td>-</td>\n",
              "      <td>1/8/2019</td>\n",
              "      <td>NTINC</td>\n",
              "      <td>$3,900.00</td>\n",
              "      <td>$0.00</td>\n",
              "      <td>$749.00</td>\n",
              "      <td>1</td>\n",
              "    </tr>\n",
              "  </tbody>\n",
              "</table>\n",
              "</div>"
            ],
            "text/plain": [
              "   Ticket Number Date of Service  ... Allowed Amount Case Count\n",
              "0         104452        1/2/2019  ...         $0.00           1\n",
              "1         104453        1/2/2019  ...         $0.00           1\n",
              "2         104454        1/2/2019  ...         $0.00           1\n",
              "3         104496        1/2/2019  ...       $749.00           1\n",
              "4         104497        1/2/2019  ...       $749.00           1\n",
              "\n",
              "[5 rows x 21 columns]"
            ]
          },
          "metadata": {
            "tags": []
          },
          "execution_count": 46
        }
      ]
    },
    {
      "cell_type": "code",
      "metadata": {
        "id": "FzvuQZbGU4mG",
        "colab_type": "code",
        "colab": {}
      },
      "source": [
        "cols = ['Payments', 'Charges', 'Insurance Payment', 'Patient Payment', 'Writeoffs', 'Insurance Bal', 'Patient Bal', 'Allowed Amount']\n",
        "for col in cols:\n",
        "  df[col] = pd.to_numeric(df[col].apply(lambda x: x.replace('$','')).apply(lambda x: x.replace(' ','')).apply(lambda x: x.replace(',','')).apply(lambda x: x.replace('(','')).apply(lambda x: x.replace(')','')))"
      ],
      "execution_count": 0,
      "outputs": []
    },
    {
      "cell_type": "code",
      "metadata": {
        "id": "jz6o4zD6Qz6-",
        "colab_type": "code",
        "colab": {}
      },
      "source": [
        "cols = ['Date of Service', 'Date of Entry', 'Payment Post Date', 'First Billed Date']\n",
        "for col in cols:\n",
        "  df[col] = pd.to_datetime(df[col], errors='coerce')"
      ],
      "execution_count": 0,
      "outputs": []
    },
    {
      "cell_type": "code",
      "metadata": {
        "id": "lRpV528CSYxY",
        "colab_type": "code",
        "colab": {}
      },
      "source": [
        "cols = ['Ticket Number', 'Carrier Code', 'FinancialClass', 'CPT', 'NPI', 'Ordering Clinic', 'Denied Code', 'Provider Profile']\n",
        "for col in cols:\n",
        "  df[col] = df[col].astype('str')"
      ],
      "execution_count": 0,
      "outputs": []
    },
    {
      "cell_type": "code",
      "metadata": {
        "id": "XcB2Ge_gThz9",
        "colab_type": "code",
        "colab": {
          "base_uri": "https://localhost:8080/",
          "height": 34
        },
        "outputId": "670a8bb0-e119-4c54-b639-68e1fffaa43c"
      },
      "source": [
        "def checkStatus(row):\n",
        "  if(row['Denied Code'].strip() == '-'  and row['Payment Post Date'] != pd.NaT):\n",
        "    return True\n",
        "  elif(row['Denied Code'].strip() != '-'):\n",
        "    return False\n",
        "  else:\n",
        "    return NaN\n",
        "df['accepted'] = df.apply(lambda row: checkStatus(row), axis=1)\n",
        "df['accepted'].sum()"
      ],
      "execution_count": 53,
      "outputs": [
        {
          "output_type": "execute_result",
          "data": {
            "text/plain": [
              "6298"
            ]
          },
          "metadata": {
            "tags": []
          },
          "execution_count": 53
        }
      ]
    },
    {
      "cell_type": "code",
      "metadata": {
        "id": "d2BJCUCGcZ9U",
        "colab_type": "code",
        "colab": {
          "base_uri": "https://localhost:8080/",
          "height": 221
        },
        "outputId": "a18b6326-87b1-4ff9-afc1-4c385dc0950e"
      },
      "source": [
        "df['accepted']"
      ],
      "execution_count": 52,
      "outputs": [
        {
          "output_type": "execute_result",
          "data": {
            "text/plain": [
              "0        False\n",
              "1        False\n",
              "2         True\n",
              "3         True\n",
              "4         True\n",
              "         ...  \n",
              "10352     True\n",
              "10353     True\n",
              "10354     True\n",
              "10355    False\n",
              "10356    False\n",
              "Name: accepted, Length: 10357, dtype: bool"
            ]
          },
          "metadata": {
            "tags": []
          },
          "execution_count": 52
        }
      ]
    }
  ]
}